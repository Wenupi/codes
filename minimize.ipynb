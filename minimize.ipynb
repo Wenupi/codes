{
 "cells": [
  {
   "cell_type": "markdown",
   "metadata": {},
   "source": [
    "# Primer intento: Minimize (esto es local NO SIRVE)"
   ]
  },
  {
   "cell_type": "code",
   "execution_count": 47,
   "metadata": {},
   "outputs": [],
   "source": [
    "import numpy as np\n",
    "import matplotlib.pyplot as plt\n",
    "from scipy.optimize import minimize\n",
    "from sympy import *\n",
    "from scipy.optimize import fsolve\n",
    "import math\n",
    "from matplotlib.colors import LogNorm\n",
    "from numpy import genfromtxt\n",
    "import pandas as pd\n",
    "\n",
    "plt.rcParams['axes.grid'] = False\n",
    "plt.rcParams['grid.alpha'] = 1\n",
    "plt.rcParams['grid.color'] = \"#cccccc\"\n",
    "plt.rcParams.update({\"font.size\": 15, \"font.family\": \"serif\"})"
   ]
  },
  {
   "cell_type": "code",
   "execution_count": 2,
   "metadata": {},
   "outputs": [
    {
     "data": {
      "text/plain": [
       "      fun: -0.9999999999999964\n",
       " hess_inv: array([[1.00005774]])\n",
       "      jac: array([9.68575478e-08])\n",
       "  message: 'Optimization terminated successfully.'\n",
       "     nfev: 12\n",
       "      nit: 4\n",
       "     njev: 6\n",
       "   status: 0\n",
       "  success: True\n",
       "        x: array([-1.57079624])"
      ]
     },
     "execution_count": 2,
     "metadata": {},
     "output_type": "execute_result"
    }
   ],
   "source": [
    "def f(x):\n",
    "    return np.sin(x)\n",
    "minimize(f, 0.1)"
   ]
  },
  {
   "cell_type": "code",
   "execution_count": 6,
   "metadata": {},
   "outputs": [],
   "source": [
    "def e0phi(lamb1, lamb2, lamb3):\n",
    "    return 1/2*(2*lamb1 + lamb2)\n",
    "\n",
    "def e1phi(lamb1, lamb2, lamb3):\n",
    "    return 1/2*(2*lamb1 - lamb2)\n",
    "\n",
    "def e2phi(lamb1, lamb2, lamb3):\n",
    "    return 1/2*(-2*lamb1 + lamb3)\n",
    "\n",
    "def e3phi(lamb1, lamb2, lamb3):\n",
    "    return 1/2*(-2*lamb1 - lamb3)\n",
    "\n",
    "\n",
    "e0t = 1/2*3\n",
    "e1t = 1/2*1\n",
    "e2t = 1/2*(-1)\n",
    "e3t = 1/2*(-3)\n",
    "\n",
    "e0AdS = complex(0, e0t)\n",
    "e1AdS = complex(0, e1t)\n",
    "e2AdS = complex(0, e2t)\n",
    "e3AdS = complex(0, e3t)\n"
   ]
  },
  {
   "cell_type": "code",
   "execution_count": 101,
   "metadata": {},
   "outputs": [],
   "source": [
    "def Qn(n, lamb1, lamb2, lamb3):\n",
    "    return 1/n*(e0phi(lamb1, lamb2, lamb3)**n + e1phi(lamb1, lamb2, lamb3)**n + e2phi(lamb1, lamb2, lamb3)**n + e3phi(lamb1, lamb2, lamb3)**n)\n",
    "\n",
    "def QnAdS(n):\n",
    "    return 1/n*(e0AdS**n + e1AdS**n + e2AdS**n + e3AdS**n)\n",
    "\n",
    "def S(lamb1, lamb2, lamb3):\n",
    "    return e0phi(lamb1, lamb2, lamb3)*e0t + e1phi(lamb1, lamb2, lamb3)*e1t + e2phi(lamb1, lamb2, lamb3)*e2t + e3phi(lamb1, lamb2, lamb3)*e3t\n",
    "\n",
    "def Gamma(lambs, mu3, mu4):\n",
    "    lamb1, lamb2, lamb3 = lambs\n",
    "    return np.real(5*(Qn(2, lamb1, lamb2, lamb3) - QnAdS(2)) + mu3*(Qn(3, lamb1, lamb2, lamb3) - QnAdS(3)) + mu4*(Qn(4, lamb1, lamb2, lamb3) - QnAdS(4)))"
   ]
  },
  {
   "cell_type": "code",
   "execution_count": 104,
   "metadata": {},
   "outputs": [
    {
     "name": "stderr",
     "output_type": "stream",
     "text": [
      "<ipython-input-104-24ff21bb8e81>:32: RuntimeWarning: divide by zero encountered in log\n",
      "  Q2_array[(n-1) - y, x] = np.log(2*lamb1**2 + 1/4*lamb2**2+1/4*lamb3**2)\n"
     ]
    }
   ],
   "source": [
    "def dQdlambda(lambs):\n",
    "    lamb1, lamb2, lamb3 = lambs\n",
    "    return 1/32*lamb2*lamb3*(4*lamb1 + lamb2 + lamb3)*(4*lamb1 - lamb2 + lamb3)*(4*lamb1 + lamb2 - lamb3)*(4*lamb1 - lamb2 - lamb3)\n",
    "\n",
    "def const_real(lambs):\n",
    "    lamb1, lamb2, lamb3 = lambs\n",
    "    return np.sum(np.iscomplex(lamb1)) + np.sum(np.iscomplex(lamb2)) + np.sum(np.iscomplex(lamb3))\n",
    "\n",
    "\n",
    "bnds = ((0, None), (0, None), (0, None))\n",
    "cons = {'type':'ineq', 'fun':dQdlambda}\n",
    "\n",
    "mu30 = 0.1\n",
    "mu3f = 4*np.pi\n",
    "mu40 = 0.1\n",
    "mu4f = 2*np.pi**2/5\n",
    "n = 100\n",
    "mu3list = np.linspace(mu30, mu3f, n)\n",
    "mu4list = np.linspace(mu40, mu4f, n)\n",
    "\n",
    "Q2_array = np.zeros((n, n))\n",
    "\n",
    "for y in range(len(mu4list)):\n",
    "    for x in range(len(mu3list)):\n",
    "        res = minimize(Gamma, (0.2, 0.2, 0.2), args=(mu3list[x], mu4list[y]), bounds=bnds, constraints=cons)\n",
    "        lamb1 = res.x[0]\n",
    "        lamb2 = res.x[1]\n",
    "        lamb3 = res.x[2]\n",
    "        #print(res.x)\n",
    "        #print(res)\n",
    "        #lamb1, lamb2, lamb3 =  res\n",
    "        Q2_array[(n-1) - y, x] = np.log(2*lamb1**2 + 1/4*lamb2**2+1/4*lamb3**2)\n"
   ]
  },
  {
   "cell_type": "code",
   "execution_count": 100,
   "metadata": {},
   "outputs": [
    {
     "data": {
      "text/plain": [
       "(25+0j)"
      ]
     },
     "execution_count": 100,
     "metadata": {},
     "output_type": "execute_result"
    }
   ],
   "source": [
    "Gamma((1,1,1),1,1)"
   ]
  },
  {
   "cell_type": "code",
   "execution_count": 20,
   "metadata": {},
   "outputs": [],
   "source": [
    "def D1Gamma(lamb1, lamb2, lamb3, mu3, mu4):\n",
    "    return -4 + 20*lamb1 + 1/2*(lamb2**2 - lamb3**2)*mu3 + 1/32*(128*lamb1**3 + 48*lamb1*(lamb2**2 + lamb3**2))*mu4\n",
    "\n",
    "def D2Gamma(lamb1, lamb2, lamb3, mu3, mu4):\n",
    "    return -(1/2) + 5*lamb2/2 + lamb1*lamb2*mu3 + 1/32*(48*lamb1**2*lamb2 + 4*lamb2**3)*mu4\n",
    "\n",
    "def D3Gamma(lamb1, lamb2, lamb3, mu3, mu4):\n",
    "    return -(1/2) + 5*lamb3/2 - lamb1*lamb3*mu3 + 1/32*(48*lamb1**2*lamb3 + 4*lamb3**3)*mu4"
   ]
  },
  {
   "cell_type": "code",
   "execution_count": 91,
   "metadata": {},
   "outputs": [],
   "source": [
    "def equations(x, mu3, mu4):\n",
    "    lamb1, lamb2, lamb3 = x\n",
    "    return (D1Gamma(lamb1, lamb2, lamb3, mu3, mu4), D2Gamma(lamb1, lamb2, lamb3, mu3, mu4), D3Gamma(lamb1, lamb2, lamb3, mu3, mu4))\n",
    "\n",
    "\n",
    "\n",
    "\n",
    "\n",
    "\n",
    "#lamb1, lamb2, lamb3 =  fsolve(equations, (1, 1, 1), args=(1, 1))"
   ]
  },
  {
   "cell_type": "code",
   "execution_count": 81,
   "metadata": {},
   "outputs": [
    {
     "data": {
      "text/plain": [
       "array([[0., 0., 0., 0., 0., 0., 0., 0., 0., 0.],\n",
       "       [0., 0., 0., 0., 0., 0., 0., 0., 0., 0.],\n",
       "       [0., 0., 0., 0., 0., 0., 0., 0., 0., 0.],\n",
       "       [0., 0., 0., 0., 0., 0., 0., 0., 0., 0.],\n",
       "       [0., 0., 0., 0., 0., 0., 0., 0., 0., 0.],\n",
       "       [0., 0., 0., 0., 0., 0., 0., 0., 0., 0.],\n",
       "       [0., 0., 0., 0., 0., 0., 0., 0., 0., 0.],\n",
       "       [0., 0., 0., 0., 0., 0., 0., 0., 0., 0.],\n",
       "       [0., 0., 0., 0., 0., 0., 0., 0., 0., 0.],\n",
       "       [1., 0., 0., 0., 0., 0., 0., 0., 1., 0.]])"
      ]
     },
     "execution_count": 81,
     "metadata": {},
     "output_type": "execute_result"
    }
   ],
   "source": [
    "Q2_array[9, 0]=1\n",
    "Q2_array"
   ]
  },
  {
   "cell_type": "code",
   "execution_count": 65,
   "metadata": {},
   "outputs": [
    {
     "data": {
      "text/plain": [
       "50"
      ]
     },
     "execution_count": 65,
     "metadata": {},
     "output_type": "execute_result"
    }
   ],
   "source": [
    "len(mu3list)"
   ]
  },
  {
   "cell_type": "code",
   "execution_count": 92,
   "metadata": {},
   "outputs": [
    {
     "name": "stderr",
     "output_type": "stream",
     "text": [
      "/Users/javier/opt/anaconda3/lib/python3.8/site-packages/scipy/optimize/minpack.py:175: RuntimeWarning: The iteration is not making good progress, as measured by the \n",
      "  improvement from the last ten iterations.\n",
      "  warnings.warn(msg, RuntimeWarning)\n",
      "/Users/javier/opt/anaconda3/lib/python3.8/site-packages/scipy/optimize/minpack.py:175: RuntimeWarning: The iteration is not making good progress, as measured by the \n",
      "  improvement from the last five Jacobian evaluations.\n",
      "  warnings.warn(msg, RuntimeWarning)\n"
     ]
    }
   ],
   "source": [
    "\n",
    "\n",
    "\n",
    "for y in range(len(mu4list)):\n",
    "    for x in range(len(mu3list)):\n",
    "        lamb1, lamb2, lamb3 =  fsolve(equations, (1, 1, 1), args=(mu3list[x], mu4list[y]), xtol=1.49012e-10)\n",
    "        Q2_array[(n-1) - y, x] = np.log(2*lamb1**2 + 1/4*lamb2**2+1/4*lamb3**2)\n",
    "        #print(Q2_array)"
   ]
  },
  {
   "cell_type": "code",
   "execution_count": 63,
   "metadata": {},
   "outputs": [
    {
     "data": {
      "text/plain": [
       "array([[-2.30428603, -2.31517685, -2.3212319 , ..., -2.50857763,\n",
       "        -2.5109971 , -2.51165356],\n",
       "       [-2.24966072, -2.25342294, -2.26656604, ..., -2.48060537,\n",
       "        -2.48339587, -2.48428284],\n",
       "       [-2.18588691, -2.19515184, -2.20758713, ..., -2.45224873,\n",
       "        -2.45576685, -2.45830642],\n",
       "       ...,\n",
       "       [-2.41193555, -2.41001186, -2.40807832, ..., -2.30862183,\n",
       "        -2.306071  , -2.30350176],\n",
       "       [-2.41291111, -2.41099545, -2.40907005, ..., -2.31014241,\n",
       "        -2.30760849, -2.3050565 ],\n",
       "       [-2.41337016, -2.41145828, -2.4095367 , ..., -2.31085695,\n",
       "        -2.30833096, -2.30578703]])"
      ]
     },
     "execution_count": 63,
     "metadata": {},
     "output_type": "execute_result"
    }
   ],
   "source": [
    "Q2_array"
   ]
  },
  {
   "cell_type": "code",
   "execution_count": 105,
   "metadata": {},
   "outputs": [
    {
     "data": {
      "text/plain": [
       "<matplotlib.colorbar.Colorbar at 0x7f8821fa4100>"
      ]
     },
     "execution_count": 105,
     "metadata": {},
     "output_type": "execute_result"
    },
    {
     "data": {
      "image/png": "[encoded data removed]",
      "text/plain": [
       "<Figure size 720x720 with 2 Axes>"
      ]
     },
     "metadata": {
      "needs_background": "light"
     },
     "output_type": "display_data"
    }
   ],
   "source": [
    "fig, ax = plt.subplots(figsize=(10,10))\n",
    "\n",
    "c = ax.imshow(Q2_array, cmap ='cool', interpolation ='nearest', origin ='lower', extent =[mu30, mu3f, mu40, mu4f],aspect='auto')\n",
    "ax.set_title(\"Transición fase $Q_2$\")\n",
    "ax.set_xlabel(\"$\\mu_3/\\mu^2$\")\n",
    "ax.set_ylabel(\"$\\mu_4/\\mu^3$\", rotation=90)\n",
    "\n",
    "fig.colorbar(c, ax=ax, label='log($Q_2\\mu^2$)')"
   ]
  },
  {
   "cell_type": "code",
   "execution_count": 31,
   "metadata": {},
   "outputs": [
    {
     "ename": "TypeError",
     "evalue": "minimize() missing 1 required positional argument: 'x0'",
     "output_type": "error",
     "traceback": [
      "\u001b[0;31m---------------------------------------------------------------------------\u001b[0m",
      "\u001b[0;31mTypeError\u001b[0m                                 Traceback (most recent call last)",
      "\u001b[0;32m<ipython-input-31-867c2c33cf49>\u001b[0m in \u001b[0;36m<module>\u001b[0;34m\u001b[0m\n\u001b[0;32m----> 1\u001b[0;31m \u001b[0mres\u001b[0m \u001b[0;34m=\u001b[0m \u001b[0mminimize\u001b[0m\u001b[0;34m(\u001b[0m\u001b[0mGamma\u001b[0m\u001b[0;34m,\u001b[0m \u001b[0margs\u001b[0m\u001b[0;34m=\u001b[0m\u001b[0;34m(\u001b[0m\u001b[0;36m6\u001b[0m\u001b[0;34m,\u001b[0m \u001b[0;36m9\u001b[0m\u001b[0;34m)\u001b[0m\u001b[0;34m)\u001b[0m\u001b[0;34m\u001b[0m\u001b[0;34m\u001b[0m\u001b[0m\n\u001b[0m\u001b[1;32m      2\u001b[0m \u001b[0mres\u001b[0m\u001b[0;34m.\u001b[0m\u001b[0mx\u001b[0m\u001b[0;34m\u001b[0m\u001b[0;34m\u001b[0m\u001b[0m\n",
      "\u001b[0;31mTypeError\u001b[0m: minimize() missing 1 required positional argument: 'x0'"
     ]
    }
   ],
   "source": [
    "res = minimize(Gamma, args=(6, 9))\n",
    "res.x"
   ]
  },
  {
   "cell_type": "code",
   "execution_count": 26,
   "metadata": {},
   "outputs": [
    {
     "data": {
      "text/plain": [
       "(9.9375+0j)"
      ]
     },
     "execution_count": 26,
     "metadata": {},
     "output_type": "execute_result"
    }
   ],
   "source": [
    "Gamma((0,0,0),1,1)"
   ]
  },
  {
   "cell_type": "code",
   "execution_count": 16,
   "metadata": {},
   "outputs": [
    {
     "data": {
      "text/plain": [
       "10"
      ]
     },
     "execution_count": 16,
     "metadata": {},
     "output_type": "execute_result"
    }
   ],
   "source": [
    "f = lambdify((x,z), yprime, 'numpy')\n",
    "f(4,2)"
   ]
  },
  {
   "cell_type": "code",
   "execution_count": null,
   "metadata": {},
   "outputs": [],
   "source": [
    "-4 + 20*lamb1 + 1/2 (lamb2**2 - lamb3**2)*mu3 + 1/32 (128*lamb1^3 + 48*lamb1 (lamb2**2 + lamb3**2))*mu4"
   ]
  },
  {
   "cell_type": "markdown",
   "metadata": {},
   "source": [
    "# Segundo intento"
   ]
  },
  {
   "cell_type": "code",
   "execution_count": 5,
   "metadata": {},
   "outputs": [],
   "source": [
    "params = (2, 3, 7, 8, 9, 10, 44, -1, 2, 26, 1, -2, 0.5)\n",
    "def f1(z, *params):\n",
    "    x, y = z\n",
    "    a, b, c, d, e, f, g, h, i, j, k, l, scale = params\n",
    "    return (a * x**2 + b * x * y + c * y**2 + d*x + e*y + f)\n",
    "\n",
    "def f2(z, *params):\n",
    "    x, y = z\n",
    "    a, b, c, d, e, f, g, h, i, j, k, l, scale = params\n",
    "    return (-g*np.exp(-((x-h)**2 + (y-i)**2) / scale))\n",
    "\n",
    "def f3(z, *params):\n",
    "    x, y = z\n",
    "    a, b, c, d, e, f, g, h, i, j, k, l, scale = params\n",
    "    return (-j*np.exp(-((x-k)**2 + (y-l)**2) / scale))\n",
    "\n",
    "def f(z, *params):\n",
    "    return f1(z, *params) + f2(z, *params) + f3(z, *params)"
   ]
  },
  {
   "cell_type": "code",
   "execution_count": null,
   "metadata": {},
   "outputs": [],
   "source": [
    "def f(z, list):\n",
    "    x, y, r = z\n",
    "    a = list\n",
    "    return x^2+y^3+a*r^4"
   ]
  },
  {
   "cell_type": "code",
   "execution_count": 7,
   "metadata": {},
   "outputs": [
    {
     "data": {
      "text/plain": [
       "(array([-1.05665192,  1.80834843]),\n",
       " -3.4085818767996527,\n",
       " array([[[-4.  , -4.  , -4.  , ..., -4.  , -4.  , -4.  ],\n",
       "         [-3.75, -3.75, -3.75, ..., -3.75, -3.75, -3.75],\n",
       "         [-3.5 , -3.5 , -3.5 , ..., -3.5 , -3.5 , -3.5 ],\n",
       "         ...,\n",
       "         [ 3.25,  3.25,  3.25, ...,  3.25,  3.25,  3.25],\n",
       "         [ 3.5 ,  3.5 ,  3.5 , ...,  3.5 ,  3.5 ,  3.5 ],\n",
       "         [ 3.75,  3.75,  3.75, ...,  3.75,  3.75,  3.75]],\n",
       " \n",
       "        [[-4.  , -3.75, -3.5 , ...,  3.25,  3.5 ,  3.75],\n",
       "         [-4.  , -3.75, -3.5 , ...,  3.25,  3.5 ,  3.75],\n",
       "         [-4.  , -3.75, -3.5 , ...,  3.25,  3.5 ,  3.75],\n",
       "         ...,\n",
       "         [-4.  , -3.75, -3.5 , ...,  3.25,  3.5 ,  3.75],\n",
       "         [-4.  , -3.75, -3.5 , ...,  3.25,  3.5 ,  3.75],\n",
       "         [-4.  , -3.75, -3.5 , ...,  3.25,  3.5 ,  3.75]]]),\n",
       " array([[134.        , 119.6875    , 106.25      , ...,  74.18749997,\n",
       "          85.24999999,  97.1875    ],\n",
       "        [129.125     , 115.        , 101.75      , ...,  74.74999948,\n",
       "          85.99999987,  98.12499997],\n",
       "        [124.5       , 110.5625    ,  97.5       , ...,  75.5624928 ,\n",
       "          86.99999818,  99.31249964],\n",
       "        ...,\n",
       "        [ 94.12499965,  85.24999772,  77.24998843, ..., 192.        ,\n",
       "         208.5       , 225.875     ],\n",
       "        [ 96.49999997,  87.81249979,  79.99999892, ..., 199.8125    ,\n",
       "         216.5       , 234.0625    ],\n",
       "        [ 99.125     ,  90.62499998,  82.99999992, ..., 207.875     ,\n",
       "         224.75      , 242.5       ]]))"
      ]
     },
     "execution_count": 7,
     "metadata": {},
     "output_type": "execute_result"
    }
   ],
   "source": [
    "import numpy as np\n",
    "rranges = (slice(-4, 4, 0.25), slice(-4, 4, 0.25))\n",
    "from scipy import optimize\n",
    "resbrute = optimize.brute(f, rranges, args=params, full_output=True,\n",
    "                          finish=optimize.fmin)\n",
    "resbrute  # global minimum"
   ]
  },
  {
   "cell_type": "markdown",
   "metadata": {},
   "source": [
    "# Tercer intento: shgo"
   ]
  },
  {
   "cell_type": "code",
   "execution_count": 1,
   "metadata": {},
   "outputs": [],
   "source": [
    "import numpy as np\n",
    "import matplotlib.pyplot as plt\n",
    "from scipy.optimize import minimize\n",
    "from sympy import *\n",
    "from scipy.optimize import fsolve\n",
    "import math\n",
    "from matplotlib.colors import LogNorm\n",
    "from numpy import genfromtxt\n",
    "import pandas as pd\n",
    "\n",
    "plt.rcParams['axes.grid'] = False\n",
    "plt.rcParams['grid.alpha'] = 1\n",
    "plt.rcParams['grid.color'] = \"#cccccc\"\n",
    "plt.rcParams.update({\"font.size\": 15, \"font.family\": \"serif\"})"
   ]
  },
  {
   "cell_type": "code",
   "execution_count": 2,
   "metadata": {},
   "outputs": [],
   "source": [
    "def e0phi(lamb1, lamb2, lamb3):\n",
    "    return 1/2*(2*lamb1 + lamb2)\n",
    "\n",
    "def e1phi(lamb1, lamb2, lamb3):\n",
    "    return 1/2*(2*lamb1 - lamb2)\n",
    "\n",
    "def e2phi(lamb1, lamb2, lamb3):\n",
    "    return 1/2*(-2*lamb1 + lamb3)\n",
    "\n",
    "def e3phi(lamb1, lamb2, lamb3):\n",
    "    return 1/2*(-2*lamb1 - lamb3)\n",
    "\n",
    "\n",
    "e0t = 1/2*3\n",
    "e1t = 1/2*1\n",
    "e2t = 1/2*(-1)\n",
    "e3t = 1/2*(-3)\n",
    "\n",
    "e0AdS = complex(0, e0t)\n",
    "e1AdS = complex(0, e1t)\n",
    "e2AdS = complex(0, e2t)\n",
    "e3AdS = complex(0, e3t)\n",
    "\n",
    "\"\"\"\n",
    "def Qn(n, lamb1, lamb2, lamb3):\n",
    "    return 1/n*(e0phi(lamb1, lamb2, lamb3)**n + e1phi(lamb1, lamb2, lamb3)**n + e2phi(lamb1, lamb2, lamb3)**n + e3phi(lamb1, lamb2, lamb3)**n)\n",
    "\n",
    "def QnAdS(n):\n",
    "    return 1/n*(e0AdS**n + e1AdS**n + e2AdS**n + e3AdS**n)\n",
    "\n",
    "def S(lamb1, lamb2, lamb3):\n",
    "    return e0phi(lamb1, lamb2, lamb3)*e0t + e1phi(lamb1, lamb2, lamb3)*e1t + e2phi(lamb1, lamb2, lamb3)*e2t + e3phi(lamb1, lamb2, lamb3)*e3t\n",
    "\"\"\"\n",
    "\n",
    "def Gamma(lambs, *mus):\n",
    "    mu3 = mus[0]\n",
    "    mu4 = mus[1]\n",
    "    lamb1 = lambs[0]\n",
    "    lamb2 = lambs[1]\n",
    "    lamb3 = lambs[2]\n",
    "    #print(\"Lambda1: \", lamb1,\"Lambda2: \", lamb2,\"Lambda3: \", lamb3, \"mu3: \",mu3,\"mu4: \",mu4)\n",
    "    return np.real(1/2*(-8*lamb1 - lamb2 - lamb3) + 5*(5/2 + 1/4*(8*lamb1**2 + lamb2**2 + lamb3**2)) + 1/2*lamb1*(lamb2**2 - lamb3**2)*mu3 + (-(41/16) + 1/32*(32*lamb1**4 + lamb2**4 + lamb3**4 + 24*lamb1**2*(lamb2**2 + lamb3**2)))*mu4)"
   ]
  },
  {
   "cell_type": "code",
   "execution_count": 4,
   "metadata": {},
   "outputs": [],
   "source": [
    "from scipy.optimize import rosen, shgo\n",
    "\"\"\"\n",
    "def dQdlambda(lambs):\n",
    "    lamb1, lamb2, lamb3 = lambs\n",
    "    return 1/32*lamb2*lamb3*(4*lamb1 + lamb2 + lamb3)*(4*lamb1 - lamb2 + lamb3)*(4*lamb1 + lamb2 - lamb3)*(4*lamb1 - lamb2 - lamb3)\n",
    "\"\"\"\n",
    "\n",
    "def g1(lambs):\n",
    "    lamb1 = lambs[0]\n",
    "    lamb2 = lambs[1]\n",
    "    return lamb2 #>0\n",
    "\n",
    "def g2(lambs):\n",
    "    lamb3 = lambs[2]\n",
    "    return lamb3 #>0\n",
    "\n",
    "def g3(lambs):\n",
    "    lamb1 = lambs[0]\n",
    "    lamb2 = lambs[1]\n",
    "    lamb3 = lambs[2]\n",
    "    return 4*lamb1 + lamb2 + lamb3 #>0\n",
    "\n",
    "def g4(lambs):\n",
    "    lamb1 = lambs[0]\n",
    "    lamb2 = lambs[1]\n",
    "    lamb3 = lambs[2]\n",
    "    return 4*lamb1 - lamb2 + lamb3 #>0\n",
    "\n",
    "def g5(lambs):\n",
    "    lamb1 = lambs[0]\n",
    "    lamb2 = lambs[1]\n",
    "    lamb3 = lambs[2]\n",
    "    return 4*lamb1 + lamb2 - lamb3 #>0\n",
    "\n",
    "def g6(lambs):\n",
    "    lamb1 = lambs[0]\n",
    "    lamb2 = lambs[1]\n",
    "    lamb3 = lambs[2]\n",
    "    return 4*lamb1 - lamb2 - lamb3 #>0\n",
    "\n",
    "def eq1(lambs, *mus):\n",
    "    mu3 = mus[0]\n",
    "    mu4 = mus[1]\n",
    "    lamb1 = 5.02484385151935\n",
    "    lamb2 = 0.01657050307220192\n",
    "    lamb3 = lambs[2]\n",
    "    return -4 + 20*lamb1 + 1/2*(lamb2**2 - lamb3**2)*mu3 + 1/32*(128*lamb1**3 + 48*lamb1*(lamb2**2 + lamb3**2))*mu4 # = 0\n",
    "\n",
    "def eq2(lambs, *mus):\n",
    "    mu3 = mus[0]\n",
    "    mu4 = mus[1]\n",
    "    lamb1 = 5.02484385151935\n",
    "    lamb2 = 0.01657050307220192\n",
    "    lamb3 = lambs[2]\n",
    "    return -(1/2) + (5*lamb2)/2 + lamb1*lamb2*mu3 + 1/32*(48*lamb1**2*lamb2 + 4*lamb2**3)*mu4 # = 0\n",
    "\n",
    "def eq3(lambs, *mus):\n",
    "    mu3 = mus[0]\n",
    "    mu4 = mus[1]\n",
    "    lamb1 = 5.02484385151935\n",
    "    lamb2 = 0.01657050307220192\n",
    "    lamb3 = lambs[2]\n",
    "    return -(1/2) + (5*lamb3)/2 - lamb1*lamb3*mu3 + 1/32*(48*lamb1**2*lamb3 + 4*lamb3**3)*mu4 # = 0\n",
    "\n",
    "\"\"\"\n",
    "def const_real(lambs):\n",
    "    lamb1, lamb2, lamb3 = lambs\n",
    "    return np.sum(np.iscomplex(lamb1)) + np.sum(np.iscomplex(lamb2)) + np.sum(np.iscomplex(lamb3))\n",
    "\"\"\"\n",
    "\n",
    "\n",
    "#bnds = ((0, None), (0, None), (0, None))\n",
    "cons = ({'type':'ineq', 'fun': g1},\n",
    "        {'type':'ineq', 'fun': g2},\n",
    "        {'type':'ineq', 'fun': g3},\n",
    "        {'type':'ineq', 'fun': g4},\n",
    "        {'type':'ineq', 'fun': g5},\n",
    "        {'type':'ineq', 'fun': g6})\n",
    "\n",
    "\n",
    "mu30 = 0.2\n",
    "mu3f = 4*np.pi\n",
    "#mu3f = 6\n",
    "mu40 = 0.2\n",
    "mu4f = 2*np.pi**2/5\n",
    "#mu4f = 1\n",
    "n = 100\n",
    "mu3list = np.linspace(mu30, mu3f, n)\n",
    "mu4list = np.linspace(mu40, mu4f, n)\n",
    "\n",
    "Q2_array = np.zeros((n, n))\n",
    "bounds = [(None, None), (None, None),(None, None)]\n",
    "\n",
    "for y in range(len(mu4list)):\n",
    "    for x in range(len(mu3list)):\n",
    "        mus = (mu3list[x], mu4list[y])\n",
    "        res = shgo(Gamma, bounds=bounds, args=mus, constraints=cons)\n",
    "        #res = minimize(Gamma, (0.2, 0.2, 0.2), args=(mu3list[x], mu4list[y]), bounds=bnds, constraints=cons)\n",
    "        lamb1 = res.x[0]\n",
    "        lamb2 = res.x[1]\n",
    "        lamb3 = res.x[2]\n",
    "        #print(res.x)\n",
    "        #print(res)\n",
    "        #lamb1, lamb2, lamb3 =  res\n",
    "        Q2_array[(n-1) - y, x] = np.log(2*lamb1**2 + 1/4*lamb2**2 + 1/4*lamb3**2)\n",
    "\n"
   ]
  },
  {
   "cell_type": "code",
   "execution_count": 92,
   "metadata": {},
   "outputs": [],
   "source": [
    "# NO BORRAR\n",
    "\n",
    "\n",
    "def g1(lambs):\n",
    "    lamb1 = lambs[0]\n",
    "    lamb2 = lambs[1]\n",
    "    return lamb2 #>0\n",
    "\n",
    "def g2(lambs):\n",
    "    lamb3 = lambs[2]\n",
    "    return lamb3 #>0\n",
    "\n",
    "def g3(lambs):\n",
    "    lamb1 = lambs[0]\n",
    "    lamb2 = lambs[1]\n",
    "    lamb3 = lambs[2]\n",
    "    return 4*lamb1 + lamb2 + lamb3 #>0\n",
    "\n",
    "def g4(lambs):\n",
    "    lamb1 = lambs[0]\n",
    "    lamb2 = lambs[1]\n",
    "    lamb3 = lambs[2]\n",
    "    return 4*lamb1 - lamb2 + lamb3 #>0\n",
    "\n",
    "def g5(lambs):\n",
    "    lamb1 = lambs[0]\n",
    "    lamb2 = lambs[1]\n",
    "    lamb3 = lambs[2]\n",
    "    return 4*lamb1 + lamb2 - lamb3 #>0\n",
    "\n",
    "def g6(lambs):\n",
    "    lamb1 = lambs[0]\n",
    "    lamb2 = lambs[1]\n",
    "    lamb3 = lambs[2]\n",
    "    return 4*lamb1 - lamb2 - lamb3 #>0"
   ]
  },
  {
   "cell_type": "code",
   "execution_count": 7,
   "metadata": {},
   "outputs": [
    {
     "data": {
      "text/plain": [
       "<matplotlib.colorbar.Colorbar at 0x7ff180e6fe50>"
      ]
     },
     "execution_count": 7,
     "metadata": {},
     "output_type": "execute_result"
    },
    {
     "data": {
      "image/png": "[encoded data removed]",
      "text/plain": [
       "<Figure size 720x720 with 2 Axes>"
      ]
     },
     "metadata": {
      "needs_background": "light"
     },
     "output_type": "display_data"
    }
   ],
   "source": [
    "fig, ax = plt.subplots(figsize=(10,10))\n",
    "\n",
    "c = ax.imshow(Q2_array, cmap ='cool', interpolation ='nearest', origin ='upper', extent =[mu30, mu3f, mu40, mu4f],aspect='auto')\n",
    "ax.set_title(\"Transición fase $Q_2$\")\n",
    "ax.set_xlabel(\"$\\mu_3/\\mu^2$\")\n",
    "ax.set_ylabel(\"$\\mu_4/\\mu^3$\", rotation=90)\n",
    "\n",
    "fig.colorbar(c, ax=ax, label='log($Q_2\\mu^2$)')"
   ]
  },
  {
   "cell_type": "code",
   "execution_count": 6,
   "metadata": {},
   "outputs": [
    {
     "data": {
      "text/plain": [
       "<matplotlib.colorbar.Colorbar at 0x7ff17937fee0>"
      ]
     },
     "execution_count": 6,
     "metadata": {},
     "output_type": "execute_result"
    },
    {
     "data": {
      "image/png": "[encoded data removed]",
      "text/plain": [
       "<Figure size 720x720 with 2 Axes>"
      ]
     },
     "metadata": {
      "needs_background": "light"
     },
     "output_type": "display_data"
    }
   ],
   "source": [
    "fig2, ax2 = plt.subplots(figsize=(10,10))\n",
    "\n",
    "c = ax2.imshow(Q2_array, cmap ='cool', interpolation ='nearest', origin ='upper', extent =[mu30, mu3f, mu40, mu4f],aspect='auto')\n",
    "ax2.set_title(\"Transición fase $Q_2$\")\n",
    "ax2.set_xlabel(\"$\\mu_3/\\mu^2$\")\n",
    "ax2.set_ylabel(\"$\\mu_4/\\mu^3$\", rotation=90)\n",
    "\n",
    "fig2.colorbar(c, ax=ax2, label='log($Q_2\\mu^2$)')"
   ]
  },
  {
   "cell_type": "code",
   "execution_count": 97,
   "metadata": {},
   "outputs": [],
   "source": [
    "#mus_1 = (2, 3)\n",
    "#bounds = [(-100, 100),(-100, 100)]\n",
    "mus=(4,0.2)\n",
    "\n",
    "cons1 = ({'type':'ineq', 'fun': g1},\n",
    "        {'type':'ineq', 'fun': g2},\n",
    "        {'type':'ineq', 'fun': g3},\n",
    "        {'type':'ineq', 'fun': g4},\n",
    "        {'type':'ineq', 'fun': g5},\n",
    "        {'type':'ineq', 'fun': g6})\n",
    "\n",
    "def Gamma(lambs, *mus):\n",
    "    mu3 = mus[0]\n",
    "    mu4 = mus[1]\n",
    "    lamb1 = lambs[0]\n",
    "    lamb2 = lambs[1]\n",
    "    lamb3 = lambs[2]\n",
    "    #print(\"Lambda1: \", lamb1,\"Lambda2: \", lamb2,\"Lambda3: \", lamb3, \"mu3: \",mu3,\"mu4: \",mu4)\n",
    "    return np.real(1/2*(-8*lamb1 - lamb2 - lamb3) + 5*(5/2 + 1/4*(8*lamb1**2 + lamb2**2 + lamb3**2)) + 1/2*lamb1*(lamb2**2 - lamb3**2)*mu3 + (-(41/16) + 1/32*(32*lamb1**4 + lamb2**4 + lamb3**4 + 24*lamb1**2*(lamb2**2 + lamb3**2)))*mu4)\n",
    "\n",
    "res = shgo(Gamma, bounds=bounds, args=mus, constraints=cons1)"
   ]
  },
  {
   "cell_type": "code",
   "execution_count": 98,
   "metadata": {},
   "outputs": [
    {
     "data": {
      "text/plain": [
       "     fun: 11.476788939597547\n",
       "    funl: array([11.47678894])\n",
       " message: 'Optimization terminated successfully.'\n",
       "    nfev: 34\n",
       "     nit: 2\n",
       "   nlfev: 32\n",
       "   nlhev: 0\n",
       "   nljev: 7\n",
       " success: True\n",
       "       x: array([0.20580237, 0.14985861, 0.29556401])\n",
       "      xl: array([[0.20580237, 0.14985861, 0.29556401]])"
      ]
     },
     "execution_count": 98,
     "metadata": {},
     "output_type": "execute_result"
    }
   ],
   "source": [
    "res"
   ]
  },
  {
   "cell_type": "code",
   "execution_count": 99,
   "metadata": {},
   "outputs": [
    {
     "name": "stderr",
     "output_type": "stream",
     "text": [
      "/Users/javier/opt/anaconda3/lib/python3.8/site-packages/scipy/optimize/_optimize.py:284: RuntimeWarning: Values in x were outside bounds during a minimize step, clipping to bounds\n",
      "  warnings.warn(\"Values in x were outside bounds during a \"\n"
     ]
    }
   ],
   "source": [
    "#bnds = ((0, None), (0, None), (0, None))\n",
    "cons = ({'type':'ineq', 'fun': g1},\n",
    "        {'type':'ineq', 'fun': g2},\n",
    "        {'type':'ineq', 'fun': g3},\n",
    "        {'type':'ineq', 'fun': g4},\n",
    "        {'type':'ineq', 'fun': g5},\n",
    "        {'type':'ineq', 'fun': g6})\n",
    "\n",
    "\n",
    "mu30 = 0.2\n",
    "mu3f = 4*np.pi\n",
    "#mu3f = 6\n",
    "mu40 = 0.2\n",
    "mu4f = 2*np.pi**2/5\n",
    "#mu4f = 1\n",
    "n = 100\n",
    "mu3list = np.linspace(mu30, mu3f, n)\n",
    "mu4list = np.linspace(mu40, mu4f, n)\n",
    "\n",
    "Q2_array = np.zeros((n, n))\n",
    "bounds = [(-50,50), (-50,50),(-50,50)]\n",
    "\n",
    "for y in range(len(mu4list)):\n",
    "    for x in range(len(mu3list)):\n",
    "        mus = (mu3list[x], mu4list[y])\n",
    "        res = shgo(Gamma, bounds=bounds, args=mus, constraints=cons)\n",
    "        #res = minimize(Gamma, (0.2, 0.2, 0.2), args=(mu3list[x], mu4list[y]), bounds=bnds, constraints=cons)\n",
    "        lamb1 = res.x[0]\n",
    "        lamb2 = res.x[1]\n",
    "        lamb3 = res.x[2]\n",
    "        #print(res.x)\n",
    "        #print(res)\n",
    "        #lamb1, lamb2, lamb3 =  res\n",
    "        Q2_array[(n-1) - y, x] = np.log(2*lamb1**2 + 1/4*lamb2**2 + 1/4*lamb3**2)"
   ]
  },
  {
   "cell_type": "code",
   "execution_count": 127,
   "metadata": {},
   "outputs": [
    {
     "data": {
      "text/plain": [
       "     fun: -643.0788640651608\n",
       "    funl: array([-643.07886407])\n",
       " message: 'Optimization terminated successfully.'\n",
       "    nfev: 59\n",
       "     nit: 2\n",
       "   nlfev: 54\n",
       "   nlhev: 0\n",
       "   nljev: 12\n",
       " success: True\n",
       "       x: array([5.02484385e+00, 1.65696285e-02, 2.00495358e+01])\n",
       "      xl: array([[5.02484385e+00, 1.65696285e-02, 2.00495358e+01]])"
      ]
     },
     "execution_count": 127,
     "metadata": {},
     "output_type": "execute_result"
    }
   ],
   "source": [
    "bounds2 = [(0,25),(0,25),(10,25)]\n",
    "res = shgo(Gamma, bounds=bounds2, args=(4,0.2), constraints=cons)\n",
    "res"
   ]
  },
  {
   "cell_type": "code",
   "execution_count": 100,
   "metadata": {},
   "outputs": [
    {
     "data": {
      "text/plain": [
       "<matplotlib.colorbar.Colorbar at 0x7f7f21546fa0>"
      ]
     },
     "execution_count": 100,
     "metadata": {},
     "output_type": "execute_result"
    },
    {
     "data": {
      "image/png": "[encoded data removed]",
      "text/plain": [
       "<Figure size 720x720 with 1 Axes>"
      ]
     },
     "metadata": {
      "needs_background": "light"
     },
     "output_type": "display_data"
    }
   ],
   "source": [
    "fig3, ax3 = plt.subplots(figsize=(10,10))\n",
    "\n",
    "c = ax3.imshow(Q2_array, cmap ='cool', interpolation ='nearest', origin ='upper', extent =[mu30, mu3f, mu40, mu4f],aspect='auto')\n",
    "ax3.set_title(\"Transición fase $Q_2$\")\n",
    "ax3.set_xlabel(\"$\\mu_3/\\mu^2$\")\n",
    "ax3.set_ylabel(\"$\\mu_4/\\mu^3$\", rotation=90)\n",
    "\n",
    "fig3.colorbar(c, ax=ax, label='log($Q_2\\mu^2$)')"
   ]
  },
  {
   "cell_type": "markdown",
   "metadata": {},
   "source": [
    "## NO funciono lo anterior\n"
   ]
  },
  {
   "cell_type": "code",
   "execution_count": 74,
   "metadata": {},
   "outputs": [
    {
     "data": {
      "text/plain": [
       "(array([1., 1., 1., 1., 1.]), 0.0)"
      ]
     },
     "execution_count": 74,
     "metadata": {},
     "output_type": "execute_result"
    }
   ],
   "source": [
    "from scipy.optimize import rosen, differential_evolution\n",
    "bounds = [(0,2), (0, 2), (0, 2), (0, 2), (0, 2)]\n",
    "result = differential_evolution(rosen, bounds, )\n",
    "result.x, result.fun"
   ]
  },
  {
   "cell_type": "code",
   "execution_count": 9,
   "metadata": {},
   "outputs": [],
   "source": [
    "\"\"\"\n",
    "from scipy.optimize import rosen, shgo\n",
    "\n",
    "def f(x):  # (cattle-feed)\n",
    "    return 24.55*x[0] + 26.75*x[1] + 39*x[2] + 40.50*x[3]\n",
    "\n",
    "def g1(x):\n",
    "    return 2.3*x[0] + 5.6*x[1] + 11.1*x[2] + 1.3*x[3] - 5  # >=0\n",
    "\n",
    "def g2(x):\n",
    "    return (12*x[0] + 11.9*x[1] +41.8*x[2] + 52.1*x[3] - 21\n",
    "            - 1.645 * np.sqrt(0.28*x[0]**2 + 0.19*x[1]**2\n",
    "                            + 20.5*x[2]**2 + 0.62*x[3]**2)\n",
    "            ) # >=0\n",
    "\n",
    "def h1(x):\n",
    "    return x[0] + x[1] + x[2] + x[3] - 1  # == 0\n",
    "\n",
    "cons = ({'type': 'ineq', 'fun': g1},\n",
    "        {'type': 'ineq', 'fun': g2},\n",
    "        {'type': 'eq', 'fun': h1})\n",
    "bounds = [(0, 1.0),]*4\n",
    "res = shgo(f, bounds, iters=3, constraints=cons)\n",
    "\"\"\""
   ]
  },
  {
   "cell_type": "markdown",
   "metadata": {},
   "source": [
    "# Solver"
   ]
  },
  {
   "cell_type": "code",
   "execution_count": 120,
   "metadata": {},
   "outputs": [
    {
     "data": {
      "text/plain": [
       "    fjac: array([[-0.92300651, -0.03066285,  0.38356064],\n",
       "       [ 0.01052042, -0.99845819, -0.05450287],\n",
       "       [-0.38464048,  0.04627129, -0.921906  ]])\n",
       "     fun: array([5.10702591e-15, 7.88605292e-15, 5.55111512e-16])\n",
       " message: 'The solution converged.'\n",
       "    nfev: 21\n",
       "     qtf: array([1.24013459e-11, 1.81133810e-11, 3.16097424e-12])\n",
       "       r: array([-21.48427624,  -0.70301698,   7.17215203,  -5.15605004,\n",
       "        -0.22425018,   2.46107507])\n",
       "  status: 1\n",
       " success: True\n",
       "       x: array([0.62810935, 0.0974463 , 2.20165849])"
      ]
     },
     "execution_count": 120,
     "metadata": {},
     "output_type": "execute_result"
    }
   ],
   "source": [
    "from scipy.optimize import fsolve\n",
    "from scipy import optimize\n",
    "\n",
    "def eq123(lambs, *mus):\n",
    "    mu3 = mus[0]\n",
    "    mu4 = mus[1]\n",
    "    lamb1 = lambs[0]\n",
    "    lamb2 = lambs[1]\n",
    "    lamb3 = lambs[2]\n",
    "    D1 = -4 + 20*lamb1 + 1/2*(lamb2**2 - lamb3**2)*mu3 + 1/32*(128*lamb1**3 + 48*lamb1*(lamb2**2 + lamb3**2))*mu4\n",
    "    D2 = -(1/2) + (5*lamb2)/2 + lamb1*lamb2*mu3 + 1/32*(48*lamb1**2*lamb2 + 4*lamb2**3)*mu4\n",
    "    D3 = -(1/2) + (5*lamb3)/2 - lamb1*lamb3*mu3 + 1/32*(48*lamb1**2*lamb3 + 4*lamb3**3)*mu4\n",
    "    return [D1,D2,D3]\n",
    "\n",
    "mus = (4,0.2)\n",
    "root = optimize.root(eq123, [1, 1, 1], args=mus, tol=1e-11)\n",
    "root"
   ]
  },
  {
   "cell_type": "code",
   "execution_count": 122,
   "metadata": {},
   "outputs": [],
   "source": [
    "mu30 = 0.2\n",
    "mu3f = 4*np.pi\n",
    "#mu3f = 6\n",
    "mu40 = 0.2\n",
    "mu4f = 2*np.pi**2/5\n",
    "#mu4f = 1\n",
    "n = 100\n",
    "mu3list = np.linspace(mu30, mu3f, n)\n",
    "mu4list = np.linspace(mu40, mu4f, n)\n",
    "\n",
    "Q2_array = np.zeros((n, n))\n",
    "#bounds = [(-50,50), (-50,50),(-50,50)]\n",
    "\n",
    "for y in range(len(mu4list)):\n",
    "    for x in range(len(mu3list)):\n",
    "        mus = (mu3list[x], mu4list[y])\n",
    "        root = optimize.root(eq123, [1, 1, 1], args=mus, tol=1e-11)\n",
    "        #res = shgo(Gamma, bounds=bounds, args=mus, constraints=cons)\n",
    "        #res = minimize(Gamma, (0.2, 0.2, 0.2), args=(mu3list[x], mu4list[y]), bounds=bnds, constraints=cons)\n",
    "        lamb1 = root.x[0]\n",
    "        lamb2 = root.x[1]\n",
    "        lamb3 = root.x[2]\n",
    "        #print(res.x)\n",
    "        #print(res)\n",
    "        #lamb1, lamb2, lamb3 =  res\n",
    "        Q2_array[(n-1) - y, x] = np.log(2*lamb1**2 + 1/4*lamb2**2 + 1/4*lamb3**2)"
   ]
  },
  {
   "cell_type": "code",
   "execution_count": 123,
   "metadata": {},
   "outputs": [
    {
     "data": {
      "text/plain": [
       "<matplotlib.colorbar.Colorbar at 0x7f7f1123ecd0>"
      ]
     },
     "execution_count": 123,
     "metadata": {},
     "output_type": "execute_result"
    },
    {
     "data": {
      "image/png": "[encoded data removed]",
      "text/plain": [
       "<Figure size 720x720 with 1 Axes>"
      ]
     },
     "metadata": {
      "needs_background": "light"
     },
     "output_type": "display_data"
    }
   ],
   "source": [
    "fig4, ax4 = plt.subplots(figsize=(10,10))\n",
    "\n",
    "c = ax4.imshow(Q2_array, cmap ='cool', interpolation ='nearest', origin ='upper', extent =[mu30, mu3f, mu40, mu4f],aspect='auto')\n",
    "ax4.set_title(\"Transición fase $Q_2$\")\n",
    "ax4.set_xlabel(\"$\\mu_3/\\mu^2$\")\n",
    "ax4.set_ylabel(\"$\\mu_4/\\mu^3$\", rotation=90)\n",
    "\n",
    "fig4.colorbar(c, ax=ax, label='log($Q_2\\mu^2$)')"
   ]
  },
  {
   "cell_type": "code",
   "execution_count": 121,
   "metadata": {},
   "outputs": [
    {
     "data": {
      "text/plain": [
       "[5.10702591327572e-15, 7.886052921790565e-15, 5.551115123125783e-16]"
      ]
     },
     "execution_count": 121,
     "metadata": {},
     "output_type": "execute_result"
    }
   ],
   "source": [
    "eq123(root.x, *mus)"
   ]
  },
  {
   "cell_type": "code",
   "execution_count": 118,
   "metadata": {},
   "outputs": [
    {
     "data": {
      "text/plain": [
       "[-7.855760486563668e-11, 1.9065332645951116e-11, -1.9838353182421997e-11]"
      ]
     },
     "execution_count": 118,
     "metadata": {},
     "output_type": "execute_result"
    }
   ],
   "source": [
    "eq123([5.02484385151935, 0.01657050307220192, 20.049535575611994], *mus)"
   ]
  },
  {
   "cell_type": "markdown",
   "metadata": {},
   "source": []
  },
  {
   "cell_type": "markdown",
   "metadata": {},
   "source": [
    "# Minimize N=6"
   ]
  },
  {
   "cell_type": "code",
   "execution_count": 8,
   "metadata": {},
   "outputs": [],
   "source": [
    "import numpy as np\n",
    "import matplotlib.pyplot as plt\n",
    "from scipy.optimize import minimize\n",
    "from sympy import *\n",
    "from scipy.optimize import fsolve\n",
    "import math\n",
    "from matplotlib.colors import LogNorm\n",
    "from numpy import genfromtxt\n",
    "import pandas as pd\n",
    "\n",
    "plt.rcParams['axes.grid'] = False\n",
    "plt.rcParams['grid.alpha'] = 1\n",
    "plt.rcParams['grid.color'] = \"#cccccc\"\n",
    "plt.rcParams.update({\"font.size\": 15, \"font.family\": \"serif\"})"
   ]
  },
  {
   "cell_type": "code",
   "execution_count": 73,
   "metadata": {},
   "outputs": [],
   "source": [
    "from scipy.optimize import rosen, shgo\n",
    "\n",
    "def Gamma_N6(x,*mus3456):\n",
    "    lamb1 = x[0]\n",
    "    lamb2 = x[1]\n",
    "    lamb3 = x[2]\n",
    "    lamb4 = x[3]\n",
    "    lamb5 = x[4]\n",
    "\n",
    "    mu3 = mus3456[0]\n",
    "    mu4 = mus3456[1]\n",
    "\n",
    "    mu5 = mus3456[2]\n",
    "    mu6 = mus3456[3]\n",
    " \n",
    "    return (-27*lamb1)/2. - lamb2 - lamb3 - lamb4 - lamb5 + (5*(105 + 81*lamb1**2 + 4*(lamb2**2 + lamb2*lamb3 + lamb3**2 + lamb4**2 + lamb4*lamb5 + lamb5**2)))/12. + ((-2*lamb2**3 - 3*lamb2**2*lamb3 + 3*lamb2*lamb3**2 + 2*lamb3**3 - 2*lamb4**3 - 3*lamb4**2*lamb5 + 3*lamb4*lamb5**2 + 2*lamb5**3 + 27*lamb1*(lamb2**2 + lamb2*lamb3 + lamb3**2 - lamb4**2 - lamb4*lamb5 - lamb5**2))*mu3)/27. + (-22.09375 + (((9*lamb1)/2. + lamb2 - lamb3)**4 + ((-9*lamb1)/2. + 2*lamb2 + lamb3)**4 + ((9*lamb1)/2. + lamb2 + 2*lamb3)**4 + ((9*lamb1)/2. - lamb4 + lamb5)**4 + ((-9*lamb1)/2. + lamb4 + 2*lamb5)**4 + (9*lamb1 + 4*lamb4 + 2*lamb5)**4/16.)/324.)*mu4 + ((((9*lamb1)/2. - 2*lamb2 - lamb3)**5 + ((9*lamb1)/2. + lamb2 - lamb3)**5 + ((9*lamb1)/2. + lamb2 + 2*lamb3)**5 + ((-9*lamb1)/2. + lamb4 - lamb5)**5 - ((9*lamb1)/2. + 2*lamb4 + lamb5)**5 + ((-9*lamb1)/2. + lamb4 + 2*lamb5)**5)*mu5)/1215. + (85.18229166666667 + (((9*lamb1)/2. + lamb2 - lamb3)**6 + ((-9*lamb1)/2. + 2*lamb2 + lamb3)**6 + ((9*lamb1)/2. + lamb2 + 2*lamb3)**6 + ((9*lamb1)/2. - lamb4 + lamb5)**6 + ((-9*lamb1)/2. + lamb4 + 2*lamb5)**6 + (9*lamb1 + 4*lamb4 + 2*lamb5)**6/64.)/4374.)*mu6"
   ]
  },
  {
   "cell_type": "code",
   "execution_count": 74,
   "metadata": {},
   "outputs": [],
   "source": [
    "def g1_N6(x):\n",
    "    lamb1 = x[0]\n",
    "    lamb2 = x[1]\n",
    "    lamb3 = x[2]\n",
    "    lamb4 = x[3]\n",
    "    lamb5 = x[4]\n",
    "    return lamb2 #>0\n",
    "\n",
    "def g2_N6(x):\n",
    "    lamb1 = x[0]\n",
    "    lamb2 = x[1]\n",
    "    lamb3 = x[2]\n",
    "    lamb4 = x[3]\n",
    "    lamb5 = x[4]\n",
    "    return lamb3 #>0\n",
    "\n",
    "def g3_N6(x):\n",
    "    lamb1 = x[0]\n",
    "    lamb2 = x[1]\n",
    "    lamb3 = x[2]\n",
    "    lamb4 = x[3]\n",
    "    lamb5 = x[4]\n",
    "    return lamb4 #>0\n",
    "\n",
    "def g4_N6(x):\n",
    "    lamb1 = x[0]\n",
    "    lamb2 = x[1]\n",
    "    lamb3 = x[2]\n",
    "    lamb4 = x[3]\n",
    "    lamb5 = x[4]\n",
    "    return lamb5 #>0\n",
    "\n",
    "def g5_N6(x):\n",
    "    lamb1 = x[0]\n",
    "    lamb2 = x[1]\n",
    "    lamb3 = x[2]\n",
    "    lamb4 = x[3]\n",
    "    lamb5 = x[4]\n",
    "    return (lamb2 + lamb3) #>0\n",
    "\n",
    "def g6_N6(x):\n",
    "    lamb1 = x[0]\n",
    "    lamb2 = x[1]\n",
    "    lamb3 = x[2]\n",
    "    lamb4 = x[3]\n",
    "    lamb5 = x[4]\n",
    "    return (9*lamb1 - 2*lamb2 - lamb3 - lamb4 - 2*lamb5) #>0\n",
    "\n",
    "def g7_N6(x):\n",
    "    lamb1 = x[0]\n",
    "    lamb2 = x[1]\n",
    "    lamb3 = x[2]\n",
    "    lamb4 = x[3]\n",
    "    lamb5 = x[4]\n",
    "    return (9*lamb1 + lamb2 - lamb3 - lamb4 - 2*lamb5) #>0\n",
    "\n",
    "def g8_N6(x):\n",
    "    lamb1 = x[0]\n",
    "    lamb2 = x[1]\n",
    "    lamb3 = x[2]\n",
    "    lamb4 = x[3]\n",
    "    lamb5 = x[4]\n",
    "    return (9*lamb1 + lamb2 + 2*lamb3 - lamb4 - 2*lamb5) #>0\n",
    "\n",
    "def g9_N6(x):\n",
    "    lamb1 = x[0]\n",
    "    lamb2 = x[1]\n",
    "    lamb3 = x[2]\n",
    "    lamb4 = x[3]\n",
    "    lamb5 = x[4]\n",
    "    return (9*lamb1 - 2*lamb2 - lamb3 - lamb4 + lamb5) #>0\n",
    "\n",
    "def g10_N6(x):\n",
    "    lamb1 = x[0]\n",
    "    lamb2 = x[1]\n",
    "    lamb3 = x[2]\n",
    "    lamb4 = x[3]\n",
    "    lamb5 = x[4]\n",
    "    return (9*lamb1 + lamb2 - lamb3 - lamb4 + lamb5) #>0\n",
    "\n",
    "def g11_N6(x):\n",
    "    lamb1 = x[0]\n",
    "    lamb2 = x[1]\n",
    "    lamb3 = x[2]\n",
    "    lamb4 = x[3]\n",
    "    lamb5 = x[4]\n",
    "    return (9*lamb1 + lamb2 + 2*lamb3 - lamb4 + lamb5) #>0\n",
    "\n",
    "def g12_N6(x):\n",
    "    lamb1 = x[0]\n",
    "    lamb2 = x[1]\n",
    "    lamb3 = x[2]\n",
    "    lamb4 = x[3]\n",
    "    lamb5 = x[4]\n",
    "    return (lamb4 + lamb5) #>0\n",
    "\n",
    "def g13_N6(x):\n",
    "    lamb1 = x[0]\n",
    "    lamb2 = x[1]\n",
    "    lamb3 = x[2]\n",
    "    lamb4 = x[3]\n",
    "    lamb5 = x[4]\n",
    "    return (9*lamb1 - 2*lamb2 - lamb3 + 2*lamb4 + lamb5) #>0\n",
    "\n",
    "def g14_N6(x):\n",
    "    lamb1 = x[0]\n",
    "    lamb2 = x[1]\n",
    "    lamb3 = x[2]\n",
    "    lamb4 = x[3]\n",
    "    lamb5 = x[4]\n",
    "    return (9*lamb1 + lamb2 - lamb3 + 2*lamb4 + lamb5) #>0\n",
    "\n",
    "def g15_N6(x):\n",
    "    lamb1 = x[0]\n",
    "    lamb2 = x[1]\n",
    "    lamb3 = x[2]\n",
    "    lamb4 = x[3]\n",
    "    lamb5 = x[4]\n",
    "    return (9*lamb1 + lamb2 + 2*(lamb3 + lamb4) + lamb5) #>0\n"
   ]
  },
  {
   "cell_type": "code",
   "execution_count": 91,
   "metadata": {},
   "outputs": [],
   "source": [
    "cons = ({'type':'ineq', 'fun': g1_N6},\n",
    "        {'type':'ineq', 'fun': g2_N6},\n",
    "        {'type':'ineq', 'fun': g3_N6},\n",
    "        {'type':'ineq', 'fun': g4_N6},\n",
    "        {'type':'ineq', 'fun': g5_N6},\n",
    "        {'type':'ineq', 'fun': g6_N6},\n",
    "        {'type':'ineq', 'fun': g7_N6},\n",
    "        {'type':'ineq', 'fun': g8_N6},\n",
    "        {'type':'ineq', 'fun': g9_N6},\n",
    "        {'type':'ineq', 'fun': g10_N6},\n",
    "        {'type':'ineq', 'fun': g11_N6},\n",
    "        {'type':'ineq', 'fun': g12_N6},\n",
    "        {'type':'ineq', 'fun': g13_N6},\n",
    "        {'type':'ineq', 'fun': g14_N6},\n",
    "        {'type':'ineq', 'fun': g15_N6})\n",
    "\n"
   ]
  },
  {
   "cell_type": "code",
   "execution_count": 85,
   "metadata": {},
   "outputs": [
    {
     "data": {
      "text/plain": [
       "array([0.19206515, 0.15896325, 0.11135678, 0.28116917, 0.21710867])"
      ]
     },
     "execution_count": 85,
     "metadata": {},
     "output_type": "execute_result"
    }
   ],
   "source": [
    "bounds_test = [(-50, 50), (-50, 50),(-50, 50),(-50, 50),(-50, 50)]\n",
    "\n",
    "mus3456_test = (1, 1, 10, 11)\n",
    "\n",
    "res_test = shgo(Gamma_N6, bounds=bounds_test, args=mus3456_test, constraints=cons)\n",
    "\n",
    "res_test.x"
   ]
  },
  {
   "cell_type": "code",
   "execution_count": 87,
   "metadata": {},
   "outputs": [
    {
     "data": {
      "text/plain": [
       "array([0.18121762, 0.17268045, 0.12718665, 0.1556669 , 0.2039823 ])"
      ]
     },
     "execution_count": 87,
     "metadata": {},
     "output_type": "execute_result"
    }
   ],
   "source": [
    "bounds_test = [(-50, 50), (-50, 50),(-50, 50),(-50, 50),(-50, 50)]\n",
    "\n",
    "mus3456_test = (1, 1, 1, 20)\n",
    "\n",
    "res_test = shgo(Gamma_N6, bounds=bounds_test, args=mus3456_test, constraints=cons)\n",
    "\n",
    "res_test.x"
   ]
  },
  {
   "cell_type": "code",
   "execution_count": 163,
   "metadata": {},
   "outputs": [
    {
     "name": "stdout",
     "output_type": "stream",
     "text": [
      "Iteración  1 de  10 con mu6=  0.1\n",
      "[0. 0. 0. 0. 0.]\n",
      "[0. 0. 0. 0. 0.]\n",
      "[0. 0. 0. 0. 0.]\n",
      "[0. 0. 0. 0. 0.]\n",
      "[0. 0. 0. 0. 0.]\n",
      "[0. 0. 0. 0. 0.]\n",
      "[0. 0. 0. 0. 0.]\n",
      "[0. 0. 0. 0. 0.]\n",
      "[0. 0. 0. 0. 0.]\n",
      "[0. 0. 0. 0. 0.]\n",
      "Iteración  2 de  10 con mu6=  0.8666666666666667\n",
      "[0. 0. 0. 0. 0.]\n",
      "[0. 0. 0. 0. 0.]\n",
      "[0. 0. 0. 0. 0.]\n",
      "[0. 0. 0. 0. 0.]\n",
      "[0. 0. 0. 0. 0.]\n",
      "[0. 0. 0. 0. 0.]\n",
      "[0. 0. 0. 0. 0.]\n",
      "[0. 0. 0. 0. 0.]\n",
      "[0. 0. 0. 0. 0.]\n",
      "[0. 0. 0. 0. 0.]\n",
      "Iteración  3 de  10 con mu6=  1.6333333333333335\n",
      "[0. 0. 0. 0. 0.]\n",
      "[0. 0. 0. 0. 0.]\n",
      "[0. 0. 0. 0. 0.]\n",
      "[0. 0. 0. 0. 0.]\n",
      "[0. 0. 0. 0. 0.]"
     ]
    },
    {
     "name": "stderr",
     "output_type": "stream",
     "text": [
      "<ipython-input-163-6f179db1eb0a>:34: RuntimeWarning: divide by zero encountered in log\n",
      "  Q2_array_3[(n-1) - y, x] = np.log(Q2_N6(res_xy.x))\n"
     ]
    },
    {
     "name": "stdout",
     "output_type": "stream",
     "text": [
      "\n",
      "[0. 0. 0. 0. 0.]\n",
      "[0. 0. 0. 0. 0.]\n",
      "[0. 0. 0. 0. 0.]\n",
      "[0. 0. 0. 0. 0.]\n",
      "[0. 0. 0. 0. 0.]\n",
      "Iteración  4 de  10 con mu6=  2.4000000000000004\n",
      "[0. 0. 0. 0. 0.]\n",
      "[0. 0. 0. 0. 0.]\n",
      "[0. 0. 0. 0. 0.]\n",
      "[0. 0. 0. 0. 0.]\n",
      "[0. 0. 0. 0. 0.]\n",
      "[0. 0. 0. 0. 0.]\n",
      "[0. 0. 0. 0. 0.]\n",
      "[0. 0. 0. 0. 0.]\n",
      "[0. 0. 0. 0. 0.]\n",
      "[0. 0. 0. 0. 0.]\n",
      "Iteración  5 de  10 con mu6=  3.166666666666667\n",
      "[0. 0. 0. 0. 0.]\n",
      "[0. 0. 0. 0. 0.]\n",
      "[0. 0. 0. 0. 0.]\n",
      "[0. 0. 0. 0. 0.]\n",
      "[0. 0. 0. 0. 0.]\n",
      "[0. 0. 0. 0. 0.]\n",
      "[0. 0. 0. 0. 0.]\n",
      "[0. 0. 0. 0. 0.]\n",
      "[0. 0. 0. 0. 0.]\n",
      "[0. 0. 0. 0. 0.]\n",
      "Iteración  6 de  10 con mu6=  3.9333333333333336\n",
      "[0. 0. 0. 0. 0.]\n",
      "[0. 0. 0. 0. 0.]\n",
      "[0. 0. 0. 0. 0.]\n",
      "[0. 0. 0. 0. 0.]\n",
      "[0. 0. 0. 0. 0.]\n",
      "[0. 0. 0. 0. 0.]\n",
      "[0. 0. 0. 0. 0.]\n",
      "[0. 0. 0. 0. 0.]\n",
      "[0. 0. 0. 0. 0.]\n",
      "[0. 0. 0. 0. 0.]\n",
      "Iteración  7 de  10 con mu6=  4.7\n",
      "[0. 0. 0. 0. 0.]\n",
      "[0. 0. 0. 0. 0.]\n",
      "[0. 0. 0. 0. 0.]\n",
      "[0. 0. 0. 0. 0.]\n",
      "[0. 0. 0. 0. 0.]\n",
      "[0. 0. 0. 0. 0.]\n",
      "[0. 0. 0. 0. 0.]\n",
      "[0. 0. 0. 0. 0.]\n",
      "[0. 0. 0. 0. 0.]\n",
      "[0. 0. 0. 0. 0.]\n",
      "Iteración  8 de  10 con mu6=  5.466666666666667\n",
      "[0. 0. 0. 0. 0.]\n",
      "[0. 0. 0. 0. 0.]\n",
      "[0. 0. 0. 0. 0.]\n",
      "[0. 0. 0. 0. 0.]\n",
      "[0. 0. 0. 0. 0.]\n",
      "[0. 0. 0. 0. 0.]\n",
      "[0. 0. 0. 0. 0.]\n",
      "[0. 0. 0. 0. 0.]\n",
      "[0. 0. 0. 0. 0.]\n",
      "[0. 0. 0. 0. 0.]\n",
      "Iteración  9 de  10 con mu6=  6.233333333333333\n",
      "[0. 0. 0. 0. 0.]\n",
      "[0. 0. 0. 0. 0.]\n",
      "[0. 0. 0. 0. 0.]\n",
      "[0. 0. 0. 0. 0.]\n",
      "[0. 0. 0. 0. 0.]\n",
      "[0. 0. 0. 0. 0.]\n",
      "[0. 0. 0. 0. 0.]\n",
      "[0. 0. 0. 0. 0.]\n",
      "[0. 0. 0. 0. 0.]\n",
      "[0. 0. 0. 0. 0.]\n",
      "Iteración  10 de  10 con mu6=  7.0\n",
      "[0. 0. 0. 0. 0.]\n",
      "[0. 0. 0. 0. 0.]\n",
      "[0. 0. 0. 0. 0.]\n",
      "[0. 0. 0. 0. 0.]\n",
      "[0. 0. 0. 0. 0.]\n",
      "[0. 0. 0. 0. 0.]\n",
      "[0. 0. 0. 0. 0.]\n",
      "[0. 0. 0. 0. 0.]\n",
      "[0. 0. 0. 0. 0.]\n",
      "[0. 0. 0. 0. 0.]\n"
     ]
    }
   ],
   "source": [
    "mu50 = 0.1\n",
    "mu5f = 35\n",
    "\n",
    "mu60 = 0.1\n",
    "mu6f = 7\n",
    "\n",
    "n = 10\n",
    "mu5list = np.linspace(mu50, mu5f, n)\n",
    "mu6list = np.linspace(mu60, mu6f, n)\n",
    "\n",
    "def Q2_N6(x):\n",
    "    lamb1 = x[0]\n",
    "    lamb2 = x[1]\n",
    "    lamb3 = x[2]\n",
    "    lamb4 = x[3]\n",
    "    lamb5 = x[4]\n",
    "    return (81*lamb1**2 + 4*(lamb2**2 + lamb2*lamb3 + lamb3**2 + lamb4**2 + lamb4*lamb5 + lamb5**2))/12.\n",
    "\n",
    "Q2_array_3 = np.zeros((n, n))\n",
    "bounds = [(None, None), (None, None),(None, None),(None, None),(None, None)]\n",
    "\n",
    "for y in range(len(mu6list)):\n",
    "    print('Iteración ', y+1, \"de \", len(mu6list),\"con mu6= \",mu6list[y])\n",
    "    for x in range(len(mu5list)):\n",
    "        mus_xy = (60, 60, mu5list[x], mu6list[y])\n",
    "        res_xy = shgo(Gamma_N6, bounds=bounds, args=mus_xy, constraints=cons)\n",
    "        #res = minimize(Gamma, (0.2, 0.2, 0.2), args=(mu3list[x], mu4list[y]), bounds=bnds, constraints=cons)\n",
    "        #lamb1 = res.x[0]\n",
    "        #lamb2 = res.x[1]\n",
    "        #lamb3 = res.x[2]\n",
    "        #print(res.x)\n",
    "        #print(res)\n",
    "        #lamb1, lamb2, lamb3 =  res\n",
    "        Q2_array_3[(n-1) - y, x] = np.log(Q2_N6(res_xy.x))\n",
    "        print(res_xy.x)\n",
    "\n",
    "# Para N=6 con 100x100 puntos, se demoró 23 minutos\n"
   ]
  },
  {
   "cell_type": "code",
   "execution_count": null,
   "metadata": {},
   "outputs": [],
   "source": [
    "len(mu)"
   ]
  },
  {
   "cell_type": "code",
   "execution_count": 114,
   "metadata": {},
   "outputs": [
    {
     "name": "stdout",
     "output_type": "stream",
     "text": [
      "-0.8022534048789411 11.258033215341438\n"
     ]
    }
   ],
   "source": [
    "print(np.min(Q2_array_2),np.max(Q2_array_2))"
   ]
  },
  {
   "cell_type": "code",
   "execution_count": 162,
   "metadata": {},
   "outputs": [
    {
     "data": {
      "text/plain": [
       "<matplotlib.colorbar.Colorbar at 0x7ff1a82859a0>"
      ]
     },
     "execution_count": 162,
     "metadata": {},
     "output_type": "execute_result"
    },
    {
     "data": {
      "image/png": "[encoded data removed]",
      "text/plain": [
       "<Figure size 720x720 with 2 Axes>"
      ]
     },
     "metadata": {
      "needs_background": "light"
     },
     "output_type": "display_data"
    }
   ],
   "source": [
    "fig6, ax6 = plt.subplots(figsize=(10,10))\n",
    "\n",
    "c = ax6.imshow(Q2_array_3, cmap ='cool', interpolation ='nearest', origin ='upper', extent =[mu50, mu5f, mu60, mu6f],aspect='auto')\n",
    "ax6.set_title(\"Transición fase $Q_2$ para spin $N=6$ con $\\mu_3=\\mu_4=60$\")\n",
    "ax6.set_xlabel(\"$\\mu_5/\\mu^4$\")\n",
    "ax6.set_ylabel(\"$\\mu_6/\\mu^5$\", rotation=90)\n",
    "\n",
    "fig6.colorbar(c, ax=ax6, label='log($Q_2\\mu^2$)')"
   ]
  },
  {
   "cell_type": "code",
   "execution_count": 127,
   "metadata": {},
   "outputs": [],
   "source": [
    "#np.save('Q2_N6_200x200point.npy',Q2_array_2)"
   ]
  },
  {
   "cell_type": "markdown",
   "metadata": {},
   "source": [
    "# Transición N=6"
   ]
  },
  {
   "cell_type": "code",
   "execution_count": 164,
   "metadata": {},
   "outputs": [],
   "source": [
    "#from scipy.optimize import rosen, shgo\n",
    "\n",
    "def Gamma2_N6(x, *mus345):\n",
    "    lamb1 = x[0]\n",
    "    lamb2 = x[1]\n",
    "    lamb3 = x[2]\n",
    "    lamb4 = x[3]\n",
    "    lamb5 = x[4]\n",
    "\n",
    "    v1 = x[5]\n",
    "    v2 = x[6]\n",
    "    v3 = x[7]\n",
    "    v4 = x[8]\n",
    "    v5 = x[9]\n",
    "\n",
    "    mu6 = x[10]\n",
    "\n",
    "    mu3 = mus345[0]\n",
    "    mu4 = mus345[1]\n",
    "    mu5 = mus345[2]\n",
    " \n",
    "    return (-27*lamb1)/2. - lamb2 - lamb3 - lamb4 - lamb5 + (5*(105 + 81*lamb1**2 + 4*(lamb2**2 + lamb2*lamb3 + lamb3**2 + lamb4**2 + lamb4*lamb5 + lamb5**2)))/12. + ((-2*lamb2**3 - 3*lamb2**2*lamb3 + 3*lamb2*lamb3**2 + 2*lamb3**3 - 2*lamb4**3 - 3*lamb4**2*lamb5 + 3*lamb4*lamb5**2 + 2*lamb5**3 + 27*lamb1*(lamb2**2 + lamb2*lamb3 + lamb3**2 - lamb4**2 - lamb4*lamb5 - lamb5**2))*mu3)/27. + (-22.09375 + (((9*lamb1)/2. + lamb2 - lamb3)**4 + ((-9*lamb1)/2. + 2*lamb2 + lamb3)**4 + ((9*lamb1)/2. + lamb2 + 2*lamb3)**4 + ((9*lamb1)/2. - lamb4 + lamb5)**4 + ((-9*lamb1)/2. + lamb4 + 2*lamb5)**4 + (9*lamb1 + 4*lamb4 + 2*lamb5)**4/16.)/324.)*mu4 + ((((9*lamb1)/2. - 2*lamb2 - lamb3)**5 + ((9*lamb1)/2. + lamb2 - lamb3)**5 + ((9*lamb1)/2. + lamb2 + 2*lamb3)**5 + ((-9*lamb1)/2. + lamb4 - lamb5)**5 - ((9*lamb1)/2. + 2*lamb4 + lamb5)**5 + ((-9*lamb1)/2. + lamb4 + 2*lamb5)**5)*mu5)/1215. + (85.18229166666667 + (((9*lamb1)/2. + lamb2 - lamb3)**6 + ((-9*lamb1)/2. + 2*lamb2 + lamb3)**6 + ((9*lamb1)/2. + lamb2 + 2*lamb3)**6 + ((9*lamb1)/2. - lamb4 + lamb5)**6 + ((-9*lamb1)/2. + lamb4 + 2*lamb5)**6 + (9*lamb1 + 4*lamb4 + 2*lamb5)**6/64.)/4374.)*mu6"
   ]
  },
  {
   "cell_type": "code",
   "execution_count": 165,
   "metadata": {},
   "outputs": [],
   "source": [
    "\"\"\"\n",
    "SEGUNDAS DERIVADAS\n",
    "\"\"\"\n",
    "\n",
    "def f1_N6(x, *mus345):\n",
    "    lamb1 = x[0]\n",
    "    lamb2 = x[1]\n",
    "    lamb3 = x[2]\n",
    "    lamb4 = x[3]\n",
    "    lamb5 = x[4]\n",
    "\n",
    "    v1 = x[5]\n",
    "    v2 = x[6]\n",
    "    v3 = x[7]\n",
    "    v4 = x[8]\n",
    "    v5 = x[9]\n",
    "\n",
    "    mu6 = x[10]\n",
    "\n",
    "    mu3 = mus345[0]\n",
    "    mu4 = mus345[1]\n",
    "    mu5 = mus345[2]\n",
    "\n",
    "    segunda_derivada1 = (67.5 + ((243*((9*lamb1)/2. + lamb2 - lamb3)**2 + 243*((-9*lamb1)/2. + 2*lamb2 + lamb3)**2 + 243*((9*lamb1)/2. + lamb2 + 2*lamb3)**2 + 243*((9*lamb1)/2. - lamb4 + lamb5)**2 + 243*((-9*lamb1)/2. + lamb4 + 2*lamb5)**2 + (243*(9*lamb1 + 4*lamb4 + 2*lamb5)**2)/4.)*mu4)/324. + ((405*((9*lamb1)/2. - 2*lamb2 - lamb3)**3 + 405*((9*lamb1)/2. + lamb2 - lamb3)**3 + 405*((9*lamb1)/2. + lamb2 + 2*lamb3)**3 + 405*((-9*lamb1)/2. + lamb4 - lamb5)**3 - 405*((9*lamb1)/2. + 2*lamb4 + lamb5)**3 + 405*((-9*lamb1)/2. + lamb4 + 2*lamb5)**3)*mu5)/1215. + (((1215*((9*lamb1)/2. + lamb2 - lamb3)**4)/2. + (1215*((-9*lamb1)/2. + 2*lamb2 + lamb3)**4)/2. + (1215*((9*lamb1)/2. + lamb2 + 2*lamb3)**4)/2. + (1215*((9*lamb1)/2. - lamb4 + lamb5)**4)/2. + (1215*((-9*lamb1)/2. + lamb4 + 2*lamb5)**4)/2. + (1215*(9*lamb1 + 4*lamb4 + 2*lamb5)**4)/32.)*mu6)/4374.)*v1 + ((2*lamb2 + lamb3)*mu3 + ((54*((9*lamb1)/2. + lamb2 - lamb3)**2 - 108*((-9*lamb1)/2. + 2*lamb2 + lamb3)**2 + 54*((9*lamb1)/2. + lamb2 + 2*lamb3)**2)*mu4)/324. + ((-180*((9*lamb1)/2. - 2*lamb2 - lamb3)**3 + 90*((9*lamb1)/2. + lamb2 - lamb3)**3 + 90*((9*lamb1)/2. + lamb2 + 2*lamb3)**3)*mu5)/1215. + ((135*((9*lamb1)/2. + lamb2 - lamb3)**4 - 270*((-9*lamb1)/2. + 2*lamb2 + lamb3)**4 + 135*((9*lamb1)/2. + lamb2 + 2*lamb3)**4)*mu6)/4374.)*v2 + ((lamb2 + 2*lamb3)*mu3 + ((-54*((9*lamb1)/2. + lamb2 - lamb3)**2 - 54*((-9*lamb1)/2. + 2*lamb2 + lamb3)**2 + 108*((9*lamb1)/2. + lamb2 + 2*lamb3)**2)*mu4)/324. + ((-90*((9*lamb1)/2. - 2*lamb2 - lamb3)**3 - 90*((9*lamb1)/2. + lamb2 - lamb3)**3 + 180*((9*lamb1)/2. + lamb2 + 2*lamb3)**3)*mu5)/1215. + ((-135*((9*lamb1)/2. + lamb2 - lamb3)**4 - 135*((-9*lamb1)/2. + 2*lamb2 + lamb3)**4 + 270*((9*lamb1)/2. + lamb2 + 2*lamb3)**4)*mu6)/4374.)*v3 + ((-2*lamb4 - lamb5)*mu3 + ((-54*((9*lamb1)/2. - lamb4 + lamb5)**2 - 54*((-9*lamb1)/2. + lamb4 + 2*lamb5)**2 + 27*(9*lamb1 + 4*lamb4 + 2*lamb5)**2)*mu4)/324. + ((-90*((-9*lamb1)/2. + lamb4 - lamb5)**3 - 180*((9*lamb1)/2. + 2*lamb4 + lamb5)**3 - 90*((-9*lamb1)/2. + lamb4 + 2*lamb5)**3)*mu5)/1215. + ((-135*((9*lamb1)/2. - lamb4 + lamb5)**4 - 135*((-9*lamb1)/2. + lamb4 + 2*lamb5)**4 + (135*(9*lamb1 + 4*lamb4 + 2*lamb5)**4)/8.)*mu6)/4374.)*v4 + ((-lamb4 - 2*lamb5)*mu3 + ((54*((9*lamb1)/2. - lamb4 + lamb5)**2 - 108*((-9*lamb1)/2. + lamb4 + 2*lamb5)**2 + (27*(9*lamb1 + 4*lamb4 + 2*lamb5)**2)/2.)*mu4)/324. + ((90*((-9*lamb1)/2. + lamb4 - lamb5)**3 - 90*((9*lamb1)/2. + 2*lamb4 + lamb5)**3 - 180*((-9*lamb1)/2. + lamb4 + 2*lamb5)**3)*mu5)/1215. + ((135*((9*lamb1)/2. - lamb4 + lamb5)**4 - 270*((-9*lamb1)/2. + lamb4 + 2*lamb5)**4 + (135*(9*lamb1 + 4*lamb4 + 2*lamb5)**4)/16.)*mu6)/4374.)*v5\n",
    "\n",
    "    return segunda_derivada1 #=0\n",
    "\n",
    "def f2_N6(x, *mus345):\n",
    "    lamb1 = x[0]\n",
    "    lamb2 = x[1]\n",
    "    lamb3 = x[2]\n",
    "    lamb4 = x[3]\n",
    "    lamb5 = x[4]\n",
    "\n",
    "    v1 = x[5]\n",
    "    v2 = x[6]\n",
    "    v3 = x[7]\n",
    "    v4 = x[8]\n",
    "    v5 = x[9]\n",
    "\n",
    "    mu6 = x[10]\n",
    "\n",
    "    mu3 = mus345[0]\n",
    "    mu4 = mus345[1]\n",
    "    mu5 = mus345[2]\n",
    "\n",
    "    segunda_derivada2 = ((2*lamb2 + lamb3)*mu3 + ((54*((9*lamb1)/2. + lamb2 - lamb3)**2 - 108*((-9*lamb1)/2. + 2*lamb2 + lamb3)**2 + 54*((9*lamb1)/2. + lamb2 + 2*lamb3)**2)*mu4)/324. + ((-180*((9*lamb1)/2. - 2*lamb2 - lamb3)**3 + 90*((9*lamb1)/2. + lamb2 - lamb3)**3 + 90*((9*lamb1)/2. + lamb2 + 2*lamb3)**3)*mu5)/1215. + ((135*((9*lamb1)/2. + lamb2 - lamb3)**4 - 270*((-9*lamb1)/2. + 2*lamb2 + lamb3)**4 + 135*((9*lamb1)/2. + lamb2 + 2*lamb3)**4)*mu6)/4374.)*v1 + (3.3333333333333335 + ((54*lamb1 - 12*lamb2 - 6*lamb3)*mu3)/27. + ((12*((9*lamb1)/2. + lamb2 - lamb3)**2 + 48*((-9*lamb1)/2. + 2*lamb2 + lamb3)**2 + 12*((9*lamb1)/2. + lamb2 + 2*lamb3)**2)*mu4)/324. + ((80*((9*lamb1)/2. - 2*lamb2 - lamb3)**3 + 20*((9*lamb1)/2. + lamb2 - lamb3)**3 + 20*((9*lamb1)/2. + lamb2 + 2*lamb3)**3)*mu5)/1215. + ((30*((9*lamb1)/2. + lamb2 - lamb3)**4 + 120*((-9*lamb1)/2. + 2*lamb2 + lamb3)**4 + 30*((9*lamb1)/2. + lamb2 + 2*lamb3)**4)*mu6)/4374.)*v2 + (1.6666666666666667 + ((27*lamb1 - 6*lamb2 + 6*lamb3)*mu3)/27. + ((-12*((9*lamb1)/2. + lamb2 - lamb3)**2 + 24*((-9*lamb1)/2. + 2*lamb2 + lamb3)**2 + 24*((9*lamb1)/2. + lamb2 + 2*lamb3)**2)*mu4)/324. + ((40*((9*lamb1)/2. - 2*lamb2 - lamb3)**3 - 20*((9*lamb1)/2. + lamb2 - lamb3)**3 + 40*((9*lamb1)/2. + lamb2 + 2*lamb3)**3)*mu5)/1215. + ((-30*((9*lamb1)/2. + lamb2 - lamb3)**4 + 60*((-9*lamb1)/2. + 2*lamb2 + lamb3)**4 + 60*((9*lamb1)/2. + lamb2 + 2*lamb3)**4)*mu6)/4374.)*v3\n",
    "\n",
    "    return segunda_derivada2 #=0\n",
    "\n",
    "def f3_N6(x, *mus345):\n",
    "    lamb1 = x[0]\n",
    "    lamb2 = x[1]\n",
    "    lamb3 = x[2]\n",
    "    lamb4 = x[3]\n",
    "    lamb5 = x[4]\n",
    "\n",
    "    v1 = x[5]\n",
    "    v2 = x[6]\n",
    "    v3 = x[7]\n",
    "    v4 = x[8]\n",
    "    v5 = x[9]\n",
    "\n",
    "    mu6 = x[10]\n",
    "\n",
    "    mu3 = mus345[0]\n",
    "    mu4 = mus345[1]\n",
    "    mu5 = mus345[2]\n",
    "\n",
    "    segunda_derivada3 = ((lamb2 + 2*lamb3)*mu3 + ((-54*((9*lamb1)/2. + lamb2 - lamb3)**2 - 54*((-9*lamb1)/2. + 2*lamb2 + lamb3)**2 + 108*((9*lamb1)/2. + lamb2 + 2*lamb3)**2)*mu4)/324. + ((-90*((9*lamb1)/2. - 2*lamb2 - lamb3)**3 - 90*((9*lamb1)/2. + lamb2 - lamb3)**3 + 180*((9*lamb1)/2. + lamb2 + 2*lamb3)**3)*mu5)/1215. + ((-135*((9*lamb1)/2. + lamb2 - lamb3)**4 - 135*((-9*lamb1)/2. + 2*lamb2 + lamb3)**4 + 270*((9*lamb1)/2. + lamb2 + 2*lamb3)**4)*mu6)/4374.)*v1 + (1.6666666666666667 + ((27*lamb1 - 6*lamb2 + 6*lamb3)*mu3)/27. + ((-12*((9*lamb1)/2. + lamb2 - lamb3)**2 + 24*((-9*lamb1)/2. + 2*lamb2 + lamb3)**2 + 24*((9*lamb1)/2. + lamb2 + 2*lamb3)**2)*mu4)/324. + ((40*((9*lamb1)/2. - 2*lamb2 - lamb3)**3 - 20*((9*lamb1)/2. + lamb2 - lamb3)**3 + 40*((9*lamb1)/2. + lamb2 + 2*lamb3)**3)*mu5)/1215. + ((-30*((9*lamb1)/2. + lamb2 - lamb3)**4 + 60*((-9*lamb1)/2. + 2*lamb2 + lamb3)**4 + 60*((9*lamb1)/2. + lamb2 + 2*lamb3)**4)*mu6)/4374.)*v2 + (3.3333333333333335 + ((54*lamb1 + 6*lamb2 + 12*lamb3)*mu3)/27. + ((12*((9*lamb1)/2. + lamb2 - lamb3)**2 + 12*((-9*lamb1)/2. + 2*lamb2 + lamb3)**2 + 48*((9*lamb1)/2. + lamb2 + 2*lamb3)**2)*mu4)/324. + ((20*((9*lamb1)/2. - 2*lamb2 - lamb3)**3 + 20*((9*lamb1)/2. + lamb2 - lamb3)**3 + 80*((9*lamb1)/2. + lamb2 + 2*lamb3)**3)*mu5)/1215. + ((30*((9*lamb1)/2. + lamb2 - lamb3)**4 + 30*((-9*lamb1)/2. + 2*lamb2 + lamb3)**4 + 120*((9*lamb1)/2. + lamb2 + 2*lamb3)**4)*mu6)/4374.)*v3\n",
    "\n",
    "    return segunda_derivada3 #=0\n",
    "\n",
    "def f4_N6(x, *mus345):\n",
    "    lamb1 = x[0]\n",
    "    lamb2 = x[1]\n",
    "    lamb3 = x[2]\n",
    "    lamb4 = x[3]\n",
    "    lamb5 = x[4]\n",
    "\n",
    "    v1 = x[5]\n",
    "    v2 = x[6]\n",
    "    v3 = x[7]\n",
    "    v4 = x[8]\n",
    "    v5 = x[9]\n",
    "\n",
    "    mu6 = x[10]\n",
    "\n",
    "    mu3 = mus345[0]\n",
    "    mu4 = mus345[1]\n",
    "    mu5 = mus345[2]\n",
    "\n",
    "    segunda_derivada4 = ((-2*lamb4 - lamb5)*mu3 + ((-54*((9*lamb1)/2. - lamb4 + lamb5)**2 - 54*((-9*lamb1)/2. + lamb4 + 2*lamb5)**2 + 27*(9*lamb1 + 4*lamb4 + 2*lamb5)**2)*mu4)/324. + ((-90*((-9*lamb1)/2. + lamb4 - lamb5)**3 - 180*((9*lamb1)/2. + 2*lamb4 + lamb5)**3 - 90*((-9*lamb1)/2. + lamb4 + 2*lamb5)**3)*mu5)/1215. + ((-135*((9*lamb1)/2. - lamb4 + lamb5)**4 - 135*((-9*lamb1)/2. + lamb4 + 2*lamb5)**4 + (135*(9*lamb1 + 4*lamb4 + 2*lamb5)**4)/8.)*mu6)/4374.)*v1 + (3.3333333333333335 + ((-54*lamb1 - 12*lamb4 - 6*lamb5)*mu3)/27. + ((12*((9*lamb1)/2. - lamb4 + lamb5)**2 + 12*((-9*lamb1)/2. + lamb4 + 2*lamb5)**2 + 12*(9*lamb1 + 4*lamb4 + 2*lamb5)**2)*mu4)/324. + ((20*((-9*lamb1)/2. + lamb4 - lamb5)**3 - 80*((9*lamb1)/2. + 2*lamb4 + lamb5)**3 + 20*((-9*lamb1)/2. + lamb4 + 2*lamb5)**3)*mu5)/1215. + ((30*((9*lamb1)/2. - lamb4 + lamb5)**4 + 30*((-9*lamb1)/2. + lamb4 + 2*lamb5)**4 + (15*(9*lamb1 + 4*lamb4 + 2*lamb5)**4)/2.)*mu6)/4374.)*v4 + (1.6666666666666667 + ((-27*lamb1 - 6*lamb4 + 6*lamb5)*mu3)/27. + ((-12*((9*lamb1)/2. - lamb4 + lamb5)**2 + 24*((-9*lamb1)/2. + lamb4 + 2*lamb5)**2 + 6*(9*lamb1 + 4*lamb4 + 2*lamb5)**2)*mu4)/324. + ((-20*((-9*lamb1)/2. + lamb4 - lamb5)**3 - 40*((9*lamb1)/2. + 2*lamb4 + lamb5)**3 + 40*((-9*lamb1)/2. + lamb4 + 2*lamb5)**3)*mu5)/1215. + ((-30*((9*lamb1)/2. - lamb4 + lamb5)**4 + 60*((-9*lamb1)/2. + lamb4 + 2*lamb5)**4 + (15*(9*lamb1 + 4*lamb4 + 2*lamb5)**4)/4.)*mu6)/4374.)*v5\n",
    "\n",
    "    return segunda_derivada4 #=0\n",
    "\n",
    "def f5_N6(x, *mus345):\n",
    "    lamb1 = x[0]\n",
    "    lamb2 = x[1]\n",
    "    lamb3 = x[2]\n",
    "    lamb4 = x[3]\n",
    "    lamb5 = x[4]\n",
    "\n",
    "    v1 = x[5]\n",
    "    v2 = x[6]\n",
    "    v3 = x[7]\n",
    "    v4 = x[8]\n",
    "    v5 = x[9]\n",
    "\n",
    "    mu6 = x[10]\n",
    "\n",
    "    mu3 = mus345[0]\n",
    "    mu4 = mus345[1]\n",
    "    mu5 = mus345[2]\n",
    "\n",
    "    segunda_derivada5 = ((-lamb4 - 2*lamb5)*mu3 + ((54*((9*lamb1)/2. - lamb4 + lamb5)**2 - 108*((-9*lamb1)/2. + lamb4 + 2*lamb5)**2 + (27*(9*lamb1 + 4*lamb4 + 2*lamb5)**2)/2.)*mu4)/324. + ((90*((-9*lamb1)/2. + lamb4 - lamb5)**3 - 90*((9*lamb1)/2. + 2*lamb4 + lamb5)**3 - 180*((-9*lamb1)/2. + lamb4 + 2*lamb5)**3)*mu5)/1215. + ((135*((9*lamb1)/2. - lamb4 + lamb5)**4 - 270*((-9*lamb1)/2. + lamb4 + 2*lamb5)**4 + (135*(9*lamb1 + 4*lamb4 + 2*lamb5)**4)/16.)*mu6)/4374.)*v1 + (1.6666666666666667 + ((-27*lamb1 - 6*lamb4 + 6*lamb5)*mu3)/27. + ((-12*((9*lamb1)/2. - lamb4 + lamb5)**2 + 24*((-9*lamb1)/2. + lamb4 + 2*lamb5)**2 + 6*(9*lamb1 + 4*lamb4 + 2*lamb5)**2)*mu4)/324. + ((-20*((-9*lamb1)/2. + lamb4 - lamb5)**3 - 40*((9*lamb1)/2. + 2*lamb4 + lamb5)**3 + 40*((-9*lamb1)/2. + lamb4 + 2*lamb5)**3)*mu5)/1215. + ((-30*((9*lamb1)/2. - lamb4 + lamb5)**4 + 60*((-9*lamb1)/2. + lamb4 + 2*lamb5)**4 + (15*(9*lamb1 + 4*lamb4 + 2*lamb5)**4)/4.)*mu6)/4374.)*v4 + (3.3333333333333335 + ((-54*lamb1 + 6*lamb4 + 12*lamb5)*mu3)/27. + ((12*((9*lamb1)/2. - lamb4 + lamb5)**2 + 48*((-9*lamb1)/2. + lamb4 + 2*lamb5)**2 + 3*(9*lamb1 + 4*lamb4 + 2*lamb5)**2)*mu4)/324. + ((20*((-9*lamb1)/2. + lamb4 - lamb5)**3 - 20*((9*lamb1)/2. + 2*lamb4 + lamb5)**3 + 80*((-9*lamb1)/2. + lamb4 + 2*lamb5)**3)*mu5)/1215. + ((30*((9*lamb1)/2. - lamb4 + lamb5)**4 + 120*((-9*lamb1)/2. + lamb4 + 2*lamb5)**4 + (15*(9*lamb1 + 4*lamb4 + 2*lamb5)**4)/8.)*mu6)/4374.)*v5\n",
    "\n",
    "    return segunda_derivada5 #=0\n",
    "\n",
    "def normalizacion_v(x):\n",
    "    v1 = x[5]\n",
    "    v2 = x[6]\n",
    "    v3 = x[7]\n",
    "    v4 = x[8]\n",
    "    v5 = x[9]\n",
    "\n",
    "    return v1**2 +v2**2 +v3**2 +v4**2 +v5**2 - 1 #=0\n",
    "\n"
   ]
  },
  {
   "cell_type": "code",
   "execution_count": 166,
   "metadata": {},
   "outputs": [
    {
     "name": "stderr",
     "output_type": "stream",
     "text": [
      "<ipython-input-164-47432a5e4484>:22: RuntimeWarning: overflow encountered in double_scalars\n",
      "  return (-27*lamb1)/2. - lamb2 - lamb3 - lamb4 - lamb5 + (5*(105 + 81*lamb1**2 + 4*(lamb2**2 + lamb2*lamb3 + lamb3**2 + lamb4**2 + lamb4*lamb5 + lamb5**2)))/12. + ((-2*lamb2**3 - 3*lamb2**2*lamb3 + 3*lamb2*lamb3**2 + 2*lamb3**3 - 2*lamb4**3 - 3*lamb4**2*lamb5 + 3*lamb4*lamb5**2 + 2*lamb5**3 + 27*lamb1*(lamb2**2 + lamb2*lamb3 + lamb3**2 - lamb4**2 - lamb4*lamb5 - lamb5**2))*mu3)/27. + (-22.09375 + (((9*lamb1)/2. + lamb2 - lamb3)**4 + ((-9*lamb1)/2. + 2*lamb2 + lamb3)**4 + ((9*lamb1)/2. + lamb2 + 2*lamb3)**4 + ((9*lamb1)/2. - lamb4 + lamb5)**4 + ((-9*lamb1)/2. + lamb4 + 2*lamb5)**4 + (9*lamb1 + 4*lamb4 + 2*lamb5)**4/16.)/324.)*mu4 + ((((9*lamb1)/2. - 2*lamb2 - lamb3)**5 + ((9*lamb1)/2. + lamb2 - lamb3)**5 + ((9*lamb1)/2. + lamb2 + 2*lamb3)**5 + ((-9*lamb1)/2. + lamb4 - lamb5)**5 - ((9*lamb1)/2. + 2*lamb4 + lamb5)**5 + ((-9*lamb1)/2. + lamb4 + 2*lamb5)**5)*mu5)/1215. + (85.18229166666667 + (((9*lamb1)/2. + lamb2 - lamb3)**6 + ((-9*lamb1)/2. + 2*lamb2 + lamb3)**6 + ((9*lamb1)/2. + lamb2 + 2*lamb3)**6 + ((9*lamb1)/2. - lamb4 + lamb5)**6 + ((-9*lamb1)/2. + lamb4 + 2*lamb5)**6 + (9*lamb1 + 4*lamb4 + 2*lamb5)**6/64.)/4374.)*mu6\n"
     ]
    },
    {
     "data": {
      "text/plain": [
       "array([ 1.e+50,  1.e+50,  1.e+50,  1.e+50,  1.e+50, -1.e+50, -1.e+50,\n",
       "       -1.e+50, -1.e+50, -1.e+50, -1.e+50])"
      ]
     },
     "execution_count": 166,
     "metadata": {},
     "output_type": "execute_result"
    }
   ],
   "source": [
    "mus345_test = (60, 60, 20)\n",
    "\n",
    "cons_2 = ({'type':'ineq', 'fun': g1_N6},\n",
    "        {'type':'ineq', 'fun': g2_N6},\n",
    "        {'type':'ineq', 'fun': g3_N6},\n",
    "        {'type':'ineq', 'fun': g4_N6},\n",
    "        {'type':'ineq', 'fun': g5_N6},\n",
    "        {'type':'ineq', 'fun': g6_N6},\n",
    "        {'type':'ineq', 'fun': g7_N6},\n",
    "        {'type':'ineq', 'fun': g8_N6},\n",
    "        {'type':'ineq', 'fun': g9_N6},\n",
    "        {'type':'ineq', 'fun': g10_N6},\n",
    "        {'type':'ineq', 'fun': g11_N6},\n",
    "        {'type':'ineq', 'fun': g12_N6},\n",
    "        {'type':'ineq', 'fun': g13_N6},\n",
    "        {'type':'ineq', 'fun': g14_N6},\n",
    "        {'type':'ineq', 'fun': g15_N6},\n",
    "        {'type':'eq', 'fun': f1_N6,'args':mus345_test},\n",
    "        {'type':'eq', 'fun': f2_N6,'args':mus345_test},\n",
    "        {'type':'eq', 'fun': f3_N6,'args':mus345_test},\n",
    "        {'type':'eq', 'fun': f4_N6,'args':mus345_test},\n",
    "        {'type':'eq', 'fun': f5_N6,'args':mus345_test},\n",
    "        {'type':'eq', 'fun': normalizacion_v})\n",
    "\n",
    "bounds_test_2 = [(None, None),(None, None),(None, None),(None, None),(None, None),(None, None),(None, None),(None, None),(None, None),(None, None),(None, None)]\n",
    "\n",
    "res_test = shgo(Gamma2_N6, bounds=bounds_test_2, args=mus345_test, constraints=cons_2)\n",
    "\n",
    "res_test.x"
   ]
  },
  {
   "cell_type": "markdown",
   "metadata": {},
   "source": [
    "# Punto crítico N=6"
   ]
  },
  {
   "cell_type": "code",
   "execution_count": null,
   "metadata": {},
   "outputs": [],
   "source": [
    "#from scipy.optimize import rosen, shgo\n",
    "\"\"\"\n",
    "Acción Gamma\n",
    "\"\"\"\n",
    "\n",
    "def Gamma3_N6(x, *mus34):\n",
    "    lamb1 = x[0]\n",
    "    lamb2 = x[1]\n",
    "    lamb3 = x[2]\n",
    "    lamb4 = x[3]\n",
    "    lamb5 = x[4]\n",
    "\n",
    "    v1 = x[5]\n",
    "    v2 = x[6]\n",
    "    v3 = x[7]\n",
    "    v4 = x[8]\n",
    "    v5 = x[9]\n",
    "\n",
    "    mu5 = x[10]\n",
    "    mu6 = x[11]\n",
    "\n",
    "    mu3 = mus34[0]\n",
    "    mu4 = mus34[1]\n",
    " \n",
    "    return (-27*lamb1)/2. - lamb2 - lamb3 - lamb4 - lamb5 + (5*(105 + 81*lamb1**2 + 4*(lamb2**2 + lamb2*lamb3 + lamb3**2 + lamb4**2 + lamb4*lamb5 + lamb5**2)))/12. + ((-2*lamb2**3 - 3*lamb2**2*lamb3 + 3*lamb2*lamb3**2 + 2*lamb3**3 - 2*lamb4**3 - 3*lamb4**2*lamb5 + 3*lamb4*lamb5**2 + 2*lamb5**3 + 27*lamb1*(lamb2**2 + lamb2*lamb3 + lamb3**2 - lamb4**2 - lamb4*lamb5 - lamb5**2))*mu3)/27. + (-22.09375 + (((9*lamb1)/2. + lamb2 - lamb3)**4 + ((-9*lamb1)/2. + 2*lamb2 + lamb3)**4 + ((9*lamb1)/2. + lamb2 + 2*lamb3)**4 + ((9*lamb1)/2. - lamb4 + lamb5)**4 + ((-9*lamb1)/2. + lamb4 + 2*lamb5)**4 + (9*lamb1 + 4*lamb4 + 2*lamb5)**4/16.)/324.)*mu4 + ((((9*lamb1)/2. - 2*lamb2 - lamb3)**5 + ((9*lamb1)/2. + lamb2 - lamb3)**5 + ((9*lamb1)/2. + lamb2 + 2*lamb3)**5 + ((-9*lamb1)/2. + lamb4 - lamb5)**5 - ((9*lamb1)/2. + 2*lamb4 + lamb5)**5 + ((-9*lamb1)/2. + lamb4 + 2*lamb5)**5)*mu5)/1215. + (85.18229166666667 + (((9*lamb1)/2. + lamb2 - lamb3)**6 + ((-9*lamb1)/2. + 2*lamb2 + lamb3)**6 + ((9*lamb1)/2. + lamb2 + 2*lamb3)**6 + ((9*lamb1)/2. - lamb4 + lamb5)**6 + ((-9*lamb1)/2. + lamb4 + 2*lamb5)**6 + (9*lamb1 + 4*lamb4 + 2*lamb5)**6/64.)/4374.)*mu6\n",
    "\n",
    "\"\"\"\n",
    "SEGUNDAS DERIVADAS\n",
    "\"\"\"\n",
    "\n",
    "def f1_2_N6(x, *mus34):\n",
    "    lamb1 = x[0]\n",
    "    lamb2 = x[1]\n",
    "    lamb3 = x[2]\n",
    "    lamb4 = x[3]\n",
    "    lamb5 = x[4]\n",
    "\n",
    "    v1 = x[5]\n",
    "    v2 = x[6]\n",
    "    v3 = x[7]\n",
    "    v4 = x[8]\n",
    "    v5 = x[9]\n",
    "\n",
    "    mu5 = x[10]\n",
    "    mu6 = x[11]\n",
    "\n",
    "    mu3 = mus34[0]\n",
    "    mu4 = mus34[1]\n",
    "\n",
    "    segunda_derivada1 = (67.5 + ((243*((9*lamb1)/2. + lamb2 - lamb3)**2 + 243*((-9*lamb1)/2. + 2*lamb2 + lamb3)**2 + 243*((9*lamb1)/2. + lamb2 + 2*lamb3)**2 + 243*((9*lamb1)/2. - lamb4 + lamb5)**2 + 243*((-9*lamb1)/2. + lamb4 + 2*lamb5)**2 + (243*(9*lamb1 + 4*lamb4 + 2*lamb5)**2)/4.)*mu4)/324. + ((405*((9*lamb1)/2. - 2*lamb2 - lamb3)**3 + 405*((9*lamb1)/2. + lamb2 - lamb3)**3 + 405*((9*lamb1)/2. + lamb2 + 2*lamb3)**3 + 405*((-9*lamb1)/2. + lamb4 - lamb5)**3 - 405*((9*lamb1)/2. + 2*lamb4 + lamb5)**3 + 405*((-9*lamb1)/2. + lamb4 + 2*lamb5)**3)*mu5)/1215. + (((1215*((9*lamb1)/2. + lamb2 - lamb3)**4)/2. + (1215*((-9*lamb1)/2. + 2*lamb2 + lamb3)**4)/2. + (1215*((9*lamb1)/2. + lamb2 + 2*lamb3)**4)/2. + (1215*((9*lamb1)/2. - lamb4 + lamb5)**4)/2. + (1215*((-9*lamb1)/2. + lamb4 + 2*lamb5)**4)/2. + (1215*(9*lamb1 + 4*lamb4 + 2*lamb5)**4)/32.)*mu6)/4374.)*v1 + ((2*lamb2 + lamb3)*mu3 + ((54*((9*lamb1)/2. + lamb2 - lamb3)**2 - 108*((-9*lamb1)/2. + 2*lamb2 + lamb3)**2 + 54*((9*lamb1)/2. + lamb2 + 2*lamb3)**2)*mu4)/324. + ((-180*((9*lamb1)/2. - 2*lamb2 - lamb3)**3 + 90*((9*lamb1)/2. + lamb2 - lamb3)**3 + 90*((9*lamb1)/2. + lamb2 + 2*lamb3)**3)*mu5)/1215. + ((135*((9*lamb1)/2. + lamb2 - lamb3)**4 - 270*((-9*lamb1)/2. + 2*lamb2 + lamb3)**4 + 135*((9*lamb1)/2. + lamb2 + 2*lamb3)**4)*mu6)/4374.)*v2 + ((lamb2 + 2*lamb3)*mu3 + ((-54*((9*lamb1)/2. + lamb2 - lamb3)**2 - 54*((-9*lamb1)/2. + 2*lamb2 + lamb3)**2 + 108*((9*lamb1)/2. + lamb2 + 2*lamb3)**2)*mu4)/324. + ((-90*((9*lamb1)/2. - 2*lamb2 - lamb3)**3 - 90*((9*lamb1)/2. + lamb2 - lamb3)**3 + 180*((9*lamb1)/2. + lamb2 + 2*lamb3)**3)*mu5)/1215. + ((-135*((9*lamb1)/2. + lamb2 - lamb3)**4 - 135*((-9*lamb1)/2. + 2*lamb2 + lamb3)**4 + 270*((9*lamb1)/2. + lamb2 + 2*lamb3)**4)*mu6)/4374.)*v3 + ((-2*lamb4 - lamb5)*mu3 + ((-54*((9*lamb1)/2. - lamb4 + lamb5)**2 - 54*((-9*lamb1)/2. + lamb4 + 2*lamb5)**2 + 27*(9*lamb1 + 4*lamb4 + 2*lamb5)**2)*mu4)/324. + ((-90*((-9*lamb1)/2. + lamb4 - lamb5)**3 - 180*((9*lamb1)/2. + 2*lamb4 + lamb5)**3 - 90*((-9*lamb1)/2. + lamb4 + 2*lamb5)**3)*mu5)/1215. + ((-135*((9*lamb1)/2. - lamb4 + lamb5)**4 - 135*((-9*lamb1)/2. + lamb4 + 2*lamb5)**4 + (135*(9*lamb1 + 4*lamb4 + 2*lamb5)**4)/8.)*mu6)/4374.)*v4 + ((-lamb4 - 2*lamb5)*mu3 + ((54*((9*lamb1)/2. - lamb4 + lamb5)**2 - 108*((-9*lamb1)/2. + lamb4 + 2*lamb5)**2 + (27*(9*lamb1 + 4*lamb4 + 2*lamb5)**2)/2.)*mu4)/324. + ((90*((-9*lamb1)/2. + lamb4 - lamb5)**3 - 90*((9*lamb1)/2. + 2*lamb4 + lamb5)**3 - 180*((-9*lamb1)/2. + lamb4 + 2*lamb5)**3)*mu5)/1215. + ((135*((9*lamb1)/2. - lamb4 + lamb5)**4 - 270*((-9*lamb1)/2. + lamb4 + 2*lamb5)**4 + (135*(9*lamb1 + 4*lamb4 + 2*lamb5)**4)/16.)*mu6)/4374.)*v5\n",
    "\n",
    "    return segunda_derivada1 #=0\n",
    "\n",
    "def f2_2_N6(x, *mus34):\n",
    "    lamb1 = x[0]\n",
    "    lamb2 = x[1]\n",
    "    lamb3 = x[2]\n",
    "    lamb4 = x[3]\n",
    "    lamb5 = x[4]\n",
    "\n",
    "    v1 = x[5]\n",
    "    v2 = x[6]\n",
    "    v3 = x[7]\n",
    "    v4 = x[8]\n",
    "    v5 = x[9]\n",
    "\n",
    "    mu5 = x[10]\n",
    "    mu6 = x[11]\n",
    "\n",
    "    mu3 = mus34[0]\n",
    "    mu4 = mus34[1]\n",
    "\n",
    "    segunda_derivada2 = ((2*lamb2 + lamb3)*mu3 + ((54*((9*lamb1)/2. + lamb2 - lamb3)**2 - 108*((-9*lamb1)/2. + 2*lamb2 + lamb3)**2 + 54*((9*lamb1)/2. + lamb2 + 2*lamb3)**2)*mu4)/324. + ((-180*((9*lamb1)/2. - 2*lamb2 - lamb3)**3 + 90*((9*lamb1)/2. + lamb2 - lamb3)**3 + 90*((9*lamb1)/2. + lamb2 + 2*lamb3)**3)*mu5)/1215. + ((135*((9*lamb1)/2. + lamb2 - lamb3)**4 - 270*((-9*lamb1)/2. + 2*lamb2 + lamb3)**4 + 135*((9*lamb1)/2. + lamb2 + 2*lamb3)**4)*mu6)/4374.)*v1 + (3.3333333333333335 + ((54*lamb1 - 12*lamb2 - 6*lamb3)*mu3)/27. + ((12*((9*lamb1)/2. + lamb2 - lamb3)**2 + 48*((-9*lamb1)/2. + 2*lamb2 + lamb3)**2 + 12*((9*lamb1)/2. + lamb2 + 2*lamb3)**2)*mu4)/324. + ((80*((9*lamb1)/2. - 2*lamb2 - lamb3)**3 + 20*((9*lamb1)/2. + lamb2 - lamb3)**3 + 20*((9*lamb1)/2. + lamb2 + 2*lamb3)**3)*mu5)/1215. + ((30*((9*lamb1)/2. + lamb2 - lamb3)**4 + 120*((-9*lamb1)/2. + 2*lamb2 + lamb3)**4 + 30*((9*lamb1)/2. + lamb2 + 2*lamb3)**4)*mu6)/4374.)*v2 + (1.6666666666666667 + ((27*lamb1 - 6*lamb2 + 6*lamb3)*mu3)/27. + ((-12*((9*lamb1)/2. + lamb2 - lamb3)**2 + 24*((-9*lamb1)/2. + 2*lamb2 + lamb3)**2 + 24*((9*lamb1)/2. + lamb2 + 2*lamb3)**2)*mu4)/324. + ((40*((9*lamb1)/2. - 2*lamb2 - lamb3)**3 - 20*((9*lamb1)/2. + lamb2 - lamb3)**3 + 40*((9*lamb1)/2. + lamb2 + 2*lamb3)**3)*mu5)/1215. + ((-30*((9*lamb1)/2. + lamb2 - lamb3)**4 + 60*((-9*lamb1)/2. + 2*lamb2 + lamb3)**4 + 60*((9*lamb1)/2. + lamb2 + 2*lamb3)**4)*mu6)/4374.)*v3\n",
    "\n",
    "    return segunda_derivada2 #=0\n",
    "\n",
    "def f3_2_N6(x, *mus34):\n",
    "    lamb1 = x[0]\n",
    "    lamb2 = x[1]\n",
    "    lamb3 = x[2]\n",
    "    lamb4 = x[3]\n",
    "    lamb5 = x[4]\n",
    "\n",
    "    v1 = x[5]\n",
    "    v2 = x[6]\n",
    "    v3 = x[7]\n",
    "    v4 = x[8]\n",
    "    v5 = x[9]\n",
    "\n",
    "    mu5 = x[10]\n",
    "    mu6 = x[11]\n",
    "\n",
    "    mu3 = mus34[0]\n",
    "    mu4 = mus34[1]\n",
    "\n",
    "    segunda_derivada3 = ((lamb2 + 2*lamb3)*mu3 + ((-54*((9*lamb1)/2. + lamb2 - lamb3)**2 - 54*((-9*lamb1)/2. + 2*lamb2 + lamb3)**2 + 108*((9*lamb1)/2. + lamb2 + 2*lamb3)**2)*mu4)/324. + ((-90*((9*lamb1)/2. - 2*lamb2 - lamb3)**3 - 90*((9*lamb1)/2. + lamb2 - lamb3)**3 + 180*((9*lamb1)/2. + lamb2 + 2*lamb3)**3)*mu5)/1215. + ((-135*((9*lamb1)/2. + lamb2 - lamb3)**4 - 135*((-9*lamb1)/2. + 2*lamb2 + lamb3)**4 + 270*((9*lamb1)/2. + lamb2 + 2*lamb3)**4)*mu6)/4374.)*v1 + (1.6666666666666667 + ((27*lamb1 - 6*lamb2 + 6*lamb3)*mu3)/27. + ((-12*((9*lamb1)/2. + lamb2 - lamb3)**2 + 24*((-9*lamb1)/2. + 2*lamb2 + lamb3)**2 + 24*((9*lamb1)/2. + lamb2 + 2*lamb3)**2)*mu4)/324. + ((40*((9*lamb1)/2. - 2*lamb2 - lamb3)**3 - 20*((9*lamb1)/2. + lamb2 - lamb3)**3 + 40*((9*lamb1)/2. + lamb2 + 2*lamb3)**3)*mu5)/1215. + ((-30*((9*lamb1)/2. + lamb2 - lamb3)**4 + 60*((-9*lamb1)/2. + 2*lamb2 + lamb3)**4 + 60*((9*lamb1)/2. + lamb2 + 2*lamb3)**4)*mu6)/4374.)*v2 + (3.3333333333333335 + ((54*lamb1 + 6*lamb2 + 12*lamb3)*mu3)/27. + ((12*((9*lamb1)/2. + lamb2 - lamb3)**2 + 12*((-9*lamb1)/2. + 2*lamb2 + lamb3)**2 + 48*((9*lamb1)/2. + lamb2 + 2*lamb3)**2)*mu4)/324. + ((20*((9*lamb1)/2. - 2*lamb2 - lamb3)**3 + 20*((9*lamb1)/2. + lamb2 - lamb3)**3 + 80*((9*lamb1)/2. + lamb2 + 2*lamb3)**3)*mu5)/1215. + ((30*((9*lamb1)/2. + lamb2 - lamb3)**4 + 30*((-9*lamb1)/2. + 2*lamb2 + lamb3)**4 + 120*((9*lamb1)/2. + lamb2 + 2*lamb3)**4)*mu6)/4374.)*v3\n",
    "\n",
    "    return segunda_derivada3 #=0\n",
    "\n",
    "def f4_2_N6(x, *mus34):\n",
    "    lamb1 = x[0]\n",
    "    lamb2 = x[1]\n",
    "    lamb3 = x[2]\n",
    "    lamb4 = x[3]\n",
    "    lamb5 = x[4]\n",
    "\n",
    "    v1 = x[5]\n",
    "    v2 = x[6]\n",
    "    v3 = x[7]\n",
    "    v4 = x[8]\n",
    "    v5 = x[9]\n",
    "\n",
    "    mu5 = x[10]\n",
    "    mu6 = x[11]\n",
    "\n",
    "    mu3 = mus34[0]\n",
    "    mu4 = mus34[1]\n",
    "\n",
    "    segunda_derivada4 = ((-2*lamb4 - lamb5)*mu3 + ((-54*((9*lamb1)/2. - lamb4 + lamb5)**2 - 54*((-9*lamb1)/2. + lamb4 + 2*lamb5)**2 + 27*(9*lamb1 + 4*lamb4 + 2*lamb5)**2)*mu4)/324. + ((-90*((-9*lamb1)/2. + lamb4 - lamb5)**3 - 180*((9*lamb1)/2. + 2*lamb4 + lamb5)**3 - 90*((-9*lamb1)/2. + lamb4 + 2*lamb5)**3)*mu5)/1215. + ((-135*((9*lamb1)/2. - lamb4 + lamb5)**4 - 135*((-9*lamb1)/2. + lamb4 + 2*lamb5)**4 + (135*(9*lamb1 + 4*lamb4 + 2*lamb5)**4)/8.)*mu6)/4374.)*v1 + (3.3333333333333335 + ((-54*lamb1 - 12*lamb4 - 6*lamb5)*mu3)/27. + ((12*((9*lamb1)/2. - lamb4 + lamb5)**2 + 12*((-9*lamb1)/2. + lamb4 + 2*lamb5)**2 + 12*(9*lamb1 + 4*lamb4 + 2*lamb5)**2)*mu4)/324. + ((20*((-9*lamb1)/2. + lamb4 - lamb5)**3 - 80*((9*lamb1)/2. + 2*lamb4 + lamb5)**3 + 20*((-9*lamb1)/2. + lamb4 + 2*lamb5)**3)*mu5)/1215. + ((30*((9*lamb1)/2. - lamb4 + lamb5)**4 + 30*((-9*lamb1)/2. + lamb4 + 2*lamb5)**4 + (15*(9*lamb1 + 4*lamb4 + 2*lamb5)**4)/2.)*mu6)/4374.)*v4 + (1.6666666666666667 + ((-27*lamb1 - 6*lamb4 + 6*lamb5)*mu3)/27. + ((-12*((9*lamb1)/2. - lamb4 + lamb5)**2 + 24*((-9*lamb1)/2. + lamb4 + 2*lamb5)**2 + 6*(9*lamb1 + 4*lamb4 + 2*lamb5)**2)*mu4)/324. + ((-20*((-9*lamb1)/2. + lamb4 - lamb5)**3 - 40*((9*lamb1)/2. + 2*lamb4 + lamb5)**3 + 40*((-9*lamb1)/2. + lamb4 + 2*lamb5)**3)*mu5)/1215. + ((-30*((9*lamb1)/2. - lamb4 + lamb5)**4 + 60*((-9*lamb1)/2. + lamb4 + 2*lamb5)**4 + (15*(9*lamb1 + 4*lamb4 + 2*lamb5)**4)/4.)*mu6)/4374.)*v5\n",
    "\n",
    "    return segunda_derivada4 #=0\n",
    "\n",
    "def f5_2_N6(x, *mus34):\n",
    "    lamb1 = x[0]\n",
    "    lamb2 = x[1]\n",
    "    lamb3 = x[2]\n",
    "    lamb4 = x[3]\n",
    "    lamb5 = x[4]\n",
    "\n",
    "    v1 = x[5]\n",
    "    v2 = x[6]\n",
    "    v3 = x[7]\n",
    "    v4 = x[8]\n",
    "    v5 = x[9]\n",
    "\n",
    "    mu5 = x[10]\n",
    "    mu6 = x[11]\n",
    "\n",
    "    mu3 = mus34[0]\n",
    "    mu4 = mus34[1]\n",
    "\n",
    "    segunda_derivada5 = ((-lamb4 - 2*lamb5)*mu3 + ((54*((9*lamb1)/2. - lamb4 + lamb5)**2 - 108*((-9*lamb1)/2. + lamb4 + 2*lamb5)**2 + (27*(9*lamb1 + 4*lamb4 + 2*lamb5)**2)/2.)*mu4)/324. + ((90*((-9*lamb1)/2. + lamb4 - lamb5)**3 - 90*((9*lamb1)/2. + 2*lamb4 + lamb5)**3 - 180*((-9*lamb1)/2. + lamb4 + 2*lamb5)**3)*mu5)/1215. + ((135*((9*lamb1)/2. - lamb4 + lamb5)**4 - 270*((-9*lamb1)/2. + lamb4 + 2*lamb5)**4 + (135*(9*lamb1 + 4*lamb4 + 2*lamb5)**4)/16.)*mu6)/4374.)*v1 + (1.6666666666666667 + ((-27*lamb1 - 6*lamb4 + 6*lamb5)*mu3)/27. + ((-12*((9*lamb1)/2. - lamb4 + lamb5)**2 + 24*((-9*lamb1)/2. + lamb4 + 2*lamb5)**2 + 6*(9*lamb1 + 4*lamb4 + 2*lamb5)**2)*mu4)/324. + ((-20*((-9*lamb1)/2. + lamb4 - lamb5)**3 - 40*((9*lamb1)/2. + 2*lamb4 + lamb5)**3 + 40*((-9*lamb1)/2. + lamb4 + 2*lamb5)**3)*mu5)/1215. + ((-30*((9*lamb1)/2. - lamb4 + lamb5)**4 + 60*((-9*lamb1)/2. + lamb4 + 2*lamb5)**4 + (15*(9*lamb1 + 4*lamb4 + 2*lamb5)**4)/4.)*mu6)/4374.)*v4 + (3.3333333333333335 + ((-54*lamb1 + 6*lamb4 + 12*lamb5)*mu3)/27. + ((12*((9*lamb1)/2. - lamb4 + lamb5)**2 + 48*((-9*lamb1)/2. + lamb4 + 2*lamb5)**2 + 3*(9*lamb1 + 4*lamb4 + 2*lamb5)**2)*mu4)/324. + ((20*((-9*lamb1)/2. + lamb4 - lamb5)**3 - 20*((9*lamb1)/2. + 2*lamb4 + lamb5)**3 + 80*((-9*lamb1)/2. + lamb4 + 2*lamb5)**3)*mu5)/1215. + ((30*((9*lamb1)/2. - lamb4 + lamb5)**4 + 120*((-9*lamb1)/2. + lamb4 + 2*lamb5)**4 + (15*(9*lamb1 + 4*lamb4 + 2*lamb5)**4)/8.)*mu6)/4374.)*v5\n",
    "\n",
    "    return segunda_derivada5 #=0\n",
    "\n",
    "\"\"\"\n",
    "Normalización de v\n",
    "\"\"\"\n",
    "\n",
    "def normalizacion_v_2(x):\n",
    "    v1 = x[5]\n",
    "    v2 = x[6]\n",
    "    v3 = x[7]\n",
    "    v4 = x[8]\n",
    "    v5 = x[9]\n",
    "\n",
    "    return v1**2 + v2**2 + v3**2 + v4**2 + v5**2 - 1 #=0\n",
    "\n",
    "\"\"\"\n",
    "Tercera derivada\n",
    "\"\"\"\n",
    "\n",
    "def h_N6(x, *mus34):\n",
    "    lamb1 = x[0]\n",
    "    lamb2 = x[1]\n",
    "    lamb3 = x[2]\n",
    "    lamb4 = x[3]\n",
    "    lamb5 = x[4]\n",
    "\n",
    "    v1 = x[5]\n",
    "    v2 = x[6]\n",
    "    v3 = x[7]\n",
    "    v4 = x[8]\n",
    "    v5 = x[9]\n",
    "\n",
    "    mu5 = x[10]\n",
    "    mu6 = x[11]\n",
    "\n",
    "    mu3 = mus34[0]\n",
    "    mu4 = mus34[1]\n",
    "\n",
    "    tercera_derivada = 27*lamb3**2*mu5*v1**3 - 27*lamb4**2*mu5*v1**3 - 27*lamb4*lamb5*mu5*v1**3 - 27*lamb5**2*mu5*v1**3 + 15*lamb3**3*mu6*v1**3 + 15*lamb4**3*mu6*v1**3 + (45*lamb4**2*lamb5*mu6*v1**3)/2. - (45*lamb4*lamb5**2*mu6*v1**3)/2. - 15*lamb5**3*mu6*v1**3 + (27*lamb3*mu4*v1**2*v2)/2. + 9*lamb3**2*mu5*v1**2*v2 + 15*lamb3**3*mu6*v1**2*v2 + 6*mu3*v1*v2**2 - 3*lamb3*mu4*v1*v2**2 + 6*lamb3**2*mu5*v1*v2**2 + (10*lamb3**3*mu6*v1*v2**2)/9. - (4*mu3*v2**3)/9. + (2*lamb3*mu4*v2**3)/3. - (4*lamb3**2*mu5*v2**3)/27. + (100*lamb3**3*mu6*v2**3)/243. + 27*lamb3*mu4*v1**2*v3 + 18*lamb3**2*mu5*v1**2*v3 + 30*lamb3**3*mu6*v1**2*v3 + 6*mu3*v1*v2*v3 + 6*lamb3*mu4*v1*v2*v3 + 12*lamb3**2*mu5*v1*v2*v3 + (100*lamb3**3*mu6*v1*v2*v3)/9. - (2*mu3*v2**2*v3)/3. + 2*lamb3*mu4*v2**2*v3 + (4*lamb3**2*mu5*v2**2*v3)/9. + (140*lamb3**3*mu6*v2**2*v3)/81. + 6*mu3*v1*v3**2 + 6*lamb3*mu4*v1*v3**2 + 12*lamb3**2*mu5*v1*v3**2 + (100*lamb3**3*mu6*v1*v3**2)/9. + (2*mu3*v2*v3**2)/3. + 2*lamb3*mu4*v2*v3**2 + (20*lamb3**2*mu5*v2*v3**2)/9. + (220*lamb3**3*mu6*v2*v3**2)/81. + (4*mu3*v3**3)/9. + (4*lamb3*mu4*v3**3)/3. + (40*lamb3**2*mu5*v3**3)/27. + (440*lamb3**3*mu6*v3**3)/243. + (15*lamb1**3*mu6*(729*v1**3 - 4*(v2 - v3)*(2*v2 + v3)*(v2 + 2*v3) + 108*v1*(v2**2 + v2*v3 + v3**2)))/8. - (5*lamb2**3*mu6*(729*v1**3 - 729*v1**2*(2*v2 + v3) + 54*v1*(10*v2**2 + 10*v2*v3 + v3**2) - 4*(2*v2 + v3)*(11*v2**2 + 11*v2*v3 + 5*v3**2)))/243. + (3*lamb1**2*(4*mu5*(-((v2 - v3)*(2*v2 + v3)*(v2 + 2*v3)) + 27*v1*(v2**2 + v2*v3 + v3**2)) + 5*lamb2*mu6*(81*v1**2*(2*v2 + v3) + 18*v1*(-2*v2**2 - 2*v2*v3 + v3**2) + 4*(2*v2 + v3)*(v2**2 + v2*v3 + v3**2)) + 5*lamb3*mu6*(81*v1**2*(v2 + 2*v3) - 18*v1*(v2**2 - 2*v2*v3 - 2*v3**2) + 4*(v2 + 2*v3)*(v2**2 + v2*v3 + v3**2))))/4. + (lamb2**2*(6*mu5*(729*v1**3 - 243*v1**2*(2*v2 + v3) - 4*(2*v2 + v3)*(5*v2**2 + 5*v2*v3 - v3**2) + 162*v1*(2*v2**2 + 2*v2*v3 + v3**2)) + 5*lamb3*mu6*(-729*v1**3 + 1458*v1**2*(v2 + v3) - 108*v1*(5*v2**2 + 2*v2*v3 - v3**2) + 8*(11*v2**3 + 21*v2**2*v3 + 15*v2*v3**2 + 7*v3**3))))/162. + (lamb2*(27*mu4*(81*v1**2*(2*v2 + v3) + 18*v1*(-2*v2**2 - 2*v2*v3 + v3**2) + 4*(2*v2 + v3)*(v2**2 + v2*v3 + v3**2)) + 6*lamb3*mu5*(729*v1**3 + 486*v1**2*(-v2 + v3) + 324*v1*(v2 + v3)**2 - 8*(v2 - v3)*(5*v2**2 + 8*v2*v3 + 5*v3**2)) + 5*lamb3**2*mu6*(729*v1**3 + 1458*v1**2*(v2 + v3) - 108*v1*(v2**2 - 2*v2*v3 - 5*v3**2) + 8*(7*v2**3 + 15*v2**2*v3 + 21*v2*v3**2 + 11*v3**3))))/162. + (lamb1*(9*mu4*(729*v1**3 - 4*(v2 - v3)*(2*v2 + v3)*(v2 + 2*v3) + 108*v1*(v2**2 + v2*v3 + v3**2)) + 2*(3645*(lamb4**2 + lamb4*lamb5 + lamb5**2)*mu6*v1**3 + 18*lamb3*mu5*(81*v1**2*(v2 + 2*v3) - 18*v1*(v2**2 - 2*v2*v3 - 2*v3**2) + 4*(v2 + 2*v3)*(v2**2 + v2*v3 + v3**2)) + 5*lamb2**2*mu6*(729*v1**3 - 243*v1**2*(2*v2 + v3) - 4*(2*v2 + v3)*(5*v2**2 + 5*v2*v3 - v3**2) + 162*v1*(2*v2**2 + 2*v2*v3 + v3**2)) + 5*lamb3**2*mu6*(729*v1**3 + 243*v1**2*(v2 + 2*v3) - 4*(v2 + 2*v3)*(v2**2 - 5*v2*v3 - 5*v3**2) + 162*v1*(v2**2 + 2*v2*v3 + 2*v3**2)) + lamb2*(18*mu5*(81*v1**2*(2*v2 + v3) + 18*v1*(-2*v2**2 - 2*v2*v3 + v3**2) + 4*(2*v2 + v3)*(v2**2 + v2*v3 + v3**2)) + 5*lamb3*mu6*(729*v1**3 + 486*v1**2*(-v2 + v3) + 324*v1*(v2 + v3)**2 - 8*(v2 - v3)*(5*v2**2 + 8*v2*v3 + 5*v3**2))))))/36.\n",
    "\n",
    "    return tercera_derivada"
   ]
  },
  {
   "cell_type": "code",
   "execution_count": null,
   "metadata": {},
   "outputs": [],
   "source": [
    "cons_punto_critico = ({'type':'ineq', 'fun': g1_N6},\n",
    "        {'type':'ineq', 'fun': g2_N6},\n",
    "        {'type':'ineq', 'fun': g3_N6},\n",
    "        {'type':'ineq', 'fun': g4_N6},\n",
    "        {'type':'ineq', 'fun': g5_N6},\n",
    "        {'type':'ineq', 'fun': g6_N6},\n",
    "        {'type':'ineq', 'fun': g7_N6},\n",
    "        {'type':'ineq', 'fun': g8_N6},\n",
    "        {'type':'ineq', 'fun': g9_N6},\n",
    "        {'type':'ineq', 'fun': g10_N6},\n",
    "        {'type':'ineq', 'fun': g11_N6},\n",
    "        {'type':'ineq', 'fun': g12_N6},\n",
    "        {'type':'ineq', 'fun': g13_N6},\n",
    "        {'type':'ineq', 'fun': g14_N6},\n",
    "        {'type':'ineq', 'fun': g15_N6},\n",
    "        {'type':'eq', 'fun': f1_2_N6,'args':mus345_test},\n",
    "        {'type':'eq', 'fun': f2_2_N6},\n",
    "        {'type':'eq', 'fun': f3_2_N6},\n",
    "        {'type':'eq', 'fun': f4_2_N6},\n",
    "        {'type':'eq', 'fun': f5_2_N6},\n",
    "        {'type':'eq', 'fun': normalizacion_v_2},\n",
    "        {'type':'eq', 'fun': h_N6})\n",
    "\n",
    "bounds_test_2 = [(-50, 50), (-50, 50),(-50, 50),(-50, 50),(-50, 50),(None, None),(None, None),(None, None),(None, None),(None, None),(None, None)]\n",
    "\n",
    "mus345_test = (60, 60, 20)\n",
    "\n",
    "res_test = shgo(Gamma2_N6, bounds=bounds_test_2, args=mus345_test, constraints=cons_2)\n",
    "\n",
    "res_test.x"
   ]
  },
  {
   "cell_type": "code",
   "execution_count": null,
   "metadata": {},
   "outputs": [],
   "source": []
  },
  {
   "cell_type": "code",
   "execution_count": null,
   "metadata": {},
   "outputs": [],
   "source": []
  },
  {
   "cell_type": "code",
   "execution_count": 146,
   "metadata": {},
   "outputs": [],
   "source": [
    "def hola(x,*args):\n",
    "    a = args[0]\n",
    "    return x - a  #>0\n",
    "\n",
    "argumento = (2,)\n",
    "\n",
    "cons_prueba = ({'type':'ineq', 'fun': hola,'args':argumento})\n",
    "\n",
    "def funcion_a_minimizar(x,*args):\n",
    "    a = args[0]\n",
    "    return (x-5)**4 - 10*a\n",
    "\n",
    "bounds_prueba = [(0,100)]\n",
    "res_prueba = shgo(funcion_a_minimizar,bounds=bounds_prueba, args=argumento, constraints=cons_prueba)"
   ]
  },
  {
   "cell_type": "code",
   "execution_count": 147,
   "metadata": {},
   "outputs": [
    {
     "data": {
      "text/plain": [
       "array([5.00258642])"
      ]
     },
     "execution_count": 147,
     "metadata": {},
     "output_type": "execute_result"
    }
   ],
   "source": [
    "res_prueba.x"
   ]
  },
  {
   "cell_type": "code",
   "execution_count": 141,
   "metadata": {},
   "outputs": [
    {
     "data": {
      "text/plain": [
       "1"
      ]
     },
     "execution_count": 141,
     "metadata": {},
     "output_type": "execute_result"
    }
   ],
   "source": [
    "argumento[0]"
   ]
  },
  {
   "cell_type": "code",
   "execution_count": null,
   "metadata": {},
   "outputs": [],
   "source": []
  }
 ],
 "metadata": {
  "kernelspec": {
   "display_name": "Python 3.8.8 ('base')",
   "language": "python",
   "name": "python3"
  },
  "language_info": {
   "codemirror_mode": {
    "name": "ipython",
    "version": 3
   },
   "file_extension": ".py",
   "mimetype": "text/x-python",
   "name": "python",
   "nbconvert_exporter": "python",
   "pygments_lexer": "ipython3",
   "version": "3.8.8"
  },
  "orig_nbformat": 4,
  "vscode": {
   "interpreter": {
    "hash": "ef9976fb54af8ee8df79066cc870653b1489938a47ac38ebc1c5562e362a13ad"
   }
  }
 },
 "nbformat": 4,
 "nbformat_minor": 2
}
