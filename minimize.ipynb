{
 "cells": [
  {
   "cell_type": "code",
   "execution_count": 47,
   "metadata": {},
   "outputs": [],
   "source": [
    "import numpy as np\n",
    "import matplotlib.pyplot as plt\n",
    "from scipy.optimize import minimize\n",
    "from sympy import *\n",
    "from scipy.optimize import fsolve\n",
    "import math\n",
    "from matplotlib.colors import LogNorm\n",
    "from numpy import genfromtxt\n",
    "import pandas as pd\n",
    "\n",
    "plt.rcParams['axes.grid'] = False\n",
    "plt.rcParams['grid.alpha'] = 1\n",
    "plt.rcParams['grid.color'] = \"#cccccc\"\n",
    "plt.rcParams.update({\"font.size\": 15, \"font.family\": \"serif\"})"
   ]
  },
  {
   "cell_type": "code",
   "execution_count": 2,
   "metadata": {},
   "outputs": [
    {
     "data": {
      "text/plain": [
       "      fun: -0.9999999999999964\n",
       " hess_inv: array([[1.00005774]])\n",
       "      jac: array([9.68575478e-08])\n",
       "  message: 'Optimization terminated successfully.'\n",
       "     nfev: 12\n",
       "      nit: 4\n",
       "     njev: 6\n",
       "   status: 0\n",
       "  success: True\n",
       "        x: array([-1.57079624])"
      ]
     },
     "execution_count": 2,
     "metadata": {},
     "output_type": "execute_result"
    }
   ],
   "source": [
    "def f(x):\n",
    "    return np.sin(x)\n",
    "minimize(f, 0.1)"
   ]
  },
  {
   "cell_type": "code",
   "execution_count": 6,
   "metadata": {},
   "outputs": [],
   "source": [
    "def e0phi(lamb1, lamb2, lamb3):\n",
    "    return 1/2*(2*lamb1 + lamb2)\n",
    "\n",
    "def e1phi(lamb1, lamb2, lamb3):\n",
    "    return 1/2*(2*lamb1 - lamb2)\n",
    "\n",
    "def e2phi(lamb1, lamb2, lamb3):\n",
    "    return 1/2*(-2*lamb1 + lamb3)\n",
    "\n",
    "def e3phi(lamb1, lamb2, lamb3):\n",
    "    return 1/2*(-2*lamb1 - lamb3)\n",
    "\n",
    "\n",
    "e0t = 1/2*3\n",
    "e1t = 1/2*1\n",
    "e2t = 1/2*(-1)\n",
    "e3t = 1/2*(-3)\n",
    "\n",
    "e0AdS = complex(0, e0t)\n",
    "e1AdS = complex(0, e1t)\n",
    "e2AdS = complex(0, e2t)\n",
    "e3AdS = complex(0, e3t)\n"
   ]
  },
  {
   "cell_type": "code",
   "execution_count": 101,
   "metadata": {},
   "outputs": [],
   "source": [
    "def Qn(n, lamb1, lamb2, lamb3):\n",
    "    return 1/n*(e0phi(lamb1, lamb2, lamb3)**n + e1phi(lamb1, lamb2, lamb3)**n + e2phi(lamb1, lamb2, lamb3)**n + e3phi(lamb1, lamb2, lamb3)**n)\n",
    "\n",
    "def QnAdS(n):\n",
    "    return 1/n*(e0AdS**n + e1AdS**n + e2AdS**n + e3AdS**n)\n",
    "\n",
    "def S(lamb1, lamb2, lamb3):\n",
    "    return e0phi(lamb1, lamb2, lamb3)*e0t + e1phi(lamb1, lamb2, lamb3)*e1t + e2phi(lamb1, lamb2, lamb3)*e2t + e3phi(lamb1, lamb2, lamb3)*e3t\n",
    "\n",
    "def Gamma(lambs, mu3, mu4):\n",
    "    lamb1, lamb2, lamb3 = lambs\n",
    "    return np.real(5*(Qn(2, lamb1, lamb2, lamb3) - QnAdS(2)) + mu3*(Qn(3, lamb1, lamb2, lamb3) - QnAdS(3)) + mu4*(Qn(4, lamb1, lamb2, lamb3) - QnAdS(4)))"
   ]
  },
  {
   "cell_type": "code",
   "execution_count": 104,
   "metadata": {},
   "outputs": [
    {
     "name": "stderr",
     "output_type": "stream",
     "text": [
      "<ipython-input-104-24ff21bb8e81>:32: RuntimeWarning: divide by zero encountered in log\n",
      "  Q2_array[(n-1) - y, x] = np.log(2*lamb1**2 + 1/4*lamb2**2+1/4*lamb3**2)\n"
     ]
    }
   ],
   "source": [
    "def dQdlambda(lambs):\n",
    "    lamb1, lamb2, lamb3 = lambs\n",
    "    return 1/32*lamb2*lamb3*(4*lamb1 + lamb2 + lamb3)*(4*lamb1 - lamb2 + lamb3)*(4*lamb1 + lamb2 - lamb3)*(4*lamb1 - lamb2 - lamb3)\n",
    "\n",
    "def const_real(lambs):\n",
    "    lamb1, lamb2, lamb3 = lambs\n",
    "    return np.sum(np.iscomplex(lamb1)) + np.sum(np.iscomplex(lamb2)) + np.sum(np.iscomplex(lamb3))\n",
    "\n",
    "\n",
    "bnds = ((0, None), (0, None), (0, None))\n",
    "cons = {'type':'ineq', 'fun':dQdlambda}\n",
    "\n",
    "mu30 = 0.1\n",
    "mu3f = 4*np.pi\n",
    "mu40 = 0.1\n",
    "mu4f = 2*np.pi**2/5\n",
    "n = 100\n",
    "mu3list = np.linspace(mu30, mu3f, n)\n",
    "mu4list = np.linspace(mu40, mu4f, n)\n",
    "\n",
    "Q2_array = np.zeros((n, n))\n",
    "\n",
    "for y in range(len(mu4list)):\n",
    "    for x in range(len(mu3list)):\n",
    "        res = minimize(Gamma, (0.2, 0.2, 0.2), args=(mu3list[x], mu4list[y]), bounds=bnds, constraints=cons)\n",
    "        lamb1 = res.x[0]\n",
    "        lamb2 = res.x[1]\n",
    "        lamb3 = res.x[2]\n",
    "        #print(res.x)\n",
    "        #print(res)\n",
    "        #lamb1, lamb2, lamb3 =  res\n",
    "        Q2_array[(n-1) - y, x] = np.log(2*lamb1**2 + 1/4*lamb2**2+1/4*lamb3**2)\n"
   ]
  },
  {
   "cell_type": "code",
   "execution_count": 100,
   "metadata": {},
   "outputs": [
    {
     "data": {
      "text/plain": [
       "(25+0j)"
      ]
     },
     "execution_count": 100,
     "metadata": {},
     "output_type": "execute_result"
    }
   ],
   "source": [
    "Gamma((1,1,1),1,1)"
   ]
  },
  {
   "cell_type": "code",
   "execution_count": 20,
   "metadata": {},
   "outputs": [],
   "source": [
    "def D1Gamma(lamb1, lamb2, lamb3, mu3, mu4):\n",
    "    return -4 + 20*lamb1 + 1/2*(lamb2**2 - lamb3**2)*mu3 + 1/32*(128*lamb1**3 + 48*lamb1*(lamb2**2 + lamb3**2))*mu4\n",
    "\n",
    "def D2Gamma(lamb1, lamb2, lamb3, mu3, mu4):\n",
    "    return -(1/2) + 5*lamb2/2 + lamb1*lamb2*mu3 + 1/32*(48*lamb1**2*lamb2 + 4*lamb2**3)*mu4\n",
    "\n",
    "def D3Gamma(lamb1, lamb2, lamb3, mu3, mu4):\n",
    "    return -(1/2) + 5*lamb3/2 - lamb1*lamb3*mu3 + 1/32*(48*lamb1**2*lamb3 + 4*lamb3**3)*mu4"
   ]
  },
  {
   "cell_type": "code",
   "execution_count": 91,
   "metadata": {},
   "outputs": [],
   "source": [
    "def equations(x, mu3, mu4):\n",
    "    lamb1, lamb2, lamb3 = x\n",
    "    return (D1Gamma(lamb1, lamb2, lamb3, mu3, mu4), D2Gamma(lamb1, lamb2, lamb3, mu3, mu4), D3Gamma(lamb1, lamb2, lamb3, mu3, mu4))\n",
    "\n",
    "\n",
    "\n",
    "\n",
    "\n",
    "\n",
    "#lamb1, lamb2, lamb3 =  fsolve(equations, (1, 1, 1), args=(1, 1))"
   ]
  },
  {
   "cell_type": "code",
   "execution_count": 81,
   "metadata": {},
   "outputs": [
    {
     "data": {
      "text/plain": [
       "array([[0., 0., 0., 0., 0., 0., 0., 0., 0., 0.],\n",
       "       [0., 0., 0., 0., 0., 0., 0., 0., 0., 0.],\n",
       "       [0., 0., 0., 0., 0., 0., 0., 0., 0., 0.],\n",
       "       [0., 0., 0., 0., 0., 0., 0., 0., 0., 0.],\n",
       "       [0., 0., 0., 0., 0., 0., 0., 0., 0., 0.],\n",
       "       [0., 0., 0., 0., 0., 0., 0., 0., 0., 0.],\n",
       "       [0., 0., 0., 0., 0., 0., 0., 0., 0., 0.],\n",
       "       [0., 0., 0., 0., 0., 0., 0., 0., 0., 0.],\n",
       "       [0., 0., 0., 0., 0., 0., 0., 0., 0., 0.],\n",
       "       [1., 0., 0., 0., 0., 0., 0., 0., 1., 0.]])"
      ]
     },
     "execution_count": 81,
     "metadata": {},
     "output_type": "execute_result"
    }
   ],
   "source": [
    "Q2_array[9, 0]=1\n",
    "Q2_array"
   ]
  },
  {
   "cell_type": "code",
   "execution_count": 65,
   "metadata": {},
   "outputs": [
    {
     "data": {
      "text/plain": [
       "50"
      ]
     },
     "execution_count": 65,
     "metadata": {},
     "output_type": "execute_result"
    }
   ],
   "source": [
    "len(mu3list)"
   ]
  },
  {
   "cell_type": "code",
   "execution_count": 92,
   "metadata": {},
   "outputs": [
    {
     "name": "stderr",
     "output_type": "stream",
     "text": [
      "/Users/javier/opt/anaconda3/lib/python3.8/site-packages/scipy/optimize/minpack.py:175: RuntimeWarning: The iteration is not making good progress, as measured by the \n",
      "  improvement from the last ten iterations.\n",
      "  warnings.warn(msg, RuntimeWarning)\n",
      "/Users/javier/opt/anaconda3/lib/python3.8/site-packages/scipy/optimize/minpack.py:175: RuntimeWarning: The iteration is not making good progress, as measured by the \n",
      "  improvement from the last five Jacobian evaluations.\n",
      "  warnings.warn(msg, RuntimeWarning)\n"
     ]
    }
   ],
   "source": [
    "\n",
    "\n",
    "\n",
    "for y in range(len(mu4list)):\n",
    "    for x in range(len(mu3list)):\n",
    "        lamb1, lamb2, lamb3 =  fsolve(equations, (1, 1, 1), args=(mu3list[x], mu4list[y]), xtol=1.49012e-10)\n",
    "        Q2_array[(n-1) - y, x] = np.log(2*lamb1**2 + 1/4*lamb2**2+1/4*lamb3**2)\n",
    "        #print(Q2_array)"
   ]
  },
  {
   "cell_type": "code",
   "execution_count": 63,
   "metadata": {},
   "outputs": [
    {
     "data": {
      "text/plain": [
       "array([[-2.30428603, -2.31517685, -2.3212319 , ..., -2.50857763,\n",
       "        -2.5109971 , -2.51165356],\n",
       "       [-2.24966072, -2.25342294, -2.26656604, ..., -2.48060537,\n",
       "        -2.48339587, -2.48428284],\n",
       "       [-2.18588691, -2.19515184, -2.20758713, ..., -2.45224873,\n",
       "        -2.45576685, -2.45830642],\n",
       "       ...,\n",
       "       [-2.41193555, -2.41001186, -2.40807832, ..., -2.30862183,\n",
       "        -2.306071  , -2.30350176],\n",
       "       [-2.41291111, -2.41099545, -2.40907005, ..., -2.31014241,\n",
       "        -2.30760849, -2.3050565 ],\n",
       "       [-2.41337016, -2.41145828, -2.4095367 , ..., -2.31085695,\n",
       "        -2.30833096, -2.30578703]])"
      ]
     },
     "execution_count": 63,
     "metadata": {},
     "output_type": "execute_result"
    }
   ],
   "source": [
    "Q2_array"
   ]
  },
  {
   "cell_type": "code",
   "execution_count": 105,
   "metadata": {},
   "outputs": [
    {
     "data": {
      "text/plain": [
       "<matplotlib.colorbar.Colorbar at 0x7f8821fa4100>"
      ]
     },
     "execution_count": 105,
     "metadata": {},
     "output_type": "execute_result"
    },
    {
     "data": {
      "image/png": "[encoded data removed]",
      "text/plain": [
       "<Figure size 720x720 with 2 Axes>"
      ]
     },
     "metadata": {
      "needs_background": "light"
     },
     "output_type": "display_data"
    }
   ],
   "source": [
    "fig, ax = plt.subplots(figsize=(10,10))\n",
    "\n",
    "c = ax.imshow(Q2_array, cmap ='cool', interpolation ='nearest', origin ='lower', extent =[mu30, mu3f, mu40, mu4f],aspect='auto')\n",
    "ax.set_title(\"Transición fase $Q_2$\")\n",
    "ax.set_xlabel(\"$\\mu_3/\\mu^2$\")\n",
    "ax.set_ylabel(\"$\\mu_4/\\mu^3$\", rotation=90)\n",
    "\n",
    "fig.colorbar(c, ax=ax, label='log($Q_2\\mu^2$)')"
   ]
  },
  {
   "cell_type": "code",
   "execution_count": 31,
   "metadata": {},
   "outputs": [
    {
     "ename": "TypeError",
     "evalue": "minimize() missing 1 required positional argument: 'x0'",
     "output_type": "error",
     "traceback": [
      "\u001b[0;31m---------------------------------------------------------------------------\u001b[0m",
      "\u001b[0;31mTypeError\u001b[0m                                 Traceback (most recent call last)",
      "\u001b[0;32m<ipython-input-31-867c2c33cf49>\u001b[0m in \u001b[0;36m<module>\u001b[0;34m\u001b[0m\n\u001b[0;32m----> 1\u001b[0;31m \u001b[0mres\u001b[0m \u001b[0;34m=\u001b[0m \u001b[0mminimize\u001b[0m\u001b[0;34m(\u001b[0m\u001b[0mGamma\u001b[0m\u001b[0;34m,\u001b[0m \u001b[0margs\u001b[0m\u001b[0;34m=\u001b[0m\u001b[0;34m(\u001b[0m\u001b[0;36m6\u001b[0m\u001b[0;34m,\u001b[0m \u001b[0;36m9\u001b[0m\u001b[0;34m)\u001b[0m\u001b[0;34m)\u001b[0m\u001b[0;34m\u001b[0m\u001b[0;34m\u001b[0m\u001b[0m\n\u001b[0m\u001b[1;32m      2\u001b[0m \u001b[0mres\u001b[0m\u001b[0;34m.\u001b[0m\u001b[0mx\u001b[0m\u001b[0;34m\u001b[0m\u001b[0;34m\u001b[0m\u001b[0m\n",
      "\u001b[0;31mTypeError\u001b[0m: minimize() missing 1 required positional argument: 'x0'"
     ]
    }
   ],
   "source": [
    "res = minimize(Gamma, args=(6, 9))\n",
    "res.x"
   ]
  },
  {
   "cell_type": "code",
   "execution_count": 26,
   "metadata": {},
   "outputs": [
    {
     "data": {
      "text/plain": [
       "(9.9375+0j)"
      ]
     },
     "execution_count": 26,
     "metadata": {},
     "output_type": "execute_result"
    }
   ],
   "source": [
    "Gamma((0,0,0),1,1)"
   ]
  },
  {
   "cell_type": "code",
   "execution_count": 16,
   "metadata": {},
   "outputs": [
    {
     "data": {
      "text/plain": [
       "10"
      ]
     },
     "execution_count": 16,
     "metadata": {},
     "output_type": "execute_result"
    }
   ],
   "source": [
    "f = lambdify((x,z), yprime, 'numpy')\n",
    "f(4,2)"
   ]
  },
  {
   "cell_type": "code",
   "execution_count": null,
   "metadata": {},
   "outputs": [],
   "source": [
    "-4 + 20*lamb1 + 1/2 (lamb2**2 - lamb3**2)*mu3 + 1/32 (128*lamb1^3 + 48*lamb1 (lamb2**2 + lamb3**2))*mu4"
   ]
  }
 ],
 "metadata": {
  "kernelspec": {
   "display_name": "Python 3.8.8 ('base')",
   "language": "python",
   "name": "python3"
  },
  "language_info": {
   "codemirror_mode": {
    "name": "ipython",
    "version": 3
   },
   "file_extension": ".py",
   "mimetype": "text/x-python",
   "name": "python",
   "nbconvert_exporter": "python",
   "pygments_lexer": "ipython3",
   "version": "3.8.8"
  },
  "orig_nbformat": 4,
  "vscode": {
   "interpreter": {
    "hash": "ef9976fb54af8ee8df79066cc870653b1489938a47ac38ebc1c5562e362a13ad"
   }
  }
 },
 "nbformat": 4,
 "nbformat_minor": 2
}
