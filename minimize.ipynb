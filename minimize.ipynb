{
 "cells": [
  {
   "cell_type": "markdown",
   "metadata": {},
   "source": [
    "# Primer intento: Minimize (esto es local NO SIRVE)"
   ]
  },
  {
   "cell_type": "code",
   "execution_count": 47,
   "metadata": {},
   "outputs": [],
   "source": [
    "import numpy as np\n",
    "import matplotlib.pyplot as plt\n",
    "from scipy.optimize import minimize\n",
    "from sympy import *\n",
    "from scipy.optimize import fsolve\n",
    "import math\n",
    "from matplotlib.colors import LogNorm\n",
    "from numpy import genfromtxt\n",
    "import pandas as pd\n",
    "\n",
    "plt.rcParams['axes.grid'] = False\n",
    "plt.rcParams['grid.alpha'] = 1\n",
    "plt.rcParams['grid.color'] = \"#cccccc\"\n",
    "plt.rcParams.update({\"font.size\": 15, \"font.family\": \"serif\"})"
   ]
  },
  {
   "cell_type": "code",
   "execution_count": 2,
   "metadata": {},
   "outputs": [
    {
     "data": {
      "text/plain": [
       "      fun: -0.9999999999999964\n",
       " hess_inv: array([[1.00005774]])\n",
       "      jac: array([9.68575478e-08])\n",
       "  message: 'Optimization terminated successfully.'\n",
       "     nfev: 12\n",
       "      nit: 4\n",
       "     njev: 6\n",
       "   status: 0\n",
       "  success: True\n",
       "        x: array([-1.57079624])"
      ]
     },
     "execution_count": 2,
     "metadata": {},
     "output_type": "execute_result"
    }
   ],
   "source": [
    "def f(x):\n",
    "    return np.sin(x)\n",
    "minimize(f, 0.1)"
   ]
  },
  {
   "cell_type": "code",
   "execution_count": 6,
   "metadata": {},
   "outputs": [],
   "source": [
    "def e0phi(lamb1, lamb2, lamb3):\n",
    "    return 1/2*(2*lamb1 + lamb2)\n",
    "\n",
    "def e1phi(lamb1, lamb2, lamb3):\n",
    "    return 1/2*(2*lamb1 - lamb2)\n",
    "\n",
    "def e2phi(lamb1, lamb2, lamb3):\n",
    "    return 1/2*(-2*lamb1 + lamb3)\n",
    "\n",
    "def e3phi(lamb1, lamb2, lamb3):\n",
    "    return 1/2*(-2*lamb1 - lamb3)\n",
    "\n",
    "\n",
    "e0t = 1/2*3\n",
    "e1t = 1/2*1\n",
    "e2t = 1/2*(-1)\n",
    "e3t = 1/2*(-3)\n",
    "\n",
    "e0AdS = complex(0, e0t)\n",
    "e1AdS = complex(0, e1t)\n",
    "e2AdS = complex(0, e2t)\n",
    "e3AdS = complex(0, e3t)\n"
   ]
  },
  {
   "cell_type": "code",
   "execution_count": 101,
   "metadata": {},
   "outputs": [],
   "source": [
    "def Qn(n, lamb1, lamb2, lamb3):\n",
    "    return 1/n*(e0phi(lamb1, lamb2, lamb3)**n + e1phi(lamb1, lamb2, lamb3)**n + e2phi(lamb1, lamb2, lamb3)**n + e3phi(lamb1, lamb2, lamb3)**n)\n",
    "\n",
    "def QnAdS(n):\n",
    "    return 1/n*(e0AdS**n + e1AdS**n + e2AdS**n + e3AdS**n)\n",
    "\n",
    "def S(lamb1, lamb2, lamb3):\n",
    "    return e0phi(lamb1, lamb2, lamb3)*e0t + e1phi(lamb1, lamb2, lamb3)*e1t + e2phi(lamb1, lamb2, lamb3)*e2t + e3phi(lamb1, lamb2, lamb3)*e3t\n",
    "\n",
    "def Gamma(lambs, mu3, mu4):\n",
    "    lamb1, lamb2, lamb3 = lambs\n",
    "    return np.real(5*(Qn(2, lamb1, lamb2, lamb3) - QnAdS(2)) + mu3*(Qn(3, lamb1, lamb2, lamb3) - QnAdS(3)) + mu4*(Qn(4, lamb1, lamb2, lamb3) - QnAdS(4)))"
   ]
  },
  {
   "cell_type": "code",
   "execution_count": 104,
   "metadata": {},
   "outputs": [
    {
     "name": "stderr",
     "output_type": "stream",
     "text": [
      "<ipython-input-104-24ff21bb8e81>:32: RuntimeWarning: divide by zero encountered in log\n",
      "  Q2_array[(n-1) - y, x] = np.log(2*lamb1**2 + 1/4*lamb2**2+1/4*lamb3**2)\n"
     ]
    }
   ],
   "source": [
    "def dQdlambda(lambs):\n",
    "    lamb1, lamb2, lamb3 = lambs\n",
    "    return 1/32*lamb2*lamb3*(4*lamb1 + lamb2 + lamb3)*(4*lamb1 - lamb2 + lamb3)*(4*lamb1 + lamb2 - lamb3)*(4*lamb1 - lamb2 - lamb3)\n",
    "\n",
    "def const_real(lambs):\n",
    "    lamb1, lamb2, lamb3 = lambs\n",
    "    return np.sum(np.iscomplex(lamb1)) + np.sum(np.iscomplex(lamb2)) + np.sum(np.iscomplex(lamb3))\n",
    "\n",
    "\n",
    "bnds = ((0, None), (0, None), (0, None))\n",
    "cons = {'type':'ineq', 'fun':dQdlambda}\n",
    "\n",
    "mu30 = 0.1\n",
    "mu3f = 4*np.pi\n",
    "mu40 = 0.1\n",
    "mu4f = 2*np.pi**2/5\n",
    "n = 100\n",
    "mu3list = np.linspace(mu30, mu3f, n)\n",
    "mu4list = np.linspace(mu40, mu4f, n)\n",
    "\n",
    "Q2_array = np.zeros((n, n))\n",
    "\n",
    "for y in range(len(mu4list)):\n",
    "    for x in range(len(mu3list)):\n",
    "        res = minimize(Gamma, (0.2, 0.2, 0.2), args=(mu3list[x], mu4list[y]), bounds=bnds, constraints=cons)\n",
    "        lamb1 = res.x[0]\n",
    "        lamb2 = res.x[1]\n",
    "        lamb3 = res.x[2]\n",
    "        #print(res.x)\n",
    "        #print(res)\n",
    "        #lamb1, lamb2, lamb3 =  res\n",
    "        Q2_array[(n-1) - y, x] = np.log(2*lamb1**2 + 1/4*lamb2**2+1/4*lamb3**2)\n"
   ]
  },
  {
   "cell_type": "code",
   "execution_count": 100,
   "metadata": {},
   "outputs": [
    {
     "data": {
      "text/plain": [
       "(25+0j)"
      ]
     },
     "execution_count": 100,
     "metadata": {},
     "output_type": "execute_result"
    }
   ],
   "source": [
    "Gamma((1,1,1),1,1)"
   ]
  },
  {
   "cell_type": "code",
   "execution_count": 20,
   "metadata": {},
   "outputs": [],
   "source": [
    "def D1Gamma(lamb1, lamb2, lamb3, mu3, mu4):\n",
    "    return -4 + 20*lamb1 + 1/2*(lamb2**2 - lamb3**2)*mu3 + 1/32*(128*lamb1**3 + 48*lamb1*(lamb2**2 + lamb3**2))*mu4\n",
    "\n",
    "def D2Gamma(lamb1, lamb2, lamb3, mu3, mu4):\n",
    "    return -(1/2) + 5*lamb2/2 + lamb1*lamb2*mu3 + 1/32*(48*lamb1**2*lamb2 + 4*lamb2**3)*mu4\n",
    "\n",
    "def D3Gamma(lamb1, lamb2, lamb3, mu3, mu4):\n",
    "    return -(1/2) + 5*lamb3/2 - lamb1*lamb3*mu3 + 1/32*(48*lamb1**2*lamb3 + 4*lamb3**3)*mu4"
   ]
  },
  {
   "cell_type": "code",
   "execution_count": 91,
   "metadata": {},
   "outputs": [],
   "source": [
    "def equations(x, mu3, mu4):\n",
    "    lamb1, lamb2, lamb3 = x\n",
    "    return (D1Gamma(lamb1, lamb2, lamb3, mu3, mu4), D2Gamma(lamb1, lamb2, lamb3, mu3, mu4), D3Gamma(lamb1, lamb2, lamb3, mu3, mu4))\n",
    "\n",
    "\n",
    "\n",
    "\n",
    "\n",
    "\n",
    "#lamb1, lamb2, lamb3 =  fsolve(equations, (1, 1, 1), args=(1, 1))"
   ]
  },
  {
   "cell_type": "code",
   "execution_count": 81,
   "metadata": {},
   "outputs": [
    {
     "data": {
      "text/plain": [
       "array([[0., 0., 0., 0., 0., 0., 0., 0., 0., 0.],\n",
       "       [0., 0., 0., 0., 0., 0., 0., 0., 0., 0.],\n",
       "       [0., 0., 0., 0., 0., 0., 0., 0., 0., 0.],\n",
       "       [0., 0., 0., 0., 0., 0., 0., 0., 0., 0.],\n",
       "       [0., 0., 0., 0., 0., 0., 0., 0., 0., 0.],\n",
       "       [0., 0., 0., 0., 0., 0., 0., 0., 0., 0.],\n",
       "       [0., 0., 0., 0., 0., 0., 0., 0., 0., 0.],\n",
       "       [0., 0., 0., 0., 0., 0., 0., 0., 0., 0.],\n",
       "       [0., 0., 0., 0., 0., 0., 0., 0., 0., 0.],\n",
       "       [1., 0., 0., 0., 0., 0., 0., 0., 1., 0.]])"
      ]
     },
     "execution_count": 81,
     "metadata": {},
     "output_type": "execute_result"
    }
   ],
   "source": [
    "Q2_array[9, 0]=1\n",
    "Q2_array"
   ]
  },
  {
   "cell_type": "code",
   "execution_count": 65,
   "metadata": {},
   "outputs": [
    {
     "data": {
      "text/plain": [
       "50"
      ]
     },
     "execution_count": 65,
     "metadata": {},
     "output_type": "execute_result"
    }
   ],
   "source": [
    "len(mu3list)"
   ]
  },
  {
   "cell_type": "code",
   "execution_count": 92,
   "metadata": {},
   "outputs": [
    {
     "name": "stderr",
     "output_type": "stream",
     "text": [
      "/Users/javier/opt/anaconda3/lib/python3.8/site-packages/scipy/optimize/minpack.py:175: RuntimeWarning: The iteration is not making good progress, as measured by the \n",
      "  improvement from the last ten iterations.\n",
      "  warnings.warn(msg, RuntimeWarning)\n",
      "/Users/javier/opt/anaconda3/lib/python3.8/site-packages/scipy/optimize/minpack.py:175: RuntimeWarning: The iteration is not making good progress, as measured by the \n",
      "  improvement from the last five Jacobian evaluations.\n",
      "  warnings.warn(msg, RuntimeWarning)\n"
     ]
    }
   ],
   "source": [
    "\n",
    "\n",
    "\n",
    "for y in range(len(mu4list)):\n",
    "    for x in range(len(mu3list)):\n",
    "        lamb1, lamb2, lamb3 =  fsolve(equations, (1, 1, 1), args=(mu3list[x], mu4list[y]), xtol=1.49012e-10)\n",
    "        Q2_array[(n-1) - y, x] = np.log(2*lamb1**2 + 1/4*lamb2**2+1/4*lamb3**2)\n",
    "        #print(Q2_array)"
   ]
  },
  {
   "cell_type": "code",
   "execution_count": 63,
   "metadata": {},
   "outputs": [
    {
     "data": {
      "text/plain": [
       "array([[-2.30428603, -2.31517685, -2.3212319 , ..., -2.50857763,\n",
       "        -2.5109971 , -2.51165356],\n",
       "       [-2.24966072, -2.25342294, -2.26656604, ..., -2.48060537,\n",
       "        -2.48339587, -2.48428284],\n",
       "       [-2.18588691, -2.19515184, -2.20758713, ..., -2.45224873,\n",
       "        -2.45576685, -2.45830642],\n",
       "       ...,\n",
       "       [-2.41193555, -2.41001186, -2.40807832, ..., -2.30862183,\n",
       "        -2.306071  , -2.30350176],\n",
       "       [-2.41291111, -2.41099545, -2.40907005, ..., -2.31014241,\n",
       "        -2.30760849, -2.3050565 ],\n",
       "       [-2.41337016, -2.41145828, -2.4095367 , ..., -2.31085695,\n",
       "        -2.30833096, -2.30578703]])"
      ]
     },
     "execution_count": 63,
     "metadata": {},
     "output_type": "execute_result"
    }
   ],
   "source": [
    "Q2_array"
   ]
  },
  {
   "cell_type": "code",
   "execution_count": 105,
   "metadata": {},
   "outputs": [
    {
     "data": {
      "text/plain": [
       "<matplotlib.colorbar.Colorbar at 0x7f8821fa4100>"
      ]
     },
     "execution_count": 105,
     "metadata": {},
     "output_type": "execute_result"
    },
    {
     "data": {
      "image/png": "[encoded data removed]",
      "text/plain": [
       "<Figure size 720x720 with 2 Axes>"
      ]
     },
     "metadata": {
      "needs_background": "light"
     },
     "output_type": "display_data"
    }
   ],
   "source": [
    "fig, ax = plt.subplots(figsize=(10,10))\n",
    "\n",
    "c = ax.imshow(Q2_array, cmap ='cool', interpolation ='nearest', origin ='lower', extent =[mu30, mu3f, mu40, mu4f],aspect='auto')\n",
    "ax.set_title(\"Transición fase $Q_2$\")\n",
    "ax.set_xlabel(\"$\\mu_3/\\mu^2$\")\n",
    "ax.set_ylabel(\"$\\mu_4/\\mu^3$\", rotation=90)\n",
    "\n",
    "fig.colorbar(c, ax=ax, label='log($Q_2\\mu^2$)')"
   ]
  },
  {
   "cell_type": "code",
   "execution_count": 31,
   "metadata": {},
   "outputs": [
    {
     "ename": "TypeError",
     "evalue": "minimize() missing 1 required positional argument: 'x0'",
     "output_type": "error",
     "traceback": [
      "\u001b[0;31m---------------------------------------------------------------------------\u001b[0m",
      "\u001b[0;31mTypeError\u001b[0m                                 Traceback (most recent call last)",
      "\u001b[0;32m<ipython-input-31-867c2c33cf49>\u001b[0m in \u001b[0;36m<module>\u001b[0;34m\u001b[0m\n\u001b[0;32m----> 1\u001b[0;31m \u001b[0mres\u001b[0m \u001b[0;34m=\u001b[0m \u001b[0mminimize\u001b[0m\u001b[0;34m(\u001b[0m\u001b[0mGamma\u001b[0m\u001b[0;34m,\u001b[0m \u001b[0margs\u001b[0m\u001b[0;34m=\u001b[0m\u001b[0;34m(\u001b[0m\u001b[0;36m6\u001b[0m\u001b[0;34m,\u001b[0m \u001b[0;36m9\u001b[0m\u001b[0;34m)\u001b[0m\u001b[0;34m)\u001b[0m\u001b[0;34m\u001b[0m\u001b[0;34m\u001b[0m\u001b[0m\n\u001b[0m\u001b[1;32m      2\u001b[0m \u001b[0mres\u001b[0m\u001b[0;34m.\u001b[0m\u001b[0mx\u001b[0m\u001b[0;34m\u001b[0m\u001b[0;34m\u001b[0m\u001b[0m\n",
      "\u001b[0;31mTypeError\u001b[0m: minimize() missing 1 required positional argument: 'x0'"
     ]
    }
   ],
   "source": [
    "res = minimize(Gamma, args=(6, 9))\n",
    "res.x"
   ]
  },
  {
   "cell_type": "code",
   "execution_count": 26,
   "metadata": {},
   "outputs": [
    {
     "data": {
      "text/plain": [
       "(9.9375+0j)"
      ]
     },
     "execution_count": 26,
     "metadata": {},
     "output_type": "execute_result"
    }
   ],
   "source": [
    "Gamma((0,0,0),1,1)"
   ]
  },
  {
   "cell_type": "code",
   "execution_count": 16,
   "metadata": {},
   "outputs": [
    {
     "data": {
      "text/plain": [
       "10"
      ]
     },
     "execution_count": 16,
     "metadata": {},
     "output_type": "execute_result"
    }
   ],
   "source": [
    "f = lambdify((x,z), yprime, 'numpy')\n",
    "f(4,2)"
   ]
  },
  {
   "cell_type": "code",
   "execution_count": null,
   "metadata": {},
   "outputs": [],
   "source": [
    "-4 + 20*lamb1 + 1/2 (lamb2**2 - lamb3**2)*mu3 + 1/32 (128*lamb1^3 + 48*lamb1 (lamb2**2 + lamb3**2))*mu4"
   ]
  },
  {
   "cell_type": "markdown",
   "metadata": {},
   "source": [
    "# Segundo intento"
   ]
  },
  {
   "cell_type": "code",
   "execution_count": 5,
   "metadata": {},
   "outputs": [],
   "source": [
    "params = (2, 3, 7, 8, 9, 10, 44, -1, 2, 26, 1, -2, 0.5)\n",
    "def f1(z, *params):\n",
    "    x, y = z\n",
    "    a, b, c, d, e, f, g, h, i, j, k, l, scale = params\n",
    "    return (a * x**2 + b * x * y + c * y**2 + d*x + e*y + f)\n",
    "\n",
    "def f2(z, *params):\n",
    "    x, y = z\n",
    "    a, b, c, d, e, f, g, h, i, j, k, l, scale = params\n",
    "    return (-g*np.exp(-((x-h)**2 + (y-i)**2) / scale))\n",
    "\n",
    "def f3(z, *params):\n",
    "    x, y = z\n",
    "    a, b, c, d, e, f, g, h, i, j, k, l, scale = params\n",
    "    return (-j*np.exp(-((x-k)**2 + (y-l)**2) / scale))\n",
    "\n",
    "def f(z, *params):\n",
    "    return f1(z, *params) + f2(z, *params) + f3(z, *params)"
   ]
  },
  {
   "cell_type": "code",
   "execution_count": null,
   "metadata": {},
   "outputs": [],
   "source": [
    "def f(z, list):\n",
    "    x, y, r = z\n",
    "    a = list\n",
    "    return x^2+y^3+a*r^4"
   ]
  },
  {
   "cell_type": "code",
   "execution_count": 7,
   "metadata": {},
   "outputs": [
    {
     "data": {
      "text/plain": [
       "(array([-1.05665192,  1.80834843]),\n",
       " -3.4085818767996527,\n",
       " array([[[-4.  , -4.  , -4.  , ..., -4.  , -4.  , -4.  ],\n",
       "         [-3.75, -3.75, -3.75, ..., -3.75, -3.75, -3.75],\n",
       "         [-3.5 , -3.5 , -3.5 , ..., -3.5 , -3.5 , -3.5 ],\n",
       "         ...,\n",
       "         [ 3.25,  3.25,  3.25, ...,  3.25,  3.25,  3.25],\n",
       "         [ 3.5 ,  3.5 ,  3.5 , ...,  3.5 ,  3.5 ,  3.5 ],\n",
       "         [ 3.75,  3.75,  3.75, ...,  3.75,  3.75,  3.75]],\n",
       " \n",
       "        [[-4.  , -3.75, -3.5 , ...,  3.25,  3.5 ,  3.75],\n",
       "         [-4.  , -3.75, -3.5 , ...,  3.25,  3.5 ,  3.75],\n",
       "         [-4.  , -3.75, -3.5 , ...,  3.25,  3.5 ,  3.75],\n",
       "         ...,\n",
       "         [-4.  , -3.75, -3.5 , ...,  3.25,  3.5 ,  3.75],\n",
       "         [-4.  , -3.75, -3.5 , ...,  3.25,  3.5 ,  3.75],\n",
       "         [-4.  , -3.75, -3.5 , ...,  3.25,  3.5 ,  3.75]]]),\n",
       " array([[134.        , 119.6875    , 106.25      , ...,  74.18749997,\n",
       "          85.24999999,  97.1875    ],\n",
       "        [129.125     , 115.        , 101.75      , ...,  74.74999948,\n",
       "          85.99999987,  98.12499997],\n",
       "        [124.5       , 110.5625    ,  97.5       , ...,  75.5624928 ,\n",
       "          86.99999818,  99.31249964],\n",
       "        ...,\n",
       "        [ 94.12499965,  85.24999772,  77.24998843, ..., 192.        ,\n",
       "         208.5       , 225.875     ],\n",
       "        [ 96.49999997,  87.81249979,  79.99999892, ..., 199.8125    ,\n",
       "         216.5       , 234.0625    ],\n",
       "        [ 99.125     ,  90.62499998,  82.99999992, ..., 207.875     ,\n",
       "         224.75      , 242.5       ]]))"
      ]
     },
     "execution_count": 7,
     "metadata": {},
     "output_type": "execute_result"
    }
   ],
   "source": [
    "import numpy as np\n",
    "rranges = (slice(-4, 4, 0.25), slice(-4, 4, 0.25))\n",
    "from scipy import optimize\n",
    "resbrute = optimize.brute(f, rranges, args=params, full_output=True,\n",
    "                          finish=optimize.fmin)\n",
    "resbrute  # global minimum"
   ]
  },
  {
   "cell_type": "markdown",
   "metadata": {},
   "source": [
    "# Tercer intento: shgo"
   ]
  },
  {
   "cell_type": "code",
   "execution_count": 11,
   "metadata": {},
   "outputs": [],
   "source": [
    "import numpy as np\n",
    "import matplotlib.pyplot as plt\n",
    "from scipy.optimize import minimize\n",
    "from sympy import *\n",
    "from scipy.optimize import fsolve\n",
    "import math\n",
    "from matplotlib.colors import LogNorm\n",
    "from numpy import genfromtxt\n",
    "import pandas as pd\n",
    "\n",
    "plt.rcParams['axes.grid'] = False\n",
    "plt.rcParams['grid.alpha'] = 1\n",
    "plt.rcParams['grid.color'] = \"#cccccc\"\n",
    "plt.rcParams.update({\"font.size\": 15, \"font.family\": \"serif\"})"
   ]
  },
  {
   "cell_type": "code",
   "execution_count": 58,
   "metadata": {},
   "outputs": [],
   "source": [
    "def e0phi(lamb1, lamb2, lamb3):\n",
    "    return 1/2*(2*lamb1 + lamb2)\n",
    "\n",
    "def e1phi(lamb1, lamb2, lamb3):\n",
    "    return 1/2*(2*lamb1 - lamb2)\n",
    "\n",
    "def e2phi(lamb1, lamb2, lamb3):\n",
    "    return 1/2*(-2*lamb1 + lamb3)\n",
    "\n",
    "def e3phi(lamb1, lamb2, lamb3):\n",
    "    return 1/2*(-2*lamb1 - lamb3)\n",
    "\n",
    "\n",
    "e0t = 1/2*3\n",
    "e1t = 1/2*1\n",
    "e2t = 1/2*(-1)\n",
    "e3t = 1/2*(-3)\n",
    "\n",
    "e0AdS = complex(0, e0t)\n",
    "e1AdS = complex(0, e1t)\n",
    "e2AdS = complex(0, e2t)\n",
    "e3AdS = complex(0, e3t)\n",
    "\n",
    "\"\"\"\n",
    "def Qn(n, lamb1, lamb2, lamb3):\n",
    "    return 1/n*(e0phi(lamb1, lamb2, lamb3)**n + e1phi(lamb1, lamb2, lamb3)**n + e2phi(lamb1, lamb2, lamb3)**n + e3phi(lamb1, lamb2, lamb3)**n)\n",
    "\n",
    "def QnAdS(n):\n",
    "    return 1/n*(e0AdS**n + e1AdS**n + e2AdS**n + e3AdS**n)\n",
    "\n",
    "def S(lamb1, lamb2, lamb3):\n",
    "    return e0phi(lamb1, lamb2, lamb3)*e0t + e1phi(lamb1, lamb2, lamb3)*e1t + e2phi(lamb1, lamb2, lamb3)*e2t + e3phi(lamb1, lamb2, lamb3)*e3t\n",
    "\"\"\"\n",
    "\n",
    "def Gamma(lambs, *mus):\n",
    "    mu3 = mus[0]\n",
    "    mu4 = mus[1]\n",
    "    lamb1 = lambs[0]\n",
    "    lamb2 = lambs[1]\n",
    "    lamb3 = lambs[2]\n",
    "    #print(\"Lambda1: \", lamb1,\"Lambda2: \", lamb2,\"Lambda3: \", lamb3, \"mu3: \",mu3,\"mu4: \",mu4)\n",
    "    return np.real(1/2*(-8*lamb1 - lamb2 - lamb3) + 5*(5/2 + 1/4*(8*lamb1**2 + lamb2**2 + lamb3**2)) + 1/2*lamb1*(lamb2**2 - lamb3**2)*mu3 + (-(41/16) + 1/32*(32*lamb1**4 + lamb2**4 + lamb3**4 + 24*lamb1**2*(lamb2**2 + lamb3**2)))*mu4)"
   ]
  },
  {
   "cell_type": "code",
   "execution_count": 79,
   "metadata": {},
   "outputs": [
    {
     "ename": "IndexError",
     "evalue": "tuple index out of range",
     "output_type": "error",
     "traceback": [
      "\u001b[0;31m---------------------------------------------------------------------------\u001b[0m",
      "\u001b[0;31mIndexError\u001b[0m                                Traceback (most recent call last)",
      "\u001b[0;32m<ipython-input-79-8715e54c37d2>\u001b[0m in \u001b[0;36m<module>\u001b[0;34m\u001b[0m\n\u001b[1;32m     97\u001b[0m     \u001b[0;32mfor\u001b[0m \u001b[0mx\u001b[0m \u001b[0;32min\u001b[0m \u001b[0mrange\u001b[0m\u001b[0;34m(\u001b[0m\u001b[0mlen\u001b[0m\u001b[0;34m(\u001b[0m\u001b[0mmu3list\u001b[0m\u001b[0;34m)\u001b[0m\u001b[0;34m)\u001b[0m\u001b[0;34m:\u001b[0m\u001b[0;34m\u001b[0m\u001b[0;34m\u001b[0m\u001b[0m\n\u001b[1;32m     98\u001b[0m         \u001b[0mmus\u001b[0m \u001b[0;34m=\u001b[0m \u001b[0;34m(\u001b[0m\u001b[0mmu3list\u001b[0m\u001b[0;34m[\u001b[0m\u001b[0mx\u001b[0m\u001b[0;34m]\u001b[0m\u001b[0;34m,\u001b[0m \u001b[0mmu4list\u001b[0m\u001b[0;34m[\u001b[0m\u001b[0my\u001b[0m\u001b[0;34m]\u001b[0m\u001b[0;34m)\u001b[0m\u001b[0;34m\u001b[0m\u001b[0;34m\u001b[0m\u001b[0m\n\u001b[0;32m---> 99\u001b[0;31m         \u001b[0mres\u001b[0m \u001b[0;34m=\u001b[0m \u001b[0mshgo\u001b[0m\u001b[0;34m(\u001b[0m\u001b[0mGamma\u001b[0m\u001b[0;34m,\u001b[0m \u001b[0mbounds\u001b[0m\u001b[0;34m=\u001b[0m\u001b[0mbounds\u001b[0m\u001b[0;34m,\u001b[0m \u001b[0margs\u001b[0m\u001b[0;34m=\u001b[0m\u001b[0mmus\u001b[0m\u001b[0;34m,\u001b[0m \u001b[0mconstraints\u001b[0m\u001b[0;34m=\u001b[0m\u001b[0mcons\u001b[0m\u001b[0;34m)\u001b[0m\u001b[0;34m\u001b[0m\u001b[0;34m\u001b[0m\u001b[0m\n\u001b[0m\u001b[1;32m    100\u001b[0m         \u001b[0;31m#res = minimize(Gamma, (0.2, 0.2, 0.2), args=(mu3list[x], mu4list[y]), bounds=bnds, constraints=cons)\u001b[0m\u001b[0;34m\u001b[0m\u001b[0;34m\u001b[0m\u001b[0;34m\u001b[0m\u001b[0m\n\u001b[1;32m    101\u001b[0m         \u001b[0mlamb1\u001b[0m \u001b[0;34m=\u001b[0m \u001b[0mres\u001b[0m\u001b[0;34m.\u001b[0m\u001b[0mx\u001b[0m\u001b[0;34m[\u001b[0m\u001b[0;36m0\u001b[0m\u001b[0;34m]\u001b[0m\u001b[0;34m\u001b[0m\u001b[0;34m\u001b[0m\u001b[0m\n",
      "\u001b[0;32m~/opt/anaconda3/lib/python3.8/site-packages/scipy/optimize/_shgo.py\u001b[0m in \u001b[0;36mshgo\u001b[0;34m(func, bounds, args, constraints, n, iters, callback, minimizer_kwargs, options, sampling_method)\u001b[0m\n\u001b[1;32m    423\u001b[0m \u001b[0;34m\u001b[0m\u001b[0m\n\u001b[1;32m    424\u001b[0m     \u001b[0;31m# Run the algorithm, process results and test success\u001b[0m\u001b[0;34m\u001b[0m\u001b[0;34m\u001b[0m\u001b[0;34m\u001b[0m\u001b[0m\n\u001b[0;32m--> 425\u001b[0;31m     \u001b[0mshc\u001b[0m\u001b[0;34m.\u001b[0m\u001b[0mconstruct_complex\u001b[0m\u001b[0;34m(\u001b[0m\u001b[0;34m)\u001b[0m\u001b[0;34m\u001b[0m\u001b[0;34m\u001b[0m\u001b[0m\n\u001b[0m\u001b[1;32m    426\u001b[0m \u001b[0;34m\u001b[0m\u001b[0m\n\u001b[1;32m    427\u001b[0m     \u001b[0;32mif\u001b[0m \u001b[0;32mnot\u001b[0m \u001b[0mshc\u001b[0m\u001b[0;34m.\u001b[0m\u001b[0mbreak_routine\u001b[0m\u001b[0;34m:\u001b[0m\u001b[0;34m\u001b[0m\u001b[0;34m\u001b[0m\u001b[0m\n",
      "\u001b[0;32m~/opt/anaconda3/lib/python3.8/site-packages/scipy/optimize/_shgo.py\u001b[0m in \u001b[0;36mconstruct_complex\u001b[0;34m(self)\u001b[0m\n\u001b[1;32m    743\u001b[0m         \u001b[0;32mif\u001b[0m \u001b[0;32mnot\u001b[0m \u001b[0mself\u001b[0m\u001b[0;34m.\u001b[0m\u001b[0mminimize_every_iter\u001b[0m\u001b[0;34m:\u001b[0m\u001b[0;34m\u001b[0m\u001b[0;34m\u001b[0m\u001b[0m\n\u001b[1;32m    744\u001b[0m             \u001b[0;32mif\u001b[0m \u001b[0;32mnot\u001b[0m \u001b[0mself\u001b[0m\u001b[0;34m.\u001b[0m\u001b[0mbreak_routine\u001b[0m\u001b[0;34m:\u001b[0m\u001b[0;34m\u001b[0m\u001b[0;34m\u001b[0m\u001b[0m\n\u001b[0;32m--> 745\u001b[0;31m                 \u001b[0mself\u001b[0m\u001b[0;34m.\u001b[0m\u001b[0mfind_minima\u001b[0m\u001b[0;34m(\u001b[0m\u001b[0;34m)\u001b[0m\u001b[0;34m\u001b[0m\u001b[0;34m\u001b[0m\u001b[0m\n\u001b[0m\u001b[1;32m    746\u001b[0m \u001b[0;34m\u001b[0m\u001b[0m\n\u001b[1;32m    747\u001b[0m         \u001b[0mself\u001b[0m\u001b[0;34m.\u001b[0m\u001b[0mres\u001b[0m\u001b[0;34m.\u001b[0m\u001b[0mnit\u001b[0m \u001b[0;34m=\u001b[0m \u001b[0mself\u001b[0m\u001b[0;34m.\u001b[0m\u001b[0miters_done\u001b[0m \u001b[0;34m+\u001b[0m \u001b[0;36m1\u001b[0m\u001b[0;34m\u001b[0m\u001b[0;34m\u001b[0m\u001b[0m\n",
      "\u001b[0;32m~/opt/anaconda3/lib/python3.8/site-packages/scipy/optimize/_shgo.py\u001b[0m in \u001b[0;36mfind_minima\u001b[0;34m(self)\u001b[0m\n\u001b[1;32m    757\u001b[0m             \u001b[0;31m# Note that if Options['local_iter'] is an `int` instead of default\u001b[0m\u001b[0;34m\u001b[0m\u001b[0;34m\u001b[0m\u001b[0;34m\u001b[0m\u001b[0m\n\u001b[1;32m    758\u001b[0m             \u001b[0;31m# value False then only that number of candidates will be minimized\u001b[0m\u001b[0;34m\u001b[0m\u001b[0;34m\u001b[0m\u001b[0;34m\u001b[0m\u001b[0m\n\u001b[0;32m--> 759\u001b[0;31m             \u001b[0mself\u001b[0m\u001b[0;34m.\u001b[0m\u001b[0mminimise_pool\u001b[0m\u001b[0;34m(\u001b[0m\u001b[0mself\u001b[0m\u001b[0;34m.\u001b[0m\u001b[0mlocal_iter\u001b[0m\u001b[0;34m)\u001b[0m\u001b[0;34m\u001b[0m\u001b[0;34m\u001b[0m\u001b[0m\n\u001b[0m\u001b[1;32m    760\u001b[0m             \u001b[0;31m# Sort results and build the global return object\u001b[0m\u001b[0;34m\u001b[0m\u001b[0;34m\u001b[0m\u001b[0;34m\u001b[0m\u001b[0m\n\u001b[1;32m    761\u001b[0m             \u001b[0mself\u001b[0m\u001b[0;34m.\u001b[0m\u001b[0msort_result\u001b[0m\u001b[0;34m(\u001b[0m\u001b[0;34m)\u001b[0m\u001b[0;34m\u001b[0m\u001b[0;34m\u001b[0m\u001b[0m\n",
      "\u001b[0;32m~/opt/anaconda3/lib/python3.8/site-packages/scipy/optimize/_shgo.py\u001b[0m in \u001b[0;36mminimise_pool\u001b[0;34m(self, force_iter)\u001b[0m\n\u001b[1;32m    981\u001b[0m         \u001b[0;31m# NOTE: Since we always minimize this value regardless it is a waste to\u001b[0m\u001b[0;34m\u001b[0m\u001b[0;34m\u001b[0m\u001b[0;34m\u001b[0m\u001b[0m\n\u001b[1;32m    982\u001b[0m         \u001b[0;31m# build the topograph first before minimizing\u001b[0m\u001b[0;34m\u001b[0m\u001b[0;34m\u001b[0m\u001b[0;34m\u001b[0m\u001b[0m\n\u001b[0;32m--> 983\u001b[0;31m         \u001b[0mlres_f_min\u001b[0m \u001b[0;34m=\u001b[0m \u001b[0mself\u001b[0m\u001b[0;34m.\u001b[0m\u001b[0mminimize\u001b[0m\u001b[0;34m(\u001b[0m\u001b[0mself\u001b[0m\u001b[0;34m.\u001b[0m\u001b[0mX_min\u001b[0m\u001b[0;34m[\u001b[0m\u001b[0;36m0\u001b[0m\u001b[0;34m]\u001b[0m\u001b[0;34m,\u001b[0m \u001b[0mind\u001b[0m\u001b[0;34m=\u001b[0m\u001b[0mself\u001b[0m\u001b[0;34m.\u001b[0m\u001b[0mminimizer_pool\u001b[0m\u001b[0;34m[\u001b[0m\u001b[0;36m0\u001b[0m\u001b[0;34m]\u001b[0m\u001b[0;34m)\u001b[0m\u001b[0;34m\u001b[0m\u001b[0;34m\u001b[0m\u001b[0m\n\u001b[0m\u001b[1;32m    984\u001b[0m \u001b[0;34m\u001b[0m\u001b[0m\n\u001b[1;32m    985\u001b[0m         \u001b[0;31m# Trim minimized point from current minimizer set\u001b[0m\u001b[0;34m\u001b[0m\u001b[0;34m\u001b[0m\u001b[0;34m\u001b[0m\u001b[0m\n",
      "\u001b[0;32m~/opt/anaconda3/lib/python3.8/site-packages/scipy/optimize/_shgo.py\u001b[0m in \u001b[0;36mminimize\u001b[0;34m(self, x_min, ind)\u001b[0m\n\u001b[1;32m   1168\u001b[0m \u001b[0;34m\u001b[0m\u001b[0m\n\u001b[1;32m   1169\u001b[0m         \u001b[0;31m# Local minimization using scipy.optimize.minimize:\u001b[0m\u001b[0;34m\u001b[0m\u001b[0;34m\u001b[0m\u001b[0;34m\u001b[0m\u001b[0m\n\u001b[0;32m-> 1170\u001b[0;31m         \u001b[0mlres\u001b[0m \u001b[0;34m=\u001b[0m \u001b[0mminimize\u001b[0m\u001b[0;34m(\u001b[0m\u001b[0mself\u001b[0m\u001b[0;34m.\u001b[0m\u001b[0mfunc\u001b[0m\u001b[0;34m,\u001b[0m \u001b[0mx_min\u001b[0m\u001b[0;34m,\u001b[0m \u001b[0;34m**\u001b[0m\u001b[0mself\u001b[0m\u001b[0;34m.\u001b[0m\u001b[0mminimizer_kwargs\u001b[0m\u001b[0;34m)\u001b[0m\u001b[0;34m\u001b[0m\u001b[0;34m\u001b[0m\u001b[0m\n\u001b[0m\u001b[1;32m   1171\u001b[0m \u001b[0;34m\u001b[0m\u001b[0m\n\u001b[1;32m   1172\u001b[0m         \u001b[0;32mif\u001b[0m \u001b[0mself\u001b[0m\u001b[0;34m.\u001b[0m\u001b[0mdisp\u001b[0m\u001b[0;34m:\u001b[0m\u001b[0;34m\u001b[0m\u001b[0;34m\u001b[0m\u001b[0m\n",
      "\u001b[0;32m~/opt/anaconda3/lib/python3.8/site-packages/scipy/optimize/_minimize.py\u001b[0m in \u001b[0;36mminimize\u001b[0;34m(fun, x0, args, method, jac, hess, hessp, bounds, constraints, tol, callback, options)\u001b[0m\n\u001b[1;32m    706\u001b[0m                                 **options)\n\u001b[1;32m    707\u001b[0m     \u001b[0;32melif\u001b[0m \u001b[0mmeth\u001b[0m \u001b[0;34m==\u001b[0m \u001b[0;34m'slsqp'\u001b[0m\u001b[0;34m:\u001b[0m\u001b[0;34m\u001b[0m\u001b[0;34m\u001b[0m\u001b[0m\n\u001b[0;32m--> 708\u001b[0;31m         res = _minimize_slsqp(fun, x0, args, jac, bounds,\n\u001b[0m\u001b[1;32m    709\u001b[0m                               constraints, callback=callback, **options)\n\u001b[1;32m    710\u001b[0m     \u001b[0;32melif\u001b[0m \u001b[0mmeth\u001b[0m \u001b[0;34m==\u001b[0m \u001b[0;34m'trust-constr'\u001b[0m\u001b[0;34m:\u001b[0m\u001b[0;34m\u001b[0m\u001b[0;34m\u001b[0m\u001b[0m\n",
      "\u001b[0;32m~/opt/anaconda3/lib/python3.8/site-packages/scipy/optimize/_slsqp_py.py\u001b[0m in \u001b[0;36m_minimize_slsqp\u001b[0;34m(func, x0, args, jac, bounds, constraints, maxiter, ftol, iprint, disp, eps, callback, finite_diff_rel_step, **unknown_options)\u001b[0m\n\u001b[1;32m    325\u001b[0m     \u001b[0;31m# Set the parameters that SLSQP will need\u001b[0m\u001b[0;34m\u001b[0m\u001b[0;34m\u001b[0m\u001b[0;34m\u001b[0m\u001b[0m\n\u001b[1;32m    326\u001b[0m     \u001b[0;31m# meq, mieq: number of equality and inequality constraints\u001b[0m\u001b[0;34m\u001b[0m\u001b[0;34m\u001b[0m\u001b[0;34m\u001b[0m\u001b[0m\n\u001b[0;32m--> 327\u001b[0;31m     meq = sum(map(len, [atleast_1d(c['fun'](x, *c['args']))\n\u001b[0m\u001b[1;32m    328\u001b[0m               for c in cons['eq']]))\n\u001b[1;32m    329\u001b[0m     mieq = sum(map(len, [atleast_1d(c['fun'](x, *c['args']))\n",
      "\u001b[0;32m~/opt/anaconda3/lib/python3.8/site-packages/scipy/optimize/_slsqp_py.py\u001b[0m in \u001b[0;36m<listcomp>\u001b[0;34m(.0)\u001b[0m\n\u001b[1;32m    325\u001b[0m     \u001b[0;31m# Set the parameters that SLSQP will need\u001b[0m\u001b[0;34m\u001b[0m\u001b[0;34m\u001b[0m\u001b[0;34m\u001b[0m\u001b[0m\n\u001b[1;32m    326\u001b[0m     \u001b[0;31m# meq, mieq: number of equality and inequality constraints\u001b[0m\u001b[0;34m\u001b[0m\u001b[0;34m\u001b[0m\u001b[0;34m\u001b[0m\u001b[0m\n\u001b[0;32m--> 327\u001b[0;31m     meq = sum(map(len, [atleast_1d(c['fun'](x, *c['args']))\n\u001b[0m\u001b[1;32m    328\u001b[0m               for c in cons['eq']]))\n\u001b[1;32m    329\u001b[0m     mieq = sum(map(len, [atleast_1d(c['fun'](x, *c['args']))\n",
      "\u001b[0;32m<ipython-input-79-8715e54c37d2>\u001b[0m in \u001b[0;36meq1\u001b[0;34m(lambs, *mus)\u001b[0m\n\u001b[1;32m     39\u001b[0m \u001b[0;34m\u001b[0m\u001b[0m\n\u001b[1;32m     40\u001b[0m \u001b[0;32mdef\u001b[0m \u001b[0meq1\u001b[0m\u001b[0;34m(\u001b[0m\u001b[0mlambs\u001b[0m\u001b[0;34m,\u001b[0m \u001b[0;34m*\u001b[0m\u001b[0mmus\u001b[0m\u001b[0;34m)\u001b[0m\u001b[0;34m:\u001b[0m\u001b[0;34m\u001b[0m\u001b[0;34m\u001b[0m\u001b[0m\n\u001b[0;32m---> 41\u001b[0;31m     \u001b[0mmu3\u001b[0m \u001b[0;34m=\u001b[0m \u001b[0mmus\u001b[0m\u001b[0;34m[\u001b[0m\u001b[0;36m0\u001b[0m\u001b[0;34m]\u001b[0m\u001b[0;34m\u001b[0m\u001b[0;34m\u001b[0m\u001b[0m\n\u001b[0m\u001b[1;32m     42\u001b[0m     \u001b[0mmu4\u001b[0m \u001b[0;34m=\u001b[0m \u001b[0mmus\u001b[0m\u001b[0;34m[\u001b[0m\u001b[0;36m1\u001b[0m\u001b[0;34m]\u001b[0m\u001b[0;34m\u001b[0m\u001b[0;34m\u001b[0m\u001b[0m\n\u001b[1;32m     43\u001b[0m     \u001b[0mlamb1\u001b[0m \u001b[0;34m=\u001b[0m \u001b[0;36m5.02484385151935\u001b[0m\u001b[0;34m\u001b[0m\u001b[0;34m\u001b[0m\u001b[0m\n",
      "\u001b[0;31mIndexError\u001b[0m: tuple index out of range"
     ]
    }
   ],
   "source": [
    "\"\"\"\n",
    "def dQdlambda(lambs):\n",
    "    lamb1, lamb2, lamb3 = lambs\n",
    "    return 1/32*lamb2*lamb3*(4*lamb1 + lamb2 + lamb3)*(4*lamb1 - lamb2 + lamb3)*(4*lamb1 + lamb2 - lamb3)*(4*lamb1 - lamb2 - lamb3)\n",
    "\"\"\"\n",
    "\n",
    "def g1(lambs):\n",
    "    lamb1 = lambs[0]\n",
    "    lamb2 = lambs[1]\n",
    "    return lamb2 #>0\n",
    "\n",
    "def g2(lambs):\n",
    "    lamb3 = lambs[2]\n",
    "    return lamb3 #>0\n",
    "\n",
    "def g3(lambs):\n",
    "    lamb1 = lambs[0]\n",
    "    lamb2 = lambs[1]\n",
    "    lamb3 = lambs[2]\n",
    "    return 4*lamb1 + lamb2 + lamb3 #>0\n",
    "\n",
    "def g4(lambs):\n",
    "    lamb1 = lambs[0]\n",
    "    lamb2 = lambs[1]\n",
    "    lamb3 = lambs[2]\n",
    "    return 4*lamb1 - lamb2 + lamb3 #>0\n",
    "\n",
    "def g5(lambs):\n",
    "    lamb1 = lambs[0]\n",
    "    lamb2 = lambs[1]\n",
    "    lamb3 = lambs[2]\n",
    "    return 4*lamb1 + lamb2 - lamb3 #>0\n",
    "\n",
    "def g6(lambs):\n",
    "    lamb1 = lambs[0]\n",
    "    lamb2 = lambs[1]\n",
    "    lamb3 = lambs[2]\n",
    "    return 4*lamb1 - lamb2 - lamb3 #>0\n",
    "\n",
    "def eq1(lambs, *mus):\n",
    "    mu3 = mus[0]\n",
    "    mu4 = mus[1]\n",
    "    lamb1 = 5.02484385151935\n",
    "    lamb2 = 0.01657050307220192\n",
    "    lamb3 = lambs[2]\n",
    "    return -4 + 20*lamb1 + 1/2*(lamb2**2 - lamb3**2)*mu3 + 1/32*(128*lamb1**3 + 48*lamb1*(lamb2**2 + lamb3**2))*mu4 # = 0\n",
    "\n",
    "def eq2(lambs, *mus):\n",
    "    mu3 = mus[0]\n",
    "    mu4 = mus[1]\n",
    "    lamb1 = 5.02484385151935\n",
    "    lamb2 = 0.01657050307220192\n",
    "    lamb3 = lambs[2]\n",
    "    return -(1/2) + (5*lamb2)/2 + lamb1*lamb2*mu3 + 1/32*(48*lamb1**2*lamb2 + 4*lamb2**3)*mu4 # = 0\n",
    "\n",
    "def eq3(lambs, *mus):\n",
    "    mu3 = mus[0]\n",
    "    mu4 = mus[1]\n",
    "    lamb1 = 5.02484385151935\n",
    "    lamb2 = 0.01657050307220192\n",
    "    lamb3 = lambs[2]\n",
    "    return -(1/2) + (5*lamb3)/2 - lamb1*lamb3*mu3 + 1/32*(48*lamb1**2*lamb3 + 4*lamb3**3)*mu4 # = 0\n",
    "\n",
    "\"\"\"\n",
    "def const_real(lambs):\n",
    "    lamb1, lamb2, lamb3 = lambs\n",
    "    return np.sum(np.iscomplex(lamb1)) + np.sum(np.iscomplex(lamb2)) + np.sum(np.iscomplex(lamb3))\n",
    "\"\"\"\n",
    "\n",
    "\n",
    "#bnds = ((0, None), (0, None), (0, None))\n",
    "cons = ({'type':'ineq', 'fun': g1},\n",
    "        {'type':'ineq', 'fun': g2},\n",
    "        {'type':'ineq', 'fun': g3},\n",
    "        {'type':'ineq', 'fun': g4},\n",
    "        {'type':'ineq', 'fun': g5},\n",
    "        {'type':'ineq', 'fun': g6})\n",
    "\n",
    "\n",
    "mu30 = 0.2\n",
    "mu3f = 4*np.pi\n",
    "#mu3f = 6\n",
    "mu40 = 0.2\n",
    "mu4f = 2*np.pi**2/5\n",
    "#mu4f = 1\n",
    "n = 100\n",
    "mu3list = np.linspace(mu30, mu3f, n)\n",
    "mu4list = np.linspace(mu40, mu4f, n)\n",
    "\n",
    "Q2_array = np.zeros((n, n))\n",
    "bounds = [(None, None), (None, None),(None, None)]\n",
    "\n",
    "for y in range(len(mu4list)):\n",
    "    for x in range(len(mu3list)):\n",
    "        mus = (mu3list[x], mu4list[y])\n",
    "        res = shgo(Gamma, bounds=bounds, args=mus, constraints=cons)\n",
    "        #res = minimize(Gamma, (0.2, 0.2, 0.2), args=(mu3list[x], mu4list[y]), bounds=bnds, constraints=cons)\n",
    "        lamb1 = res.x[0]\n",
    "        lamb2 = res.x[1]\n",
    "        lamb3 = res.x[2]\n",
    "        #print(res.x)\n",
    "        #print(res)\n",
    "        #lamb1, lamb2, lamb3 =  res\n",
    "        Q2_array[(n-1) - y, x] = np.log(2*lamb1**2 + 1/4*lamb2**2 + 1/4*lamb3**2)\n",
    "\n"
   ]
  },
  {
   "cell_type": "code",
   "execution_count": 92,
   "metadata": {},
   "outputs": [],
   "source": [
    "# NO BORRAR\n",
    "\n",
    "\n",
    "def g1(lambs):\n",
    "    lamb1 = lambs[0]\n",
    "    lamb2 = lambs[1]\n",
    "    return lamb2 #>0\n",
    "\n",
    "def g2(lambs):\n",
    "    lamb3 = lambs[2]\n",
    "    return lamb3 #>0\n",
    "\n",
    "def g3(lambs):\n",
    "    lamb1 = lambs[0]\n",
    "    lamb2 = lambs[1]\n",
    "    lamb3 = lambs[2]\n",
    "    return 4*lamb1 + lamb2 + lamb3 #>0\n",
    "\n",
    "def g4(lambs):\n",
    "    lamb1 = lambs[0]\n",
    "    lamb2 = lambs[1]\n",
    "    lamb3 = lambs[2]\n",
    "    return 4*lamb1 - lamb2 + lamb3 #>0\n",
    "\n",
    "def g5(lambs):\n",
    "    lamb1 = lambs[0]\n",
    "    lamb2 = lambs[1]\n",
    "    lamb3 = lambs[2]\n",
    "    return 4*lamb1 + lamb2 - lamb3 #>0\n",
    "\n",
    "def g6(lambs):\n",
    "    lamb1 = lambs[0]\n",
    "    lamb2 = lambs[1]\n",
    "    lamb3 = lambs[2]\n",
    "    return 4*lamb1 - lamb2 - lamb3 #>0"
   ]
  },
  {
   "cell_type": "code",
   "execution_count": 63,
   "metadata": {},
   "outputs": [
    {
     "data": {
      "text/plain": [
       "<matplotlib.colorbar.Colorbar at 0x7f7f2163e250>"
      ]
     },
     "execution_count": 63,
     "metadata": {},
     "output_type": "execute_result"
    },
    {
     "data": {
      "image/png": "[encoded data removed]",
      "text/plain": [
       "<Figure size 720x720 with 2 Axes>"
      ]
     },
     "metadata": {
      "needs_background": "light"
     },
     "output_type": "display_data"
    }
   ],
   "source": [
    "fig, ax = plt.subplots(figsize=(10,10))\n",
    "\n",
    "c = ax.imshow(Q2_array, cmap ='cool', interpolation ='nearest', origin ='upper', extent =[mu30, mu3f, mu40, mu4f],aspect='auto')\n",
    "ax.set_title(\"Transición fase $Q_2$\")\n",
    "ax.set_xlabel(\"$\\mu_3/\\mu^2$\")\n",
    "ax.set_ylabel(\"$\\mu_4/\\mu^3$\", rotation=90)\n",
    "\n",
    "fig.colorbar(c, ax=ax, label='log($Q_2\\mu^2$)')"
   ]
  },
  {
   "cell_type": "code",
   "execution_count": 65,
   "metadata": {},
   "outputs": [
    {
     "data": {
      "text/plain": [
       "<matplotlib.colorbar.Colorbar at 0x7f7f217b8670>"
      ]
     },
     "execution_count": 65,
     "metadata": {},
     "output_type": "execute_result"
    },
    {
     "data": {
      "image/png": "[encoded data removed]",
      "text/plain": [
       "<Figure size 720x720 with 1 Axes>"
      ]
     },
     "metadata": {
      "needs_background": "light"
     },
     "output_type": "display_data"
    }
   ],
   "source": [
    "fig2, ax2 = plt.subplots(figsize=(10,10))\n",
    "\n",
    "c = ax2.imshow(Q2_array, cmap ='cool', interpolation ='nearest', origin ='upper', extent =[mu30, mu3f, mu40, mu4f],aspect='auto')\n",
    "ax2.set_title(\"Transición fase $Q_2$\")\n",
    "ax2.set_xlabel(\"$\\mu_3/\\mu^2$\")\n",
    "ax2.set_ylabel(\"$\\mu_4/\\mu^3$\", rotation=90)\n",
    "\n",
    "fig2.colorbar(c, ax=ax, label='log($Q_2\\mu^2$)')"
   ]
  },
  {
   "cell_type": "code",
   "execution_count": 97,
   "metadata": {},
   "outputs": [],
   "source": [
    "#mus_1 = (2, 3)\n",
    "#bounds = [(-100, 100),(-100, 100)]\n",
    "mus=(4,0.2)\n",
    "\n",
    "cons1 = ({'type':'ineq', 'fun': g1},\n",
    "        {'type':'ineq', 'fun': g2},\n",
    "        {'type':'ineq', 'fun': g3},\n",
    "        {'type':'ineq', 'fun': g4},\n",
    "        {'type':'ineq', 'fun': g5},\n",
    "        {'type':'ineq', 'fun': g6})\n",
    "\n",
    "def Gamma(lambs, *mus):\n",
    "    mu3 = mus[0]\n",
    "    mu4 = mus[1]\n",
    "    lamb1 = lambs[0]\n",
    "    lamb2 = lambs[1]\n",
    "    lamb3 = lambs[2]\n",
    "    #print(\"Lambda1: \", lamb1,\"Lambda2: \", lamb2,\"Lambda3: \", lamb3, \"mu3: \",mu3,\"mu4: \",mu4)\n",
    "    return np.real(1/2*(-8*lamb1 - lamb2 - lamb3) + 5*(5/2 + 1/4*(8*lamb1**2 + lamb2**2 + lamb3**2)) + 1/2*lamb1*(lamb2**2 - lamb3**2)*mu3 + (-(41/16) + 1/32*(32*lamb1**4 + lamb2**4 + lamb3**4 + 24*lamb1**2*(lamb2**2 + lamb3**2)))*mu4)\n",
    "\n",
    "res = shgo(Gamma, bounds=bounds, args=mus, constraints=cons1)"
   ]
  },
  {
   "cell_type": "code",
   "execution_count": 98,
   "metadata": {},
   "outputs": [
    {
     "data": {
      "text/plain": [
       "     fun: 11.476788939597547\n",
       "    funl: array([11.47678894])\n",
       " message: 'Optimization terminated successfully.'\n",
       "    nfev: 34\n",
       "     nit: 2\n",
       "   nlfev: 32\n",
       "   nlhev: 0\n",
       "   nljev: 7\n",
       " success: True\n",
       "       x: array([0.20580237, 0.14985861, 0.29556401])\n",
       "      xl: array([[0.20580237, 0.14985861, 0.29556401]])"
      ]
     },
     "execution_count": 98,
     "metadata": {},
     "output_type": "execute_result"
    }
   ],
   "source": [
    "res"
   ]
  },
  {
   "cell_type": "code",
   "execution_count": 99,
   "metadata": {},
   "outputs": [
    {
     "name": "stderr",
     "output_type": "stream",
     "text": [
      "/Users/javier/opt/anaconda3/lib/python3.8/site-packages/scipy/optimize/_optimize.py:284: RuntimeWarning: Values in x were outside bounds during a minimize step, clipping to bounds\n",
      "  warnings.warn(\"Values in x were outside bounds during a \"\n"
     ]
    }
   ],
   "source": [
    "#bnds = ((0, None), (0, None), (0, None))\n",
    "cons = ({'type':'ineq', 'fun': g1},\n",
    "        {'type':'ineq', 'fun': g2},\n",
    "        {'type':'ineq', 'fun': g3},\n",
    "        {'type':'ineq', 'fun': g4},\n",
    "        {'type':'ineq', 'fun': g5},\n",
    "        {'type':'ineq', 'fun': g6})\n",
    "\n",
    "\n",
    "mu30 = 0.2\n",
    "mu3f = 4*np.pi\n",
    "#mu3f = 6\n",
    "mu40 = 0.2\n",
    "mu4f = 2*np.pi**2/5\n",
    "#mu4f = 1\n",
    "n = 100\n",
    "mu3list = np.linspace(mu30, mu3f, n)\n",
    "mu4list = np.linspace(mu40, mu4f, n)\n",
    "\n",
    "Q2_array = np.zeros((n, n))\n",
    "bounds = [(-50,50), (-50,50),(-50,50)]\n",
    "\n",
    "for y in range(len(mu4list)):\n",
    "    for x in range(len(mu3list)):\n",
    "        mus = (mu3list[x], mu4list[y])\n",
    "        res = shgo(Gamma, bounds=bounds, args=mus, constraints=cons)\n",
    "        #res = minimize(Gamma, (0.2, 0.2, 0.2), args=(mu3list[x], mu4list[y]), bounds=bnds, constraints=cons)\n",
    "        lamb1 = res.x[0]\n",
    "        lamb2 = res.x[1]\n",
    "        lamb3 = res.x[2]\n",
    "        #print(res.x)\n",
    "        #print(res)\n",
    "        #lamb1, lamb2, lamb3 =  res\n",
    "        Q2_array[(n-1) - y, x] = np.log(2*lamb1**2 + 1/4*lamb2**2 + 1/4*lamb3**2)"
   ]
  },
  {
   "cell_type": "code",
   "execution_count": 127,
   "metadata": {},
   "outputs": [
    {
     "data": {
      "text/plain": [
       "     fun: -643.0788640651608\n",
       "    funl: array([-643.07886407])\n",
       " message: 'Optimization terminated successfully.'\n",
       "    nfev: 59\n",
       "     nit: 2\n",
       "   nlfev: 54\n",
       "   nlhev: 0\n",
       "   nljev: 12\n",
       " success: True\n",
       "       x: array([5.02484385e+00, 1.65696285e-02, 2.00495358e+01])\n",
       "      xl: array([[5.02484385e+00, 1.65696285e-02, 2.00495358e+01]])"
      ]
     },
     "execution_count": 127,
     "metadata": {},
     "output_type": "execute_result"
    }
   ],
   "source": [
    "bounds2 = [(0,25),(0,25),(10,25)]\n",
    "res = shgo(Gamma, bounds=bounds2, args=(4,0.2), constraints=cons)\n",
    "res"
   ]
  },
  {
   "cell_type": "code",
   "execution_count": 100,
   "metadata": {},
   "outputs": [
    {
     "data": {
      "text/plain": [
       "<matplotlib.colorbar.Colorbar at 0x7f7f21546fa0>"
      ]
     },
     "execution_count": 100,
     "metadata": {},
     "output_type": "execute_result"
    },
    {
     "data": {
      "image/png": "[encoded data removed]",
      "text/plain": [
       "<Figure size 720x720 with 1 Axes>"
      ]
     },
     "metadata": {
      "needs_background": "light"
     },
     "output_type": "display_data"
    }
   ],
   "source": [
    "fig3, ax3 = plt.subplots(figsize=(10,10))\n",
    "\n",
    "c = ax3.imshow(Q2_array, cmap ='cool', interpolation ='nearest', origin ='upper', extent =[mu30, mu3f, mu40, mu4f],aspect='auto')\n",
    "ax3.set_title(\"Transición fase $Q_2$\")\n",
    "ax3.set_xlabel(\"$\\mu_3/\\mu^2$\")\n",
    "ax3.set_ylabel(\"$\\mu_4/\\mu^3$\", rotation=90)\n",
    "\n",
    "fig3.colorbar(c, ax=ax, label='log($Q_2\\mu^2$)')"
   ]
  },
  {
   "cell_type": "markdown",
   "metadata": {},
   "source": [
    "## NO funciono lo anterior\n"
   ]
  },
  {
   "cell_type": "code",
   "execution_count": 74,
   "metadata": {},
   "outputs": [
    {
     "data": {
      "text/plain": [
       "(array([1., 1., 1., 1., 1.]), 0.0)"
      ]
     },
     "execution_count": 74,
     "metadata": {},
     "output_type": "execute_result"
    }
   ],
   "source": [
    "from scipy.optimize import rosen, differential_evolution\n",
    "bounds = [(0,2), (0, 2), (0, 2), (0, 2), (0, 2)]\n",
    "result = differential_evolution(rosen, bounds, )\n",
    "result.x, result.fun"
   ]
  },
  {
   "cell_type": "code",
   "execution_count": 9,
   "metadata": {},
   "outputs": [],
   "source": [
    "\"\"\"\n",
    "from scipy.optimize import rosen, shgo\n",
    "\n",
    "def f(x):  # (cattle-feed)\n",
    "    return 24.55*x[0] + 26.75*x[1] + 39*x[2] + 40.50*x[3]\n",
    "\n",
    "def g1(x):\n",
    "    return 2.3*x[0] + 5.6*x[1] + 11.1*x[2] + 1.3*x[3] - 5  # >=0\n",
    "\n",
    "def g2(x):\n",
    "    return (12*x[0] + 11.9*x[1] +41.8*x[2] + 52.1*x[3] - 21\n",
    "            - 1.645 * np.sqrt(0.28*x[0]**2 + 0.19*x[1]**2\n",
    "                            + 20.5*x[2]**2 + 0.62*x[3]**2)\n",
    "            ) # >=0\n",
    "\n",
    "def h1(x):\n",
    "    return x[0] + x[1] + x[2] + x[3] - 1  # == 0\n",
    "\n",
    "cons = ({'type': 'ineq', 'fun': g1},\n",
    "        {'type': 'ineq', 'fun': g2},\n",
    "        {'type': 'eq', 'fun': h1})\n",
    "bounds = [(0, 1.0),]*4\n",
    "res = shgo(f, bounds, iters=3, constraints=cons)\n",
    "\"\"\""
   ]
  },
  {
   "cell_type": "markdown",
   "metadata": {},
   "source": [
    "# Solver"
   ]
  },
  {
   "cell_type": "code",
   "execution_count": 120,
   "metadata": {},
   "outputs": [
    {
     "data": {
      "text/plain": [
       "    fjac: array([[-0.92300651, -0.03066285,  0.38356064],\n",
       "       [ 0.01052042, -0.99845819, -0.05450287],\n",
       "       [-0.38464048,  0.04627129, -0.921906  ]])\n",
       "     fun: array([5.10702591e-15, 7.88605292e-15, 5.55111512e-16])\n",
       " message: 'The solution converged.'\n",
       "    nfev: 21\n",
       "     qtf: array([1.24013459e-11, 1.81133810e-11, 3.16097424e-12])\n",
       "       r: array([-21.48427624,  -0.70301698,   7.17215203,  -5.15605004,\n",
       "        -0.22425018,   2.46107507])\n",
       "  status: 1\n",
       " success: True\n",
       "       x: array([0.62810935, 0.0974463 , 2.20165849])"
      ]
     },
     "execution_count": 120,
     "metadata": {},
     "output_type": "execute_result"
    }
   ],
   "source": [
    "from scipy.optimize import fsolve\n",
    "from scipy import optimize\n",
    "\n",
    "def eq123(lambs, *mus):\n",
    "    mu3 = mus[0]\n",
    "    mu4 = mus[1]\n",
    "    lamb1 = lambs[0]\n",
    "    lamb2 = lambs[1]\n",
    "    lamb3 = lambs[2]\n",
    "    D1 = -4 + 20*lamb1 + 1/2*(lamb2**2 - lamb3**2)*mu3 + 1/32*(128*lamb1**3 + 48*lamb1*(lamb2**2 + lamb3**2))*mu4\n",
    "    D2 = -(1/2) + (5*lamb2)/2 + lamb1*lamb2*mu3 + 1/32*(48*lamb1**2*lamb2 + 4*lamb2**3)*mu4\n",
    "    D3 = -(1/2) + (5*lamb3)/2 - lamb1*lamb3*mu3 + 1/32*(48*lamb1**2*lamb3 + 4*lamb3**3)*mu4\n",
    "    return [D1,D2,D3]\n",
    "\n",
    "mus = (4,0.2)\n",
    "root = optimize.root(eq123, [1, 1, 1], args=mus, tol=1e-11)\n",
    "root"
   ]
  },
  {
   "cell_type": "code",
   "execution_count": 122,
   "metadata": {},
   "outputs": [],
   "source": [
    "mu30 = 0.2\n",
    "mu3f = 4*np.pi\n",
    "#mu3f = 6\n",
    "mu40 = 0.2\n",
    "mu4f = 2*np.pi**2/5\n",
    "#mu4f = 1\n",
    "n = 100\n",
    "mu3list = np.linspace(mu30, mu3f, n)\n",
    "mu4list = np.linspace(mu40, mu4f, n)\n",
    "\n",
    "Q2_array = np.zeros((n, n))\n",
    "#bounds = [(-50,50), (-50,50),(-50,50)]\n",
    "\n",
    "for y in range(len(mu4list)):\n",
    "    for x in range(len(mu3list)):\n",
    "        mus = (mu3list[x], mu4list[y])\n",
    "        root = optimize.root(eq123, [1, 1, 1], args=mus, tol=1e-11)\n",
    "        #res = shgo(Gamma, bounds=bounds, args=mus, constraints=cons)\n",
    "        #res = minimize(Gamma, (0.2, 0.2, 0.2), args=(mu3list[x], mu4list[y]), bounds=bnds, constraints=cons)\n",
    "        lamb1 = root.x[0]\n",
    "        lamb2 = root.x[1]\n",
    "        lamb3 = root.x[2]\n",
    "        #print(res.x)\n",
    "        #print(res)\n",
    "        #lamb1, lamb2, lamb3 =  res\n",
    "        Q2_array[(n-1) - y, x] = np.log(2*lamb1**2 + 1/4*lamb2**2 + 1/4*lamb3**2)"
   ]
  },
  {
   "cell_type": "code",
   "execution_count": 123,
   "metadata": {},
   "outputs": [
    {
     "data": {
      "text/plain": [
       "<matplotlib.colorbar.Colorbar at 0x7f7f1123ecd0>"
      ]
     },
     "execution_count": 123,
     "metadata": {},
     "output_type": "execute_result"
    },
    {
     "data": {
      "image/png": "[encoded data removed]",
      "text/plain": [
       "<Figure size 720x720 with 1 Axes>"
      ]
     },
     "metadata": {
      "needs_background": "light"
     },
     "output_type": "display_data"
    }
   ],
   "source": [
    "fig4, ax4 = plt.subplots(figsize=(10,10))\n",
    "\n",
    "c = ax4.imshow(Q2_array, cmap ='cool', interpolation ='nearest', origin ='upper', extent =[mu30, mu3f, mu40, mu4f],aspect='auto')\n",
    "ax4.set_title(\"Transición fase $Q_2$\")\n",
    "ax4.set_xlabel(\"$\\mu_3/\\mu^2$\")\n",
    "ax4.set_ylabel(\"$\\mu_4/\\mu^3$\", rotation=90)\n",
    "\n",
    "fig4.colorbar(c, ax=ax, label='log($Q_2\\mu^2$)')"
   ]
  },
  {
   "cell_type": "code",
   "execution_count": 121,
   "metadata": {},
   "outputs": [
    {
     "data": {
      "text/plain": [
       "[5.10702591327572e-15, 7.886052921790565e-15, 5.551115123125783e-16]"
      ]
     },
     "execution_count": 121,
     "metadata": {},
     "output_type": "execute_result"
    }
   ],
   "source": [
    "eq123(root.x, *mus)"
   ]
  },
  {
   "cell_type": "code",
   "execution_count": 118,
   "metadata": {},
   "outputs": [
    {
     "data": {
      "text/plain": [
       "[-7.855760486563668e-11, 1.9065332645951116e-11, -1.9838353182421997e-11]"
      ]
     },
     "execution_count": 118,
     "metadata": {},
     "output_type": "execute_result"
    }
   ],
   "source": [
    "eq123([5.02484385151935, 0.01657050307220192, 20.049535575611994], *mus)"
   ]
  },
  {
   "cell_type": "markdown",
   "metadata": {},
   "source": []
  }
 ],
 "metadata": {
  "kernelspec": {
   "display_name": "Python 3.8.8 ('base')",
   "language": "python",
   "name": "python3"
  },
  "language_info": {
   "codemirror_mode": {
    "name": "ipython",
    "version": 3
   },
   "file_extension": ".py",
   "mimetype": "text/x-python",
   "name": "python",
   "nbconvert_exporter": "python",
   "pygments_lexer": "ipython3",
   "version": "3.8.8"
  },
  "orig_nbformat": 4,
  "vscode": {
   "interpreter": {
    "hash": "ef9976fb54af8ee8df79066cc870653b1489938a47ac38ebc1c5562e362a13ad"
   }
  }
 },
 "nbformat": 4,
 "nbformat_minor": 2
}
