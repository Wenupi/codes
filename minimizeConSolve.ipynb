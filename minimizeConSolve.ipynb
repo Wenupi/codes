{
 "cells": [
  {
   "cell_type": "markdown",
   "metadata": {},
   "source": [
    "# Punto crítico: método root N=4"
   ]
  },
  {
   "cell_type": "code",
   "execution_count": 1,
   "metadata": {},
   "outputs": [],
   "source": [
    "import numpy as np\n",
    "import matplotlib.pyplot as plt\n",
    "from scipy.optimize import minimize\n",
    "from sympy import *\n",
    "from scipy.optimize import fsolve\n",
    "import math\n",
    "from matplotlib.colors import LogNorm\n",
    "from numpy import genfromtxt\n",
    "import pandas as pd\n",
    "\n",
    "plt.rcParams['axes.grid'] = False\n",
    "plt.rcParams['grid.alpha'] = 1\n",
    "plt.rcParams['grid.color'] = \"#cccccc\"\n",
    "plt.rcParams.update({\"font.size\": 15, \"font.family\": \"serif\"})"
   ]
  },
  {
   "cell_type": "code",
   "execution_count": 13,
   "metadata": {},
   "outputs": [
    {
     "data": {
      "text/plain": [
       "array([ 0.32993531,  0.0853596 ,  1.02591821,  0.20613979, -0.03486952,\n",
       "        0.97790107, -8.71837215,  2.92985794])"
      ]
     },
     "execution_count": 13,
     "metadata": {},
     "output_type": "execute_result"
    }
   ],
   "source": [
    "from scipy.optimize import fsolve\n",
    "from scipy import optimize\n",
    "\n",
    "def eq123(x):\n",
    "    lamb1 = x[0]\n",
    "    lamb2 = abs(x[1])  # sabemos que lambda_2 y lambda_3 deben ser > 0\n",
    "    lamb3 = abs(x[2])\n",
    "\n",
    "    v1 = x[3]\n",
    "    v2 = x[4]\n",
    "    v3 = x[5]  # no tenemos restricciones sobre los v_i\n",
    "\n",
    "    mu3 = abs(x[6])\n",
    "    mu4 = abs(x[7])  # consideramos los mus positivos\n",
    "\n",
    "    # Gradiente igual a 0\n",
    "    eq1 = -4 + 20*lamb1 + 1/2*(lamb2**2 - lamb3**2)*mu3 + 1/32*(128*lamb1**3 + 48*lamb1*(lamb2**2 + lamb3**2))*mu4\n",
    "\n",
    "    eq2 = -(1/2) + (5*lamb2)/2 + lamb1*lamb2*mu3 + 1/32*(48*lamb1**2*lamb2 + 4*lamb2**3)*mu4\n",
    "\n",
    "    eq3 = -(1/2) + (5*lamb3)/2 - lamb1*lamb3*mu3 + 1/32*(48*lamb1**2*lamb3 + 4*lamb3**3)*mu4\n",
    "\n",
    "\n",
    "    # Segunda derivada igual a 0\n",
    "    eq4 = (20 + 1/32*(384*lamb1**2 + 48*(lamb2**2 + lamb3**2))*mu4)*v1 + (lamb2*mu3 + 3*lamb1*lamb2*mu4)*v2 + (-lamb3*mu3 + 3*lamb1*lamb3*mu4)*v3\n",
    "\n",
    "    eq5 = (lamb2*mu3 + 3*lamb1*lamb2*mu4)*v1 + (5/2 + lamb1*mu3 + 1/32*(48*lamb1**2 + 12*lamb2**2)*mu4)*v2\n",
    "\n",
    "    eq6 = (-lamb3*mu3 + 3*lamb1*lamb3*mu4)*v1 + (5/2 - lamb1*mu3 + 1/32*(48*lamb1**2 + 12*lamb3**2)*mu4)*v3\n",
    "\n",
    "    # Normalización autovector (de la Hessiana)\n",
    "    eq7 = v1**2 + v2**2 + v3**2 - 1\n",
    "\n",
    "    # Tercera derivada igual a 0\n",
    "    eq8 = v2*(v2*((mu3 + 3*lamb1*mu4)*v1 + (3*lamb2*mu4*v2)/4) + v1*(3*lamb2*mu4*v1 + (mu3 + 3*lamb1*mu4)*v2)) + v3*(v3*((-mu3 + 3*lamb1*mu4)*v1 + (3*lamb3*mu4*v3)/4) + v1*(3*lamb3*mu4*v1 + (-mu3 + 3*lamb1*mu4)*v3)) + v1*(v2*(3*lamb2*mu4*v1 + (mu3 + 3*lamb1*mu4)*v2) + v1*(24*lamb1*mu4*v1 + 3*lamb2*mu4*v2 + 3*lamb3*mu4*v3) + v3*(3*lamb3*mu4*v1 + (-mu3 + 3*lamb1*mu4)*v3))\n",
    "\n",
    "    return [eq1, eq2, eq3, eq4, eq5, eq6, eq7, eq8]\n",
    "\n",
    "# Resolvemos este sistema de 8 ecuaciones\n",
    "root = optimize.root(eq123, [1,1,1,1,1,1,1,1])\n",
    "root.x"
   ]
  },
  {
   "cell_type": "markdown",
   "metadata": {},
   "source": [
    "# Plano crítico: root N=6"
   ]
  },
  {
   "cell_type": "code",
   "execution_count": 14,
   "metadata": {},
   "outputs": [],
   "source": [
    "import numpy as np\n",
    "import matplotlib.pyplot as plt\n",
    "from scipy.optimize import minimize\n",
    "from sympy import *\n",
    "from scipy.optimize import fsolve\n",
    "import math\n",
    "from matplotlib.colors import LogNorm\n",
    "from numpy import genfromtxt\n",
    "import pandas as pd\n",
    "\n",
    "plt.rcParams['axes.grid'] = False\n",
    "plt.rcParams['grid.alpha'] = 1\n",
    "plt.rcParams['grid.color'] = \"#cccccc\"\n",
    "plt.rcParams.update({\"font.size\": 15, \"font.family\": \"serif\"})"
   ]
  },
  {
   "cell_type": "markdown",
   "metadata": {},
   "source": [
    "Definimos las ecuaciones a resolver"
   ]
  },
  {
   "cell_type": "code",
   "execution_count": 42,
   "metadata": {},
   "outputs": [],
   "source": [
    "from scipy.optimize import fsolve\n",
    "from scipy import optimize\n",
    "\n",
    "def eqsPlanoCritico(x,*mus56):\n",
    "    \"\"\"\n",
    "    Función que define el set de 12 ecuaciones a resolver.\n",
    "\n",
    "    Volumen crítico para N=6\n",
    "    \"\"\"\n",
    "\n",
    "    lamb1 = x[0]\n",
    "    lamb2 = abs(x[1])\n",
    "    lamb3 = abs(x[2])\n",
    "    lamb4 = abs(x[3])\n",
    "    lamb5 = abs(x[4])  # sabemos que lambda_{2,3,4,5} deben ser > 0 \n",
    "\n",
    "    v1 = x[5]\n",
    "    v2 = x[6]\n",
    "    v3 = x[7]\n",
    "    v4 = x[8]\n",
    "    v5 = x[9]  # no tenemos restricciones sobre los v_i\n",
    "\n",
    "    mu3 = abs(x[10])\n",
    "    mu4 = abs(x[11])  # consideramos los mus positivos\n",
    "\n",
    "    # Estos mus son los que vamos variando a mano (slicing)\n",
    "    mu5 = mus56[0]\n",
    "    mu6 = mus56[1]\n",
    "\n",
    "    # Gradiente igual a 0\n",
    "    eq1 = -13.5 + (135*lamb1)/2. + (lamb2**2 + lamb2*lamb3 + lamb3**2 - lamb4**2 - lamb4*lamb5 - lamb5**2)*mu3 + ((18*((9*lamb1)/2. + lamb2 - lamb3)**3 - 18*((-9*lamb1)/2. + 2*lamb2 + lamb3)**3 + 18*((9*lamb1)/2. + lamb2 + 2*lamb3)**3 + 18*((9*lamb1)/2. - lamb4 + lamb5)**3 - 18*((-9*lamb1)/2. + lamb4 + 2*lamb5)**3 + (9*(9*lamb1 + 4*lamb4 + 2*lamb5)**3)/4.)*mu4)/324. + (((45*((9*lamb1)/2. - 2*lamb2 - lamb3)**4)/2. + (45*((9*lamb1)/2. + lamb2 - lamb3)**4)/2. + (45*((9*lamb1)/2. + lamb2 + 2*lamb3)**4)/2. - (45*((-9*lamb1)/2. + lamb4 - lamb5)**4)/2. - (45*((9*lamb1)/2. + 2*lamb4 + lamb5)**4)/2. - (45*((-9*lamb1)/2. + lamb4 + 2*lamb5)**4)/2.)*mu5)/1215. + ((27*((9*lamb1)/2. + lamb2 - lamb3)**5 - 27*((-9*lamb1)/2. + 2*lamb2 + lamb3)**5 + 27*((9*lamb1)/2. + lamb2 + 2*lamb3)**5 + 27*((9*lamb1)/2. - lamb4 + lamb5)**5 - 27*((-9*lamb1)/2. + lamb4 + 2*lamb5)**5 + (27*(9*lamb1 + 4*lamb4 + 2*lamb5)**5)/32.)*mu6)/4374.\n",
    "\n",
    "    eq2 = -1 + (5*(2*lamb2 + lamb3))/3. + ((-6*lamb2**2 - 6*lamb2*lamb3 + 3*lamb3**2 + 27*lamb1*(2*lamb2 + lamb3))*mu3)/27. + ((4*((9*lamb1)/2. + lamb2 - lamb3)**3 + 8*((-9*lamb1)/2. + 2*lamb2 + lamb3)**3 + 4*((9*lamb1)/2. + lamb2 + 2*lamb3)**3)*mu4)/324. + ((-10*((9*lamb1)/2. - 2*lamb2 - lamb3)**4 + 5*((9*lamb1)/2. + lamb2 - lamb3)**4 + 5*((9*lamb1)/2. + lamb2 + 2*lamb3)**4)*mu5)/1215. + ((6*((9*lamb1)/2. + lamb2 - lamb3)**5 + 12*((-9*lamb1)/2. + 2*lamb2 + lamb3)**5 + 6*((9*lamb1)/2. + lamb2 + 2*lamb3)**5)*mu6)/4374.\n",
    "\n",
    "    eq3 = -1 + (5*(lamb2 + 2*lamb3))/3. + ((-3*lamb2**2 + 6*lamb2*lamb3 + 6*lamb3**2 + 27*lamb1*(lamb2 + 2*lamb3))*mu3)/27. + ((-4*((9*lamb1)/2. + lamb2 - lamb3)**3 + 4*((-9*lamb1)/2. + 2*lamb2 + lamb3)**3 + 8*((9*lamb1)/2. + lamb2 + 2*lamb3)**3)*mu4)/324. + ((-5*((9*lamb1)/2. - 2*lamb2 - lamb3)**4 - 5*((9*lamb1)/2. + lamb2 - lamb3)**4 + 10*((9*lamb1)/2. + lamb2 + 2*lamb3)**4)*mu5)/1215. + ((-6*((9*lamb1)/2. + lamb2 - lamb3)**5 + 6*((-9*lamb1)/2. + 2*lamb2 + lamb3)**5 + 12*((9*lamb1)/2. + lamb2 + 2*lamb3)**5)*mu6)/4374.\n",
    "\n",
    "    eq4 = -1 + (5*(2*lamb4 + lamb5))/3. + ((-6*lamb4**2 + 27*lamb1*(-2*lamb4 - lamb5) - 6*lamb4*lamb5 + 3*lamb5**2)*mu3)/27. + ((-4*((9*lamb1)/2. - lamb4 + lamb5)**3 + 4*((-9*lamb1)/2. + lamb4 + 2*lamb5)**3 + (9*lamb1 + 4*lamb4 + 2*lamb5)**3)*mu4)/324. + ((5*((-9*lamb1)/2. + lamb4 - lamb5)**4 - 10*((9*lamb1)/2. + 2*lamb4 + lamb5)**4 + 5*((-9*lamb1)/2. + lamb4 + 2*lamb5)**4)*mu5)/1215. + ((-6*((9*lamb1)/2. - lamb4 + lamb5)**5 + 6*((-9*lamb1)/2. + lamb4 + 2*lamb5)**5 + (3*(9*lamb1 + 4*lamb4 + 2*lamb5)**5)/8.)*mu6)/4374.\n",
    "\n",
    "    eq5 = -1 + (5*(lamb4 + 2*lamb5))/3. + ((-3*lamb4**2 + 27*lamb1*(-lamb4 - 2*lamb5) + 6*lamb4*lamb5 + 6*lamb5**2)*mu3)/27. + ((4*((9*lamb1)/2. - lamb4 + lamb5)**3 + 8*((-9*lamb1)/2. + lamb4 + 2*lamb5)**3 + (9*lamb1 + 4*lamb4 + 2*lamb5)**3/2.)*mu4)/324. + ((-5*((-9*lamb1)/2. + lamb4 - lamb5)**4 - 5*((9*lamb1)/2. + 2*lamb4 + lamb5)**4 + 10*((-9*lamb1)/2. + lamb4 + 2*lamb5)**4)*mu5)/1215. + ((6*((9*lamb1)/2. - lamb4 + lamb5)**5 + 12*((-9*lamb1)/2. + lamb4 + 2*lamb5)**5 + (3*(9*lamb1 + 4*lamb4 + 2*lamb5)**5)/16.)*mu6)/4374.\n",
    "\n",
    "\n",
    "    # Segunda derivada igual a 0\n",
    "    eq6 = (67.5 + ((243*((9*lamb1)/2. + lamb2 - lamb3)**2 + 243*((-9*lamb1)/2. + 2*lamb2 + lamb3)**2 + 243*((9*lamb1)/2. + lamb2 + 2*lamb3)**2 + 243*((9*lamb1)/2. - lamb4 + lamb5)**2 + 243*((-9*lamb1)/2. + lamb4 + 2*lamb5)**2 + (243*(9*lamb1 + 4*lamb4 + 2*lamb5)**2)/4.)*mu4)/324. + ((405*((9*lamb1)/2. - 2*lamb2 - lamb3)**3 + 405*((9*lamb1)/2. + lamb2 - lamb3)**3 + 405*((9*lamb1)/2. + lamb2 + 2*lamb3)**3 + 405*((-9*lamb1)/2. + lamb4 - lamb5)**3 - 405*((9*lamb1)/2. + 2*lamb4 + lamb5)**3 + 405*((-9*lamb1)/2. + lamb4 + 2*lamb5)**3)*mu5)/1215. + (((1215*((9*lamb1)/2. + lamb2 - lamb3)**4)/2. + (1215*((-9*lamb1)/2. + 2*lamb2 + lamb3)**4)/2. + (1215*((9*lamb1)/2. + lamb2 + 2*lamb3)**4)/2. + (1215*((9*lamb1)/2. - lamb4 + lamb5)**4)/2. + (1215*((-9*lamb1)/2. + lamb4 + 2*lamb5)**4)/2. + (1215*(9*lamb1 + 4*lamb4 + 2*lamb5)**4)/32.)*mu6)/4374.)*v1 + ((2*lamb2 + lamb3)*mu3 + ((54*((9*lamb1)/2. + lamb2 - lamb3)**2 - 108*((-9*lamb1)/2. + 2*lamb2 + lamb3)**2 + 54*((9*lamb1)/2. + lamb2 + 2*lamb3)**2)*mu4)/324. + ((-180*((9*lamb1)/2. - 2*lamb2 - lamb3)**3 + 90*((9*lamb1)/2. + lamb2 - lamb3)**3 + 90*((9*lamb1)/2. + lamb2 + 2*lamb3)**3)*mu5)/1215. + ((135*((9*lamb1)/2. + lamb2 - lamb3)**4 - 270*((-9*lamb1)/2. + 2*lamb2 + lamb3)**4 + 135*((9*lamb1)/2. + lamb2 + 2*lamb3)**4)*mu6)/4374.)*v2 + ((lamb2 + 2*lamb3)*mu3 + ((-54*((9*lamb1)/2. + lamb2 - lamb3)**2 - 54*((-9*lamb1)/2. + 2*lamb2 + lamb3)**2 + 108*((9*lamb1)/2. + lamb2 + 2*lamb3)**2)*mu4)/324. + ((-90*((9*lamb1)/2. - 2*lamb2 - lamb3)**3 - 90*((9*lamb1)/2. + lamb2 - lamb3)**3 + 180*((9*lamb1)/2. + lamb2 + 2*lamb3)**3)*mu5)/1215. + ((-135*((9*lamb1)/2. + lamb2 - lamb3)**4 - 135*((-9*lamb1)/2. + 2*lamb2 + lamb3)**4 + 270*((9*lamb1)/2. + lamb2 + 2*lamb3)**4)*mu6)/4374.)*v3 + ((-2*lamb4 - lamb5)*mu3 + ((-54*((9*lamb1)/2. - lamb4 + lamb5)**2 - 54*((-9*lamb1)/2. + lamb4 + 2*lamb5)**2 + 27*(9*lamb1 + 4*lamb4 + 2*lamb5)**2)*mu4)/324. + ((-90*((-9*lamb1)/2. + lamb4 - lamb5)**3 - 180*((9*lamb1)/2. + 2*lamb4 + lamb5)**3 - 90*((-9*lamb1)/2. + lamb4 + 2*lamb5)**3)*mu5)/1215. + ((-135*((9*lamb1)/2. - lamb4 + lamb5)**4 - 135*((-9*lamb1)/2. + lamb4 + 2*lamb5)**4 + (135*(9*lamb1 + 4*lamb4 + 2*lamb5)**4)/8.)*mu6)/4374.)*v4 + ((-lamb4 - 2*lamb5)*mu3 + ((54*((9*lamb1)/2. - lamb4 + lamb5)**2 - 108*((-9*lamb1)/2. + lamb4 + 2*lamb5)**2 + (27*(9*lamb1 + 4*lamb4 + 2*lamb5)**2)/2.)*mu4)/324. + ((90*((-9*lamb1)/2. + lamb4 - lamb5)**3 - 90*((9*lamb1)/2. + 2*lamb4 + lamb5)**3 - 180*((-9*lamb1)/2. + lamb4 + 2*lamb5)**3)*mu5)/1215. + ((135*((9*lamb1)/2. - lamb4 + lamb5)**4 - 270*((-9*lamb1)/2. + lamb4 + 2*lamb5)**4 + (135*(9*lamb1 + 4*lamb4 + 2*lamb5)**4)/16.)*mu6)/4374.)*v5\n",
    "\n",
    "    eq7 = ((2*lamb2 + lamb3)*mu3 + ((54*((9*lamb1)/2. + lamb2 - lamb3)**2 - 108*((-9*lamb1)/2. + 2*lamb2 + lamb3)**2 + 54*((9*lamb1)/2. + lamb2 + 2*lamb3)**2)*mu4)/324. + ((-180*((9*lamb1)/2. - 2*lamb2 - lamb3)**3 + 90*((9*lamb1)/2. + lamb2 - lamb3)**3 + 90*((9*lamb1)/2. + lamb2 + 2*lamb3)**3)*mu5)/1215. + ((135*((9*lamb1)/2. + lamb2 - lamb3)**4 - 270*((-9*lamb1)/2. + 2*lamb2 + lamb3)**4 + 135*((9*lamb1)/2. + lamb2 + 2*lamb3)**4)*mu6)/4374.)*v1 + (3.3333333333333335 + ((54*lamb1 - 12*lamb2 - 6*lamb3)*mu3)/27. + ((12*((9*lamb1)/2. + lamb2 - lamb3)**2 + 48*((-9*lamb1)/2. + 2*lamb2 + lamb3)**2 + 12*((9*lamb1)/2. + lamb2 + 2*lamb3)**2)*mu4)/324. + ((80*((9*lamb1)/2. - 2*lamb2 - lamb3)**3 + 20*((9*lamb1)/2. + lamb2 - lamb3)**3 + 20*((9*lamb1)/2. + lamb2 + 2*lamb3)**3)*mu5)/1215. + ((30*((9*lamb1)/2. + lamb2 - lamb3)**4 + 120*((-9*lamb1)/2. + 2*lamb2 + lamb3)**4 + 30*((9*lamb1)/2. + lamb2 + 2*lamb3)**4)*mu6)/4374.)*v2 + (1.6666666666666667 + ((27*lamb1 - 6*lamb2 + 6*lamb3)*mu3)/27. + ((-12*((9*lamb1)/2. + lamb2 - lamb3)**2 + 24*((-9*lamb1)/2. + 2*lamb2 + lamb3)**2 + 24*((9*lamb1)/2. + lamb2 + 2*lamb3)**2)*mu4)/324. + ((40*((9*lamb1)/2. - 2*lamb2 - lamb3)**3 - 20*((9*lamb1)/2. + lamb2 - lamb3)**3 + 40*((9*lamb1)/2. + lamb2 + 2*lamb3)**3)*mu5)/1215. + ((-30*((9*lamb1)/2. + lamb2 - lamb3)**4 + 60*((-9*lamb1)/2. + 2*lamb2 + lamb3)**4 + 60*((9*lamb1)/2. + lamb2 + 2*lamb3)**4)*mu6)/4374.)*v3\n",
    "\n",
    "    eq8 = ((lamb2 + 2*lamb3)*mu3 + ((-54*((9*lamb1)/2. + lamb2 - lamb3)**2 - 54*((-9*lamb1)/2. + 2*lamb2 + lamb3)**2 + 108*((9*lamb1)/2. + lamb2 + 2*lamb3)**2)*mu4)/324. + ((-90*((9*lamb1)/2. - 2*lamb2 - lamb3)**3 - 90*((9*lamb1)/2. + lamb2 - lamb3)**3 + 180*((9*lamb1)/2. + lamb2 + 2*lamb3)**3)*mu5)/1215. + ((-135*((9*lamb1)/2. + lamb2 - lamb3)**4 - 135*((-9*lamb1)/2. + 2*lamb2 + lamb3)**4 + 270*((9*lamb1)/2. + lamb2 + 2*lamb3)**4)*mu6)/4374.)*v1 + (1.6666666666666667 + ((27*lamb1 - 6*lamb2 + 6*lamb3)*mu3)/27. + ((-12*((9*lamb1)/2. + lamb2 - lamb3)**2 + 24*((-9*lamb1)/2. + 2*lamb2 + lamb3)**2 + 24*((9*lamb1)/2. + lamb2 + 2*lamb3)**2)*mu4)/324. + ((40*((9*lamb1)/2. - 2*lamb2 - lamb3)**3 - 20*((9*lamb1)/2. + lamb2 - lamb3)**3 + 40*((9*lamb1)/2. + lamb2 + 2*lamb3)**3)*mu5)/1215. + ((-30*((9*lamb1)/2. + lamb2 - lamb3)**4 + 60*((-9*lamb1)/2. + 2*lamb2 + lamb3)**4 + 60*((9*lamb1)/2. + lamb2 + 2*lamb3)**4)*mu6)/4374.)*v2 + (3.3333333333333335 + ((54*lamb1 + 6*lamb2 + 12*lamb3)*mu3)/27. + ((12*((9*lamb1)/2. + lamb2 - lamb3)**2 + 12*((-9*lamb1)/2. + 2*lamb2 + lamb3)**2 + 48*((9*lamb1)/2. + lamb2 + 2*lamb3)**2)*mu4)/324. + ((20*((9*lamb1)/2. - 2*lamb2 - lamb3)**3 + 20*((9*lamb1)/2. + lamb2 - lamb3)**3 + 80*((9*lamb1)/2. + lamb2 + 2*lamb3)**3)*mu5)/1215. + ((30*((9*lamb1)/2. + lamb2 - lamb3)**4 + 30*((-9*lamb1)/2. + 2*lamb2 + lamb3)**4 + 120*((9*lamb1)/2. + lamb2 + 2*lamb3)**4)*mu6)/4374.)*v3\n",
    "\n",
    "    eq9 = ((-2*lamb4 - lamb5)*mu3 + ((-54*((9*lamb1)/2. - lamb4 + lamb5)**2 - 54*((-9*lamb1)/2. + lamb4 + 2*lamb5)**2 + 27*(9*lamb1 + 4*lamb4 + 2*lamb5)**2)*mu4)/324. + ((-90*((-9*lamb1)/2. + lamb4 - lamb5)**3 - 180*((9*lamb1)/2. + 2*lamb4 + lamb5)**3 - 90*((-9*lamb1)/2. + lamb4 + 2*lamb5)**3)*mu5)/1215. + ((-135*((9*lamb1)/2. - lamb4 + lamb5)**4 - 135*((-9*lamb1)/2. + lamb4 + 2*lamb5)**4 + (135*(9*lamb1 + 4*lamb4 + 2*lamb5)**4)/8.)*mu6)/4374.)*v1 + (3.3333333333333335 + ((-54*lamb1 - 12*lamb4 - 6*lamb5)*mu3)/27. + ((12*((9*lamb1)/2. - lamb4 + lamb5)**2 + 12*((-9*lamb1)/2. + lamb4 + 2*lamb5)**2 + 12*(9*lamb1 + 4*lamb4 + 2*lamb5)**2)*mu4)/324. + ((20*((-9*lamb1)/2. + lamb4 - lamb5)**3 - 80*((9*lamb1)/2. + 2*lamb4 + lamb5)**3 + 20*((-9*lamb1)/2. + lamb4 + 2*lamb5)**3)*mu5)/1215. + ((30*((9*lamb1)/2. - lamb4 + lamb5)**4 + 30*((-9*lamb1)/2. + lamb4 + 2*lamb5)**4 + (15*(9*lamb1 + 4*lamb4 + 2*lamb5)**4)/2.)*mu6)/4374.)*v4 + (1.6666666666666667 + ((-27*lamb1 - 6*lamb4 + 6*lamb5)*mu3)/27. + ((-12*((9*lamb1)/2. - lamb4 + lamb5)**2 + 24*((-9*lamb1)/2. + lamb4 + 2*lamb5)**2 + 6*(9*lamb1 + 4*lamb4 + 2*lamb5)**2)*mu4)/324. + ((-20*((-9*lamb1)/2. + lamb4 - lamb5)**3 - 40*((9*lamb1)/2. + 2*lamb4 + lamb5)**3 + 40*((-9*lamb1)/2. + lamb4 + 2*lamb5)**3)*mu5)/1215. + ((-30*((9*lamb1)/2. - lamb4 + lamb5)**4 + 60*((-9*lamb1)/2. + lamb4 + 2*lamb5)**4 + (15*(9*lamb1 + 4*lamb4 + 2*lamb5)**4)/4.)*mu6)/4374.)*v5\n",
    "\n",
    "    eq10 = ((-lamb4 - 2*lamb5)*mu3 + ((54*((9*lamb1)/2. - lamb4 + lamb5)**2 - 108*((-9*lamb1)/2. + lamb4 + 2*lamb5)**2 + (27*(9*lamb1 + 4*lamb4 + 2*lamb5)**2)/2.)*mu4)/324. + ((90*((-9*lamb1)/2. + lamb4 - lamb5)**3 - 90*((9*lamb1)/2. + 2*lamb4 + lamb5)**3 - 180*((-9*lamb1)/2. + lamb4 + 2*lamb5)**3)*mu5)/1215. + ((135*((9*lamb1)/2. - lamb4 + lamb5)**4 - 270*((-9*lamb1)/2. + lamb4 + 2*lamb5)**4 + (135*(9*lamb1 + 4*lamb4 + 2*lamb5)**4)/16.)*mu6)/4374.)*v1 + (1.6666666666666667 + ((-27*lamb1 - 6*lamb4 + 6*lamb5)*mu3)/27. + ((-12*((9*lamb1)/2. - lamb4 + lamb5)**2 + 24*((-9*lamb1)/2. + lamb4 + 2*lamb5)**2 + 6*(9*lamb1 + 4*lamb4 + 2*lamb5)**2)*mu4)/324. + ((-20*((-9*lamb1)/2. + lamb4 - lamb5)**3 - 40*((9*lamb1)/2. + 2*lamb4 + lamb5)**3 + 40*((-9*lamb1)/2. + lamb4 + 2*lamb5)**3)*mu5)/1215. + ((-30*((9*lamb1)/2. - lamb4 + lamb5)**4 + 60*((-9*lamb1)/2. + lamb4 + 2*lamb5)**4 + (15*(9*lamb1 + 4*lamb4 + 2*lamb5)**4)/4.)*mu6)/4374.)*v4 + (3.3333333333333335 + ((-54*lamb1 + 6*lamb4 + 12*lamb5)*mu3)/27. + ((12*((9*lamb1)/2. - lamb4 + lamb5)**2 + 48*((-9*lamb1)/2. + lamb4 + 2*lamb5)**2 + 3*(9*lamb1 + 4*lamb4 + 2*lamb5)**2)*mu4)/324. + ((20*((-9*lamb1)/2. + lamb4 - lamb5)**3 - 20*((9*lamb1)/2. + 2*lamb4 + lamb5)**3 + 80*((-9*lamb1)/2. + lamb4 + 2*lamb5)**3)*mu5)/1215. + ((30*((9*lamb1)/2. - lamb4 + lamb5)**4 + 120*((-9*lamb1)/2. + lamb4 + 2*lamb5)**4 + (15*(9*lamb1 + 4*lamb4 + 2*lamb5)**4)/8.)*mu6)/4374.)*v5\n",
    "\n",
    "    # Normalización autovector\n",
    "    eq11 = v1**2 + v2**2 + v3**2 + v4**2 + v5**2 - 1\n",
    "\n",
    "    # Tercera derivada igual a 0\n",
    "    eq12 = 27*lamb3**2*mu5*v1**3 - 27*lamb4**2*mu5*v1**3 - 27*lamb4*lamb5*mu5*v1**3 - 27*lamb5**2*mu5*v1**3 + 15*lamb3**3*mu6*v1**3 + 15*lamb4**3*mu6*v1**3 + (45*lamb4**2*lamb5*mu6*v1**3)/2. - (45*lamb4*lamb5**2*mu6*v1**3)/2. - 15*lamb5**3*mu6*v1**3 + (27*lamb3*mu4*v1**2*v2)/2. + 9*lamb3**2*mu5*v1**2*v2 + 15*lamb3**3*mu6*v1**2*v2 + 6*mu3*v1*v2**2 - 3*lamb3*mu4*v1*v2**2 + 6*lamb3**2*mu5*v1*v2**2 + (10*lamb3**3*mu6*v1*v2**2)/9. - (4*mu3*v2**3)/9. + (2*lamb3*mu4*v2**3)/3. - (4*lamb3**2*mu5*v2**3)/27. + (100*lamb3**3*mu6*v2**3)/243. + 27*lamb3*mu4*v1**2*v3 + 18*lamb3**2*mu5*v1**2*v3 + 30*lamb3**3*mu6*v1**2*v3 + 6*mu3*v1*v2*v3 + 6*lamb3*mu4*v1*v2*v3 + 12*lamb3**2*mu5*v1*v2*v3 + (100*lamb3**3*mu6*v1*v2*v3)/9. - (2*mu3*v2**2*v3)/3. + 2*lamb3*mu4*v2**2*v3 + (4*lamb3**2*mu5*v2**2*v3)/9. + (140*lamb3**3*mu6*v2**2*v3)/81. + 6*mu3*v1*v3**2 + 6*lamb3*mu4*v1*v3**2 + 12*lamb3**2*mu5*v1*v3**2 + (100*lamb3**3*mu6*v1*v3**2)/9. + (2*mu3*v2*v3**2)/3. + 2*lamb3*mu4*v2*v3**2 + (20*lamb3**2*mu5*v2*v3**2)/9. + (220*lamb3**3*mu6*v2*v3**2)/81. + (4*mu3*v3**3)/9. + (4*lamb3*mu4*v3**3)/3. + (40*lamb3**2*mu5*v3**3)/27. + (440*lamb3**3*mu6*v3**3)/243. + (15*lamb1**3*mu6*(729*v1**3 - 4*(v2 - v3)*(2*v2 + v3)*(v2 + 2*v3) + 108*v1*(v2**2 + v2*v3 + v3**2)))/8. - (5*lamb2**3*mu6*(729*v1**3 - 729*v1**2*(2*v2 + v3) + 54*v1*(10*v2**2 + 10*v2*v3 + v3**2) - 4*(2*v2 + v3)*(11*v2**2 + 11*v2*v3 + 5*v3**2)))/243. + (3*lamb1**2*(4*mu5*(-((v2 - v3)*(2*v2 + v3)*(v2 + 2*v3)) + 27*v1*(v2**2 + v2*v3 + v3**2)) + 5*lamb2*mu6*(81*v1**2*(2*v2 + v3) + 18*v1*(-2*v2**2 - 2*v2*v3 + v3**2) + 4*(2*v2 + v3)*(v2**2 + v2*v3 + v3**2)) + 5*lamb3*mu6*(81*v1**2*(v2 + 2*v3) - 18*v1*(v2**2 - 2*v2*v3 - 2*v3**2) + 4*(v2 + 2*v3)*(v2**2 + v2*v3 + v3**2))))/4. + (lamb2**2*(6*mu5*(729*v1**3 - 243*v1**2*(2*v2 + v3) - 4*(2*v2 + v3)*(5*v2**2 + 5*v2*v3 - v3**2) + 162*v1*(2*v2**2 + 2*v2*v3 + v3**2)) + 5*lamb3*mu6*(-729*v1**3 + 1458*v1**2*(v2 + v3) - 108*v1*(5*v2**2 + 2*v2*v3 - v3**2) + 8*(11*v2**3 + 21*v2**2*v3 + 15*v2*v3**2 + 7*v3**3))))/162. + (lamb2*(27*mu4*(81*v1**2*(2*v2 + v3) + 18*v1*(-2*v2**2 - 2*v2*v3 + v3**2) + 4*(2*v2 + v3)*(v2**2 + v2*v3 + v3**2)) + 6*lamb3*mu5*(729*v1**3 + 486*v1**2*(-v2 + v3) + 324*v1*(v2 + v3)**2 - 8*(v2 - v3)*(5*v2**2 + 8*v2*v3 + 5*v3**2)) + 5*lamb3**2*mu6*(729*v1**3 + 1458*v1**2*(v2 + v3) - 108*v1*(v2**2 - 2*v2*v3 - 5*v3**2) + 8*(7*v2**3 + 15*v2**2*v3 + 21*v2*v3**2 + 11*v3**3))))/162. + (lamb1*(9*mu4*(729*v1**3 - 4*(v2 - v3)*(2*v2 + v3)*(v2 + 2*v3) + 108*v1*(v2**2 + v2*v3 + v3**2)) + 2*(3645*(lamb4**2 + lamb4*lamb5 + lamb5**2)*mu6*v1**3 + 18*lamb3*mu5*(81*v1**2*(v2 + 2*v3) - 18*v1*(v2**2 - 2*v2*v3 - 2*v3**2) + 4*(v2 + 2*v3)*(v2**2 + v2*v3 + v3**2)) + 5*lamb2**2*mu6*(729*v1**3 - 243*v1**2*(2*v2 + v3) - 4*(2*v2 + v3)*(5*v2**2 + 5*v2*v3 - v3**2) + 162*v1*(2*v2**2 + 2*v2*v3 + v3**2)) + 5*lamb3**2*mu6*(729*v1**3 + 243*v1**2*(v2 + 2*v3) - 4*(v2 + 2*v3)*(v2**2 - 5*v2*v3 - 5*v3**2) + 162*v1*(v2**2 + 2*v2*v3 + 2*v3**2)) + lamb2*(18*mu5*(81*v1**2*(2*v2 + v3) + 18*v1*(-2*v2**2 - 2*v2*v3 + v3**2) + 4*(2*v2 + v3)*(v2**2 + v2*v3 + v3**2)) + 5*lamb3*mu6*(729*v1**3 + 486*v1**2*(-v2 + v3) + 324*v1*(v2 + v3)**2 - 8*(v2 - v3)*(5*v2**2 + 8*v2*v3 + 5*v3**2))))))/36.\n",
    "\n",
    "    return [eq1, eq2, eq3, eq4, eq5, eq6, eq7, eq8, eq9, eq10, eq11, eq12]\n"
   ]
  },
  {
   "cell_type": "markdown",
   "metadata": {},
   "source": [
    "Hacemos el slice solo en mu5 y dejamos mu6 constante, ya que de esta forma podemos plotear en función de mu3, mu4 y mu5 y obtener una superficie, y por lo tanto poder visualizarla."
   ]
  },
  {
   "cell_type": "code",
   "execution_count": 45,
   "metadata": {},
   "outputs": [],
   "source": [
    "n = 100  # cantidad de puntos\n",
    "# Definimos los mu5 que recorreremos\n",
    "mu50 = 1\n",
    "mu5f = 100\n",
    "mu5list = np.linspace(mu50, mu5f, n)\n",
    "\n",
    "list = []\n",
    "\n",
    "for i in range(len(mu5list)):\n",
    "    # Con este for vamos recorriendo los valores de mu5 y resolvemos las 12 ecuaciones para cada caso\n",
    "    musPlanoCritico = (mu5list[i], 10)\n",
    "    rootPlanoCriticoN6 = optimize.root(eqsPlanoCritico, [1,1,1,1,1,1,1,1,1,1,1,1], args=musPlanoCritico)\n",
    "    list.append([abs(rootPlanoCriticoN6.x[10]), abs(rootPlanoCriticoN6.x[11]), mu5list[i]])\n",
    "\n",
    "list = np.array(list)  # pasamos a np"
   ]
  },
  {
   "cell_type": "code",
   "execution_count": 48,
   "metadata": {},
   "outputs": [
    {
     "data": {
      "text/plain": [
       "array([[9.07654022e-01, 2.54389668e-02, 1.00000000e+00],\n",
       "       [3.04210060e+01, 9.52107979e-04, 2.00000000e+00],\n",
       "       [1.33262821e+00, 4.18902805e-02, 3.00000000e+00],\n",
       "       [3.47842804e+00, 2.07905986e-03, 4.00000000e+00],\n",
       "       [3.48783168e-01, 9.69482040e-04, 5.00000000e+00],\n",
       "       [5.55566520e-02, 8.49919105e-03, 6.00000000e+00],\n",
       "       [7.10647988e-03, 8.62771383e-01, 7.00000000e+00],\n",
       "       [1.08528036e-03, 9.29646859e+01, 8.00000000e+00],\n",
       "       [1.15559370e+02, 2.72344225e+02, 9.00000000e+00],\n",
       "       [1.60023620e+01, 4.08235938e-03, 1.00000000e+01],\n",
       "       [2.00666608e+01, 1.11010690e-03, 1.10000000e+01],\n",
       "       [6.34466751e-04, 1.63654019e+00, 1.20000000e+01],\n",
       "       [4.85334001e+02, 1.58326447e-04, 1.30000000e+01],\n",
       "       [3.32914617e-04, 2.44734604e-01, 1.40000000e+01],\n",
       "       [9.23719228e-01, 5.06135271e-02, 1.50000000e+01],\n",
       "       [1.52385158e-04, 2.98550290e+01, 1.60000000e+01],\n",
       "       [4.71386753e+01, 8.67708194e+01, 1.70000000e+01],\n",
       "       [6.97945884e-05, 3.05437061e-04, 1.80000000e+01],\n",
       "       [1.34572374e+00, 5.72604219e+01, 1.90000000e+01],\n",
       "       [2.20177119e-02, 2.45565551e+01, 2.00000000e+01],\n",
       "       [9.07351273e-01, 3.41445756e+00, 2.10000000e+01],\n",
       "       [1.00275587e-02, 4.31799941e+00, 2.20000000e+01],\n",
       "       [3.03369548e+01, 3.87836774e-02, 2.30000000e+01],\n",
       "       [6.61921291e-02, 8.93123757e+00, 2.40000000e+01],\n",
       "       [1.79053426e-03, 1.34938139e+00, 2.50000000e+01],\n",
       "       [8.10065112e+01, 3.58172522e+02, 2.60000000e+01],\n",
       "       [7.01700534e-02, 6.05975688e+00, 2.70000000e+01],\n",
       "       [7.01734493e+01, 1.36454739e+02, 2.80000000e+01],\n",
       "       [2.12426052e+01, 2.24805652e+01, 2.90000000e+01],\n",
       "       [9.82968725e-06, 1.01852716e+01, 3.00000000e+01],\n",
       "       [6.89617684e-03, 2.91658886e+00, 3.10000000e+01],\n",
       "       [3.26638294e-02, 2.71101244e+01, 3.20000000e+01],\n",
       "       [1.82962841e+01, 3.68832798e+01, 3.30000000e+01],\n",
       "       [7.89794839e+01, 7.14977508e+00, 3.40000000e+01],\n",
       "       [1.74828709e+01, 3.76485552e+01, 3.50000000e+01],\n",
       "       [8.02227241e-04, 7.28406964e+01, 3.60000000e+01],\n",
       "       [5.63255702e-03, 4.88119202e+01, 3.70000000e+01],\n",
       "       [4.65202720e+01, 1.86019743e+02, 3.80000000e+01],\n",
       "       [9.72074589e-03, 1.49907867e+01, 3.90000000e+01],\n",
       "       [2.50225103e-02, 1.30992207e+00, 4.00000000e+01],\n",
       "       [1.07869249e-02, 6.24880690e+01, 4.10000000e+01],\n",
       "       [7.41220991e-05, 8.28659821e+00, 4.20000000e+01],\n",
       "       [1.75670042e-02, 2.19031625e-01, 4.30000000e+01],\n",
       "       [1.62611477e-03, 1.69359710e+01, 4.40000000e+01],\n",
       "       [2.82273577e-03, 1.74844956e+01, 4.50000000e+01],\n",
       "       [9.45321485e+00, 5.07839122e-01, 4.60000000e+01],\n",
       "       [1.18821204e-03, 1.42612270e+01, 4.70000000e+01],\n",
       "       [4.99742991e-04, 1.83096400e+00, 4.80000000e+01],\n",
       "       [1.00920848e-01, 5.83422002e+01, 4.90000000e+01],\n",
       "       [8.57733886e-02, 4.41899993e+01, 5.00000000e+01],\n",
       "       [1.64473340e+02, 2.05680583e+02, 5.10000000e+01],\n",
       "       [3.18064063e-02, 7.95477496e+01, 5.20000000e+01],\n",
       "       [3.11243021e-03, 1.08426275e+01, 5.30000000e+01],\n",
       "       [6.44035577e-03, 1.26884956e+00, 5.40000000e+01],\n",
       "       [4.32759897e-04, 3.40481601e+00, 5.50000000e+01],\n",
       "       [1.03033585e-03, 3.29869912e+01, 5.60000000e+01],\n",
       "       [3.40132183e+00, 7.67368738e+00, 5.70000000e+01],\n",
       "       [3.97345570e-04, 2.19615768e-01, 5.80000000e+01],\n",
       "       [3.12888867e-02, 1.67581741e+01, 5.90000000e+01],\n",
       "       [9.47339902e-03, 1.84691729e+01, 6.00000000e+01],\n",
       "       [9.64418294e-03, 1.33395121e+01, 6.10000000e+01],\n",
       "       [3.70151169e+01, 4.45491513e+01, 6.20000000e+01],\n",
       "       [2.24221250e-02, 1.86992669e+01, 6.30000000e+01],\n",
       "       [1.19360570e-01, 6.77278357e-04, 6.40000000e+01],\n",
       "       [2.20436166e-03, 1.40052630e+01, 6.50000000e+01],\n",
       "       [7.49905331e-03, 4.87555373e+01, 6.60000000e+01],\n",
       "       [1.24741196e-02, 6.03150045e+00, 6.70000000e+01],\n",
       "       [7.26202914e+01, 1.71782161e+02, 6.80000000e+01],\n",
       "       [9.94850769e+01, 1.99342274e-01, 6.90000000e+01],\n",
       "       [4.94616457e+02, 2.55758175e+00, 7.00000000e+01],\n",
       "       [6.57974486e-04, 1.83210488e+02, 7.10000000e+01],\n",
       "       [1.15228995e-04, 3.82616262e+01, 7.20000000e+01],\n",
       "       [4.85775375e-03, 3.43832149e+01, 7.30000000e+01],\n",
       "       [1.48102137e-03, 1.12370735e+01, 7.40000000e+01],\n",
       "       [4.00938802e-04, 1.31954473e+01, 7.50000000e+01],\n",
       "       [3.68097191e+01, 9.90942170e+01, 7.60000000e+01],\n",
       "       [8.60472706e-04, 2.71798226e+01, 7.70000000e+01],\n",
       "       [5.34854523e-03, 7.32346930e+01, 7.80000000e+01],\n",
       "       [9.20087030e-04, 1.34375796e-01, 7.90000000e+01],\n",
       "       [6.35956442e-01, 1.67406827e+00, 8.00000000e+01],\n",
       "       [3.46917588e-04, 2.71105391e+01, 8.10000000e+01],\n",
       "       [6.09189778e+01, 1.19633455e+02, 8.20000000e+01],\n",
       "       [7.34825967e+02, 3.53492227e+00, 8.30000000e+01],\n",
       "       [1.21647276e-02, 2.73914491e+01, 8.40000000e+01],\n",
       "       [5.96411035e-03, 7.48473353e+00, 8.50000000e+01],\n",
       "       [9.27725011e-04, 1.48071551e+01, 8.60000000e+01],\n",
       "       [1.68083800e-01, 4.76761988e+00, 8.70000000e+01],\n",
       "       [9.96434948e-01, 1.37918436e-01, 8.80000000e+01],\n",
       "       [6.46125531e-03, 3.87660212e+00, 8.90000000e+01],\n",
       "       [1.76071135e-03, 8.61270143e+01, 9.00000000e+01],\n",
       "       [4.70560756e+00, 1.25196188e+01, 9.10000000e+01],\n",
       "       [4.31300149e-03, 8.30789837e+01, 9.20000000e+01],\n",
       "       [7.74188502e-03, 7.90908635e+01, 9.30000000e+01],\n",
       "       [1.61672974e-04, 8.62918541e+00, 9.40000000e+01],\n",
       "       [5.43542206e-03, 1.14702931e+01, 9.50000000e+01],\n",
       "       [2.76861503e+01, 5.81502314e+01, 9.60000000e+01],\n",
       "       [3.76459406e-04, 1.62331593e+01, 9.70000000e+01],\n",
       "       [7.09151716e-03, 8.90721722e+00, 9.80000000e+01],\n",
       "       [2.43212905e-01, 1.17153484e+01, 9.90000000e+01],\n",
       "       [5.96686321e-04, 3.64627204e+01, 1.00000000e+02]])"
      ]
     },
     "execution_count": 48,
     "metadata": {},
     "output_type": "execute_result"
    }
   ],
   "source": [
    "list"
   ]
  },
  {
   "cell_type": "markdown",
   "metadata": {},
   "source": [
    "Reshepeamos y guardamos los datos en un .csv.\n",
    "\n",
    "Luego en Mathematica ocupamos:\n",
    "\n",
    "file = Import[\".../matrix.csv\", \"Data\"];\n",
    "matrix = ArrayReshape[file, {100, 3}]"
   ]
  },
  {
   "cell_type": "code",
   "execution_count": 54,
   "metadata": {},
   "outputs": [],
   "source": [
    "listreshape = list.reshape(1,300)\n",
    "np.savetxt(\"matrix.csv\", listreshape, delimiter=',')"
   ]
  },
  {
   "cell_type": "code",
   "execution_count": null,
   "metadata": {},
   "outputs": [],
   "source": []
  }
 ],
 "metadata": {
  "kernelspec": {
   "display_name": "Python 3.8.8 ('base')",
   "language": "python",
   "name": "python3"
  },
  "language_info": {
   "codemirror_mode": {
    "name": "ipython",
    "version": 3
   },
   "file_extension": ".py",
   "mimetype": "text/x-python",
   "name": "python",
   "nbconvert_exporter": "python",
   "pygments_lexer": "ipython3",
   "version": "3.8.8"
  },
  "orig_nbformat": 4,
  "vscode": {
   "interpreter": {
    "hash": "ef9976fb54af8ee8df79066cc870653b1489938a47ac38ebc1c5562e362a13ad"
   }
  }
 },
 "nbformat": 4,
 "nbformat_minor": 2
}
